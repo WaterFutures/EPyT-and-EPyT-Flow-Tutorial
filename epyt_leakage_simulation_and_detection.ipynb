{
 "cells": [
  {
   "cell_type": "markdown",
   "id": "5b4d80c8378e6208",
   "metadata": {},
   "source": [
    "## Leakage Simulation and Detection"
   ]
  },
  {
   "cell_type": "markdown",
   "id": "13de5d565e358b71",
   "metadata": {},
   "source": [
    "### Initialize EPANET Python Toolkit (EPyT)\n",
    "\n",
    "You should always begin with this command to import the toolkit.\n",
    "\n",
    "[EPyT](https://github.com/OpenWaterAnalytics/EPyT) is available on [PyPI](https://pypi.org/project/epyt/) and can be installed via `pip install epyt`. To upgrade to the latest version if it's already installed, use `pip install --upgrade epyt`."
   ]
  },
  {
   "cell_type": "code",
   "execution_count": null,
   "id": "3092f609-265d-44ec-877c-bcb7d7f03190",
   "metadata": {},
   "outputs": [],
   "source": [
    "%pip install epyt"
   ]
  },
  {
   "cell_type": "code",
   "execution_count": null,
   "id": "8e6dec8e9e9b12ff",
   "metadata": {
    "ExecuteTime": {
     "end_time": "2024-06-19T09:02:53.382274Z",
     "start_time": "2024-06-19T09:02:48.789183Z"
    }
   },
   "outputs": [],
   "source": [
    "from epyt import epanet"
   ]
  },
  {
   "cell_type": "markdown",
   "id": "ce2cc492c4061fea",
   "metadata": {},
   "source": [
    "<img src=\"icons/large_leakage.png\" alt=\"Large Leakage\" style=\"display: inline-block; width: 50%; height: 50%;\">\n",
    "<img src=\"icons/fire-fighting.png\" alt=\"Fire-Fighting\" style=\"display: inline-block; width: 50%; height: 50%;\">"
   ]
  },
  {
   "cell_type": "markdown",
   "id": "5c3395e7f1cb58e4",
   "metadata": {},
   "source": [
    "### How pressure changes during large leakages and fire-fighting"
   ]
  },
  {
   "cell_type": "markdown",
   "id": "f91b00fad751a5eb",
   "metadata": {},
   "source": [
    "When flow is increased within the network, e.g., due to fire-fighting, the pressure changes near that location. Investigate this change, at `node '32'."
   ]
  },
  {
   "cell_type": "code",
   "execution_count": null,
   "id": "f29cce4bdd1856b2",
   "metadata": {
    "ExecuteTime": {
     "end_time": "2024-06-19T09:02:53.523944Z",
     "start_time": "2024-06-19T09:02:53.385478Z"
    }
   },
   "outputs": [],
   "source": [
    "G = epanet('data/Net1.inp')"
   ]
  },
  {
   "cell_type": "code",
   "execution_count": null,
   "id": "8ecb2495e0b87de7",
   "metadata": {
    "ExecuteTime": {
     "end_time": "2024-06-19T09:02:54.185186Z",
     "start_time": "2024-06-19T09:02:53.525949Z"
    }
   },
   "outputs": [],
   "source": [
    "nodeID = '32'\n",
    "G.plot(highlightnode=nodeID)\n",
    "G.plot_close()"
   ]
  },
  {
   "cell_type": "markdown",
   "id": "a1301bd92846b8a",
   "metadata": {},
   "source": [
    "#### During fire-fighting, the base demand may increase up to x5. Will there be sufficient pressure?"
   ]
  },
  {
   "cell_type": "code",
   "execution_count": null,
   "id": "8740a2342b267956",
   "metadata": {
    "ExecuteTime": {
     "end_time": "2024-06-19T09:02:54.194081Z",
     "start_time": "2024-06-19T09:02:54.187305Z"
    }
   },
   "outputs": [],
   "source": [
    "idx = G.getNodeIndex(nodeID)\n",
    "G.printv(idx)"
   ]
  },
  {
   "cell_type": "code",
   "execution_count": null,
   "id": "822d1137bf20dc85",
   "metadata": {
    "ExecuteTime": {
     "end_time": "2024-06-19T09:02:54.208358Z",
     "start_time": "2024-06-19T09:02:54.199564Z"
    }
   },
   "outputs": [],
   "source": [
    "bd = G.getNodeBaseDemands(idx)[1]\n",
    "G.printv(bd)"
   ]
  },
  {
   "cell_type": "code",
   "execution_count": null,
   "id": "cce26b2acc081bf5",
   "metadata": {
    "ExecuteTime": {
     "end_time": "2024-06-19T09:02:54.221722Z",
     "start_time": "2024-06-19T09:02:54.212473Z"
    }
   },
   "outputs": [],
   "source": [
    "# Demand multiplicator\n",
    "demand_multi = 8 \n",
    "G.printv(demand_multi)"
   ]
  },
  {
   "cell_type": "code",
   "execution_count": null,
   "id": "f4ad76ac5d455dce",
   "metadata": {
    "ExecuteTime": {
     "end_time": "2024-06-19T09:02:54.235822Z",
     "start_time": "2024-06-19T09:02:54.225251Z"
    }
   },
   "outputs": [],
   "source": [
    "import numpy as np\n",
    "\n",
    "# Create the different threads\n",
    "d32 = bd * np.arange(1, demand_multi + 1) \n",
    "G.printv(d32)"
   ]
  },
  {
   "cell_type": "code",
   "execution_count": null,
   "id": "8ce635eb2c8b9bb4",
   "metadata": {
    "ExecuteTime": {
     "end_time": "2024-06-19T09:02:54.582932Z",
     "start_time": "2024-06-19T09:02:54.241290Z"
    }
   },
   "outputs": [],
   "source": [
    "# Initialize variable\n",
    "p32min = np.zeros(len(d32))\n",
    "for i, demand_value in enumerate(d32):\n",
    "    G.setNodeBaseDemands(idx, demand_value)\n",
    "    py_idx = idx - 1\n",
    "    p32 = G.getComputedHydraulicTimeSeries().Pressure[:, py_idx]\n",
    "    p32min[i] = np.min(p32)"
   ]
  },
  {
   "cell_type": "markdown",
   "id": "1e6cc50cc6e21b8d",
   "metadata": {},
   "source": [
    "#### Plot demand vs pressure"
   ]
  },
  {
   "cell_type": "code",
   "execution_count": null,
   "id": "864433109d62f6dd",
   "metadata": {
    "ExecuteTime": {
     "end_time": "2024-06-19T09:02:55.547108Z",
     "start_time": "2024-06-19T09:02:54.585934Z"
    }
   },
   "outputs": [],
   "source": [
    "import matplotlib.pyplot as plt\n",
    "\n",
    "fig, ax = plt.subplots(figsize=(4, 3))\n",
    "fig.set_figwidth(8)\n",
    "ax.plot(d32, p32min, 'x-')\n",
    "ax.grid(True)\n",
    "ax.set_title(\"Plot demand vs pressure\", fontsize=10)\n",
    "ax.set_xlabel(f\"Base demand (m\\u00B3/h)\", fontsize=8)\n",
    "ax.set_ylabel(\"Pressure (psi)\", fontsize=8)\n",
    "plt.show()"
   ]
  },
  {
   "cell_type": "markdown",
   "id": "2758390f373c3735",
   "metadata": {},
   "source": [
    "##### How about those negative pressures?"
   ]
  },
  {
   "cell_type": "markdown",
   "id": "bf02f55fab131b34",
   "metadata": {},
   "source": [
    "### Pressure Driven Simulations\n",
    "\n",
    "##### When the pressure is low, it should approximate zero. This is not the default mode of operation in EPANET. However, it's easy to set it up:"
   ]
  },
  {
   "cell_type": "code",
   "execution_count": null,
   "id": "5e1b88c0e0a82e2c",
   "metadata": {
    "ExecuteTime": {
     "end_time": "2024-06-19T09:02:55.554828Z",
     "start_time": "2024-06-19T09:02:55.547108Z"
    }
   },
   "outputs": [],
   "source": [
    "type = 'PDA'\n",
    "pmin = 0\n",
    "preq = 0.1\n",
    "pexp = 0.5\n",
    "G.setDemandModel(type, pmin, preq, pexp)"
   ]
  },
  {
   "cell_type": "markdown",
   "id": "960ef6a43c91da15",
   "metadata": {},
   "source": [
    "Let's try this again"
   ]
  },
  {
   "cell_type": "code",
   "execution_count": null,
   "id": "b29c25655136502",
   "metadata": {
    "ExecuteTime": {
     "end_time": "2024-06-19T09:02:55.564841Z",
     "start_time": "2024-06-19T09:02:55.554828Z"
    }
   },
   "outputs": [],
   "source": [
    "# Demand multiplicator\n",
    "demand_multi = 10 \n",
    "G.printv(demand_multi)"
   ]
  },
  {
   "cell_type": "code",
   "execution_count": null,
   "id": "e60ba1a6f1cfa166",
   "metadata": {
    "ExecuteTime": {
     "end_time": "2024-06-19T09:02:55.575620Z",
     "start_time": "2024-06-19T09:02:55.564841Z"
    }
   },
   "outputs": [],
   "source": [
    "# Create the different threads\n",
    "d32 = bd * np.arange(1, demand_multi + 1) \n",
    "G.printv(d32)"
   ]
  },
  {
   "cell_type": "code",
   "execution_count": null,
   "id": "414914863eb6d14d",
   "metadata": {
    "ExecuteTime": {
     "end_time": "2024-06-19T09:02:56.450643Z",
     "start_time": "2024-06-19T09:02:55.575620Z"
    }
   },
   "outputs": [],
   "source": [
    "# Initialize variable\n",
    "p32min = np.zeros(len(d32)) \n",
    "\n",
    "for i, demand_value in enumerate(d32):\n",
    "    G.setNodeBaseDemands(idx, demand_value)\n",
    "    p32 = G.getComputedHydraulicTimeSeries().Pressure[:, idx-1]\n",
    "    p32min[i] = np.min(p32)\n",
    "\n",
    "# Plot\n",
    "fig, ax = plt.subplots(figsize=(4, 3))\n",
    "fig.set_figwidth(8)\n",
    "ax.plot(d32, p32min, 'x-')\n",
    "ax.grid(True)\n",
    "ax.set_title(\"Plot demand vs pressure\", fontsize=10)\n",
    "ax.set_xlabel(f\"Base demand (m\\u00B3/h)\", fontsize=8)\n",
    "ax.set_ylabel(\"Pressure (psi)\", fontsize=8)\n",
    "plt.show()"
   ]
  },
  {
   "cell_type": "code",
   "execution_count": null,
   "id": "81d3f1ab914c69b2",
   "metadata": {
    "ExecuteTime": {
     "end_time": "2024-06-19T09:02:56.466443Z",
     "start_time": "2024-06-19T09:02:56.455793Z"
    }
   },
   "outputs": [],
   "source": [
    "G.unload()"
   ]
  },
  {
   "cell_type": "markdown",
   "id": "57829e00a5393206",
   "metadata": {},
   "source": [
    "### Leakage Simulations\n",
    "#### Load network amd set simulation duration and hydraulic step"
   ]
  },
  {
   "cell_type": "code",
   "execution_count": null,
   "id": "2aca29e6c503a249",
   "metadata": {
    "ExecuteTime": {
     "end_time": "2024-06-19T09:02:56.548032Z",
     "start_time": "2024-06-19T09:02:56.468447Z"
    }
   },
   "outputs": [],
   "source": [
    "d=epanet('data/Hanoi_pat.inp')\n",
    "\n",
    "d.setTimeSimulationDuration(7*24*60*60)\n",
    "d.setTimeHydraulicStep(300)"
   ]
  },
  {
   "cell_type": "markdown",
   "id": "c25e556473227292",
   "metadata": {},
   "source": [
    "#### Simulate without leak"
   ]
  },
  {
   "cell_type": "code",
   "execution_count": null,
   "id": "966a81a33ce272a7",
   "metadata": {
    "ExecuteTime": {
     "end_time": "2024-06-19T09:02:59.554217Z",
     "start_time": "2024-06-19T09:02:56.561294Z"
    }
   },
   "outputs": [],
   "source": [
    "sim_leak_free = d.getComputedHydraulicTimeSeries()\n",
    "print(d.getAllAttributes(sim_leak_free))"
   ]
  },
  {
   "cell_type": "markdown",
   "id": "827a0bab4fa6b9fe",
   "metadata": {},
   "source": [
    "##### Get inflow without leak and create measurements by inserting random noise"
   ]
  },
  {
   "cell_type": "code",
   "execution_count": null,
   "id": "dbbaa436940626a7",
   "metadata": {
    "ExecuteTime": {
     "end_time": "2024-06-19T09:02:59.566205Z",
     "start_time": "2024-06-19T09:02:59.554217Z"
    }
   },
   "outputs": [],
   "source": [
    "res_ind = d.getNodeReservoirIndex()\n",
    "res_link = [np.where(d.NodesConnectingLinksIndex[:, 0] == idx)[0][0] for idx in res_ind]\n",
    "Inflow1 = sim_leak_free.Flow[:, res_link] # Inflow\n",
    "eta = np.random.rand(len(Inflow1),1) * np.mean(Inflow1) * 0.0001\n",
    "y1 = Inflow1 * (1 + eta) # Measured inflow"
   ]
  },
  {
   "cell_type": "markdown",
   "id": "21e93703712ad2b0",
   "metadata": {},
   "source": [
    "#### Simulate leakage"
   ]
  },
  {
   "cell_type": "code",
   "execution_count": null,
   "id": "e4fc40d5ef8ebac4",
   "metadata": {
    "ExecuteTime": {
     "end_time": "2024-06-19T09:03:02.105318Z",
     "start_time": "2024-06-19T09:02:59.566205Z"
    }
   },
   "outputs": [],
   "source": [
    "leak_node = 10\n",
    "leak_emit = 20  # Random leak emitter coefficient [2 20]\n",
    "emit = d.getNodeEmitterCoeff()\n",
    "emit = np.zeros_like(emit)\n",
    "emit[leak_node-1] = leak_emit  # Set emitter coefficient (leakage) value\n",
    "d.setNodeEmitterCoeff(emit)\n",
    "sim_leak = d.getComputedHydraulicTimeSeries()"
   ]
  },
  {
   "cell_type": "markdown",
   "id": "bcd7f1616bfe5fbb",
   "metadata": {},
   "source": [
    "##### Get inflow with leak and create measurements by inserting random noise"
   ]
  },
  {
   "cell_type": "code",
   "execution_count": null,
   "id": "aa8a9648377738ab",
   "metadata": {
    "ExecuteTime": {
     "end_time": "2024-06-19T09:03:02.782456Z",
     "start_time": "2024-06-19T09:03:02.105318Z"
    }
   },
   "outputs": [],
   "source": [
    "res_ind = d.getNodeReservoirIndex()\n",
    "res_link = [np.where(d.NodesConnectingLinksIndex[:, 0] == idx)[0][0] for idx in res_ind]\n",
    "Inflow2 = sim_leak.Flow[:, res_link]  # inflow\n",
    "Inflow2[:3*288] = Inflow1[:3*288]  # change leak start time\n",
    "eta = np.random.rand(len(Inflow2),1) * np.mean(Inflow1) * 0.0001\n",
    "y2 = Inflow2 * (1 + eta)  # measured inflow\n",
    "\n",
    "fig, ax = plt.subplots(figsize=(4, 3))\n",
    "fig.set_figwidth(8)\n",
    "plt.plot(y1, color='blue', label='leak free')\n",
    "plt.grid(True)\n",
    "plt.plot(y2, color='red', label='with leak')\n",
    "plt.legend(loc='upper right')\n",
    "plt.title('Network Inflow')\n",
    "plt.show()"
   ]
  },
  {
   "cell_type": "markdown",
   "id": "573329e6a795c7d",
   "metadata": {},
   "source": [
    "##### Plot leakage location"
   ]
  },
  {
   "cell_type": "code",
   "execution_count": null,
   "id": "eebe28cd6c9b2ede",
   "metadata": {
    "ExecuteTime": {
     "end_time": "2024-06-19T09:03:03.432378Z",
     "start_time": "2024-06-19T09:03:02.782456Z"
    }
   },
   "outputs": [],
   "source": [
    "leak_node_id = d.getNodeNameID(leak_node)\n",
    "\n",
    "# Get node coordinates\n",
    "coor = d.getNodeCoordinates()\n",
    "x_nodes = list(coor['x'].values())\n",
    "y_nodes = list(coor['y'].values())\n",
    "\n",
    "# Get links connecting nodes\n",
    "links = d.getNodesConnectingLinksIndex()\n",
    "\n",
    "# Plot the network manually\n",
    "fig, ax = plt.subplots(figsize=(10, 6), dpi=100)\n",
    "for link in links:\n",
    "    x_coords = [coor['x'][link[0]], coor['x'][link[1]]]\n",
    "    y_coords = [coor['y'][link[0]], coor['y'][link[1]]]\n",
    "    ax.plot(x_coords, y_coords, color='steelblue', linewidth=0.7)\n",
    "\n",
    "ax.axis('off')\n",
    "\n",
    "# Plot nodes\n",
    "ax.scatter(x_nodes, y_nodes, color='blue', s=10, zorder=5)\n",
    "\n",
    "# Add plot point for the leak node\n",
    "x_leak = coor['x'][leak_node]\n",
    "y_leak = coor['y'][leak_node]\n",
    "\n",
    "# Plot the leak node with a higher zorder\n",
    "ax.plot(x_leak, y_leak, 'o', color='r', markersize=12, zorder=10)\n",
    "ax.text(x_leak + 60, y_leak, leak_node_id, color='black', fontweight='bold', fontsize=11, zorder=10)\n",
    "\n",
    "# Set the title and show the plot\n",
    "ax.set_title('Leakage location', fontweight='bold')\n",
    "plt.show()\n"
   ]
  },
  {
   "cell_type": "markdown",
   "id": "8e38235f3f86a5cf",
   "metadata": {},
   "source": [
    "### Leakage Detection\n",
    "#### Minimum Night Flow Analysis\n",
    "\n",
    "<img src=\"icons/leakage_detection.png\" alt=\"Leakage Detection\" style=\"width: 60%; height: 60%;\">\n",
    "\n",
    "- Basic idea is that each night the uncertainty is low\n",
    "- Demand is low\n",
    "- Pressure is high\n",
    "- Easier to detect leakages"
   ]
  },
  {
   "cell_type": "code",
   "execution_count": null,
   "id": "5180b5926f5f2f52",
   "metadata": {
    "ExecuteTime": {
     "end_time": "2024-06-19T09:03:03.441820Z",
     "start_time": "2024-06-19T09:03:03.433406Z"
    }
   },
   "outputs": [],
   "source": [
    "# compute the minimum flow for each day\n",
    "Y = np.reshape(y2[1:], (288, 7))\n",
    "print('Y = ', Y.shape)\n",
    "d.printv(Y)"
   ]
  },
  {
   "cell_type": "code",
   "execution_count": null,
   "id": "64e520af5d00c90d",
   "metadata": {
    "ExecuteTime": {
     "end_time": "2024-06-19T09:03:03.450518Z",
     "start_time": "2024-06-19T09:03:03.441820Z"
    }
   },
   "outputs": [],
   "source": [
    "MF = np.min(Y, axis=0)\n",
    "d.printv(MF)"
   ]
  },
  {
   "cell_type": "code",
   "execution_count": null,
   "id": "5fa38b1c2a28e5d",
   "metadata": {
    "ExecuteTime": {
     "end_time": "2024-06-19T09:03:03.978181Z",
     "start_time": "2024-06-19T09:03:03.450518Z"
    }
   },
   "outputs": [],
   "source": [
    "# Calculate change indices based on threshold\n",
    "threshold = 3\n",
    "changeIndices = np.abs(np.diff(MF)) > threshold  # Find where the absolute difference between consecutive elements is greater than the threshold\n",
    "changeIndices = np.insert(changeIndices, 0, False)  # Add False at the beginning to align with MF length\n",
    "\n",
    "# Create a new figure and axis for plotting\n",
    "fig, ax = plt.subplots(figsize=(8, 3))\n",
    "\n",
    "# Plot the original data\n",
    "ax.plot(MF, color='blue', label='Input data')\n",
    "\n",
    "# Plot the segment mean (in this case, it's the same as the original data)\n",
    "ax.plot(MF, color='grey', label='Segment mean')\n",
    "\n",
    "# Find the indices where changes occur\n",
    "indices = np.where(changeIndices)[0]\n",
    "x = np.repeat(indices, 3)  # Repeat each index 3 times to align with y3 for plotting vertical lines\n",
    "\n",
    "# Get the current y-axis limits\n",
    "ymin, ymax = ax.get_ylim()\n",
    "ylim_nan_column = np.array([ymin, ymax, np.nan])  # Array to create vertical lines that span the y-axis\n",
    "\n",
    "# Count the number of change points\n",
    "nnz_changeIndices = np.count_nonzero(changeIndices)\n",
    "print(\"Number of change points:\", nnz_changeIndices)\n",
    "\n",
    "# Create y-coordinates for change points using tile and flatten\n",
    "y3 = np.tile(ylim_nan_column, (nnz_changeIndices, 1)).flatten()\n",
    "\n",
    "# Plot the change points as green vertical dashed lines\n",
    "ax.plot(x, y3, color='green', linestyle='--', label='Change points')\n",
    "\n",
    "# Set the title to show the number of change points\n",
    "ax.set_title(f'Number of change points: {np.count_nonzero(changeIndices)}')\n",
    "\n",
    "# Add a legend in the upper right corner\n",
    "ax.legend(loc='upper right')\n",
    "\n",
    "# Display the plot\n",
    "plt.show()"
   ]
  },
  {
   "cell_type": "markdown",
   "id": "d0ae277e4d6a4c59",
   "metadata": {},
   "source": [
    "#### Detecting changes\n",
    "- Change detection algorithms\n",
    "- Limit checking, change in mean\n",
    "- Cumulative Sum (CUSUM)"
   ]
  },
  {
   "cell_type": "markdown",
   "id": "580ff06f5c6921d5",
   "metadata": {},
   "source": [
    "##### Limit checking, the most simple detection algorithm"
   ]
  },
  {
   "cell_type": "code",
   "execution_count": null,
   "id": "a66b9e1a8ce486d5",
   "metadata": {
    "ExecuteTime": {
     "end_time": "2024-06-19T09:03:03.987272Z",
     "start_time": "2024-06-19T09:03:03.978181Z"
    }
   },
   "outputs": [],
   "source": [
    "threshold = 30\n",
    "d.printv(threshold)"
   ]
  },
  {
   "cell_type": "code",
   "execution_count": null,
   "id": "3f9614e2140a5456",
   "metadata": {
    "ExecuteTime": {
     "end_time": "2024-06-19T09:03:03.996670Z",
     "start_time": "2024-06-19T09:03:03.987272Z"
    }
   },
   "outputs": [],
   "source": [
    "alert = MF-MF[0] > threshold\n",
    "d.printv(alert)"
   ]
  },
  {
   "cell_type": "code",
   "execution_count": null,
   "id": "43f0324cbc9d8649",
   "metadata": {
    "ExecuteTime": {
     "end_time": "2024-06-19T09:03:04.242995Z",
     "start_time": "2024-06-19T09:03:03.996670Z"
    }
   },
   "outputs": [],
   "source": [
    "fig = plt.figure()\n",
    "plt.plot(alert, 'r-')\n",
    "fig.set_figwidth(8)\n",
    "plt.show()"
   ]
  },
  {
   "cell_type": "markdown",
   "id": "3a1b7436d500797d",
   "metadata": {},
   "source": [
    "##### A different approach would be to take a window of minimum (night) flows, and compare them with the new minimum flow. If it exceeds a precalculated distance, the issue an alert."
   ]
  }
 ],
 "metadata": {
  "kernelspec": {
   "display_name": "Python 3 (Spyder)",
   "language": "python3",
   "name": "python3"
  },
  "language_info": {
   "codemirror_mode": {
    "name": "ipython",
    "version": 3
   },
   "file_extension": ".py",
   "mimetype": "text/x-python",
   "name": "python",
   "nbconvert_exporter": "python",
   "pygments_lexer": "ipython3",
   "version": "3.10.14"
  }
 },
 "nbformat": 4,
 "nbformat_minor": 5
}
