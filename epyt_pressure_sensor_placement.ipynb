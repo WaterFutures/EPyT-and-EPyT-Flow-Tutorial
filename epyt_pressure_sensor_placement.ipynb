{
 "cells": [
  {
   "cell_type": "markdown",
   "id": "b373fb39b2fc7233",
   "metadata": {},
   "source": [
    "## Pressure sensor placement for leakage detection\n"
   ]
  },
  {
   "cell_type": "markdown",
   "id": "bfbb9f05c2a97570",
   "metadata": {},
   "source": [
    "### Initialize EPANET Python Toolkit (EPyT)\n",
    "\n",
    "You should always begin with this command to import the toolkit.\n",
    "\n",
    "[EPyT](https://github.com/OpenWaterAnalytics/EPyT) is available on [PyPI](https://pypi.org/project/epyt/) and can be installed via `pip install epyt`. To upgrade to the latest version if it's already installed, use `pip install --upgrade epyt`."
   ]
  },
  {
   "cell_type": "code",
   "execution_count": null,
   "id": "3b4bf326-a708-4eca-a425-d5698c7e72c4",
   "metadata": {},
   "outputs": [],
   "source": [
    "%pip install epyt pymoo"
   ]
  },
  {
   "cell_type": "code",
   "execution_count": null,
   "id": "663277d9-1552-4e44-a761-7db13a01f2a6",
   "metadata": {},
   "outputs": [],
   "source": [
    "%pip install numpy==1.23"
   ]
  },
  {
   "cell_type": "markdown",
   "id": "06b93fbf-df5e-460d-8641-bdc6a5e2d746",
   "metadata": {},
   "source": [
    "### Download data"
   ]
  },
  {
   "cell_type": "code",
   "execution_count": null,
   "id": "44d7a311-0286-438a-a17f-e797f0d66e97",
   "metadata": {},
   "outputs": [],
   "source": [
    "import requests\n",
    "\n",
    "url = \"https://raw.githubusercontent.com/WaterFutures/EPyT-and-EPyT-Flow-Tutorial/main/data/Hanoi.inp?token=GHSAT0AAAAAACTQ7OWEQMMHP5BC7ZRAI5JKZT5MS7A\"\n",
    "file_path = \"Hanoi.inp\"\n",
    "\n",
    "try:\n",
    "    response = requests.get(url)\n",
    "    response.raise_for_status()  # Check if the request was successful\n",
    "    with open(file_path, 'wb') as file:\n",
    "        file.write(response.content)\n",
    "    print(f\"File downloaded and saved as {file_path}\")\n",
    "except requests.exceptions.HTTPError as err:\n",
    "    print(f\"HTTP error occurred: {err}\")\n",
    "except Exception as err:\n",
    "    print(f\"An error occurred: {err}\")\n"
   ]
  },
  {
   "cell_type": "code",
   "execution_count": null,
   "id": "49305b4dca801a4e",
   "metadata": {
    "ExecuteTime": {
     "end_time": "2024-06-19T08:41:32.627387Z",
     "start_time": "2024-06-19T08:41:29.666478Z"
    }
   },
   "outputs": [],
   "source": [
    "from epyt import epanet\n",
    "\n",
    "import numpy as np\n",
    "\n",
    "from pymoo.core.problem import Problem\n",
    "from pymoo.algorithms.soo.nonconvex.ga import GA\n",
    "from pymoo.optimize import minimize\n",
    "from pymoo.operators.sampling.rnd import IntegerRandomSampling\n",
    "from pymoo.operators.crossover.sbx import SimulatedBinaryCrossover\n",
    "from pymoo.operators.mutation.pm import PolynomialMutation\n",
    "import matplotlib.pyplot as plt"
   ]
  },
  {
   "cell_type": "markdown",
   "id": "f1fde74f392df263",
   "metadata": {},
   "source": [
    "### Water Network"
   ]
  },
  {
   "cell_type": "code",
   "execution_count": null,
   "id": "34900b84dbc1dad6",
   "metadata": {
    "ExecuteTime": {
     "end_time": "2024-06-19T08:41:32.674793Z",
     "start_time": "2024-06-19T08:41:32.627387Z"
    }
   },
   "outputs": [],
   "source": [
    "# Load the water network model\n",
    "d=epanet('Hanoi.inp')"
   ]
  },
  {
   "cell_type": "code",
   "execution_count": null,
   "id": "9e5869448678ce60",
   "metadata": {
    "ExecuteTime": {
     "end_time": "2024-06-19T08:41:32.687314Z",
     "start_time": "2024-06-19T08:41:32.674793Z"
    }
   },
   "outputs": [],
   "source": [
    "# Get the number of junctions and nodes\n",
    "nj = d.getNodeJunctionCount()\n",
    "nn = d.getNodeCount()\n",
    "d.printv(nj)\n",
    "d.printv(nn)"
   ]
  },
  {
   "cell_type": "code",
   "execution_count": null,
   "id": "e007cc35-1a30-45c0-b773-a72d2884b721",
   "metadata": {},
   "outputs": [],
   "source": [
    "reservoir_indices = d.getNodeReservoirIndex()\n",
    "junction_indices = d.getNodeJunctionIndex()\n",
    "junction_indices_py = np.array(junction_indices) - 1\n",
    "\n",
    "d.printv(reservoir_indices)\n",
    "d.printv(junction_indices_py) "
   ]
  },
  {
   "cell_type": "markdown",
   "id": "9a93d55c3a472f7c",
   "metadata": {},
   "source": [
    "### Calculate Sensitivity matrix\n",
    "[1] Cugueró , M., Puig, V., Quevedo, J. Optimal pressure sensor placement and assessment for leak location using a relaxed isolation index: Application to the Barcelona water network, Control Eng. Pract., vol. 63, pp. 1-12, Jun. 2017.\n",
    "\n",
    "##### Calculate healthy states in extended time simulation"
   ]
  },
  {
   "cell_type": "code",
   "execution_count": null,
   "id": "10424482f837716e",
   "metadata": {
    "ExecuteTime": {
     "end_time": "2024-06-19T08:43:19.577025Z",
     "start_time": "2024-06-19T08:43:19.391676Z"
    }
   },
   "outputs": [],
   "source": [
    "d.setTimeSimulationDuration(24 * 60 * 60)  # greater weight to low demand hours\n",
    "d.setTimePatternStart(0)  # in seconds\n",
    "\n",
    "allParameters = d.getComputedTimeSeries()\n",
    "P0 = allParameters.Pressure[:, junction_indices_py].T\n",
    "Dem0 = allParameters.Demand[:, junction_indices_py].T\n",
    "simSteps = P0.shape[1]\n",
    "\n",
    "# Create Augmented-time Sensitivity Matrix\n",
    "# Simulate all leakages and get all scenarios pressures\n",
    "leak_mag_desir = np.mean(np.mean(Dem0[Dem0 > 0]))\n",
    "mean_pressure = np.mean(np.mean(P0[P0 > 0]))\n",
    "\n",
    "leak_emit = leak_mag_desir / np.sqrt(mean_pressure)\n",
    "emit0 = d.getNodeEmitterCoeff()\n",
    "S = np.zeros((nj, nj))\n",
    "\n",
    "for leak in range(1, nj + 1):\n",
    "    print('Calculating Sensitivity Matrix...')\n",
    "    print('Simulating leakage', leak, 'out of', nj)\n",
    "    emit = np.zeros_like(emit0)\n",
    "    emit[leak - 1] = leak_emit  # set emitter coefficient (leakage) value\n",
    "    d.setNodeEmitterCoeff(emit)\n",
    "\n",
    "    allParameters = d.getComputedTimeSeries()\n",
    "\n",
    "    P = allParameters.Pressure[:, junction_indices_py].T\n",
    "    Dem = allParameters.Demand[:, junction_indices_py].T\n",
    "    leak_mag = Dem[leak - 1, :] - Dem0[leak - 1, :]\n",
    "    Stmp = (P - P0) / leak_mag\n",
    "    rmax = np.max(np.abs(Stmp), axis=0)\n",
    "    Stmp = np.abs(Stmp) / rmax\n",
    "    S[:, leak - 1] = np.max(Stmp, axis=1)\n",
    "\n",
    "print('Calculations done!')\n"
   ]
  },
  {
   "cell_type": "markdown",
   "id": "4cbc6d88f5a0faef",
   "metadata": {},
   "source": [
    "### Place sensors using GA\n",
    "Select number of sensors to be installed:"
   ]
  },
  {
   "cell_type": "code",
   "execution_count": null,
   "id": "1498325565bd03eb",
   "metadata": {
    "ExecuteTime": {
     "end_time": "2024-06-19T08:41:34.571657Z",
     "start_time": "2024-06-19T08:41:34.564360Z"
    }
   },
   "outputs": [],
   "source": [
    "sensors_num = 4"
   ]
  },
  {
   "cell_type": "markdown",
   "id": "77849ede949fe7b4",
   "metadata": {},
   "source": [
    "Define existing sensors in the network"
   ]
  },
  {
   "cell_type": "code",
   "execution_count": null,
   "id": "e3bffc725da87985",
   "metadata": {
    "ExecuteTime": {
     "end_time": "2024-06-19T08:41:34.583373Z",
     "start_time": "2024-06-19T08:41:34.571657Z"
    }
   },
   "outputs": [],
   "source": [
    "exist_sens_ind = []; # Define existing sensors in the network\n",
    "# exist_sens_ind=d.getNodeIndex({'14','63','114','399','572','302','662'});"
   ]
  },
  {
   "cell_type": "markdown",
   "id": "2dcba6c7d1849d84",
   "metadata": {},
   "source": [
    "##### Solve using GA: Maximize the minimum sensitivity of all sensors to any leakage"
   ]
  },
  {
   "cell_type": "code",
   "execution_count": null,
   "id": "e128b4b5-052b-474c-bbf1-a148905251fa",
   "metadata": {},
   "outputs": [],
   "source": [
    "#### Sensor Placement optimization problem - Cost function"
   ]
  },
  {
   "cell_type": "code",
   "execution_count": null,
   "id": "24857fd4-72a0-4354-bd16-4dae91c1cb59",
   "metadata": {},
   "outputs": [],
   "source": [
    "# Cost function: min sensitivity of all leaks\n",
    "def GACostFunction(u, S):\n",
    "    Sm = S[u > 0, :]\n",
    "    Smax = np.max(Sm, axis=0)\n",
    "    # cost = 1-np.min(Smax)-0.1*np.mean(Smax)\n",
    "    # cost = 1-np.min(Smax)\n",
    "    cost = 1-np.max(Smax)\n",
    "    return cost\n",
    "    \n",
    "# Sensor placement optimization problem for a genetic algorithm. It sets up the problem\n",
    "# dimensions, variable bounds, and defines how to evaluate each solution's fitness using\n",
    "# the provided cost function (GACostFunction). The genetic algorithm can then use this\n",
    "# problem definition to evolve sensor placement configurations towards an optimal solution.\n",
    "class SensorPlacementProblem(Problem):\n",
    "    def __init__(self, S, nj, sensors_num, exist_sens_ind):\n",
    "        self.S = S\n",
    "        self.nj = nj\n",
    "        self.sensors_num = sensors_num\n",
    "        self.exist_sens_ind = exist_sens_ind\n",
    "        super().__init__(n_var=nj, n_obj=1, n_constr=0, xl=0, xu=1, type_var=int)\n",
    "\n",
    "    def _evaluate(self, x, out, *args, **kwargs):\n",
    "        f = np.array([GACostFunction(xi, self.S) for xi in x])\n",
    "        out[\"F\"] = f"
   ]
  },
  {
   "cell_type": "code",
   "execution_count": null,
   "id": "85be48f6-7fc6-4c2e-a3fc-5006d6e27eff",
   "metadata": {},
   "outputs": [],
   "source": [
    "problem = SensorPlacementProblem(S, nj, sensors_num, exist_sens_ind)"
   ]
  },
  {
   "cell_type": "code",
   "execution_count": null,
   "id": "e29c1768-1dff-434c-a716-f99658576555",
   "metadata": {},
   "outputs": [],
   "source": [
    "# Configure the Genetic Algorithm (GA)\n",
    "algorithm = GA(\n",
    "    pop_size=200,  # Population size\n",
    "    sampling=IntegerRandomSampling(),  # Correctly specified sampling method\n",
    "    crossover=SimulatedBinaryCrossover(eta=20, prob=1.0),  # Correctly specified crossover method\n",
    "    mutation=PolynomialMutation(eta=20, prob=1.0 / nj)  # Correctly specified mutation method\n",
    ")"
   ]
  },
  {
   "cell_type": "code",
   "execution_count": null,
   "id": "4cfbe5d2-a1e8-4dd4-ae6e-094d1baa5941",
   "metadata": {},
   "outputs": [],
   "source": [
    "# Solve the optimization problem\n",
    "res = minimize(problem,\n",
    "               algorithm,\n",
    "               ('n_gen', 100),\n",
    "               #  multiple criteria (x_tol for tolerance, n_gen for maximum generations,\n",
    "               #  and n_last for stall generations - terminates if there is no improvement\n",
    "               #  in the last 5 generations)\n",
    "               seed=1,  # The seed=1 is used to ensure reproducibility of results.\n",
    "               verbose=True)  # flag is included to provide detailed output during the optimization process.\n",
    "# Extract the result\n",
    "u = res.X"
   ]
  },
  {
   "cell_type": "markdown",
   "id": "f41ec6c1b58c3fa3",
   "metadata": {},
   "source": [
    "#### Plot sensors"
   ]
  },
  {
   "cell_type": "code",
   "execution_count": null,
   "id": "2e63b635-9d82-4984-96df-e7960fc622b4",
   "metadata": {},
   "outputs": [],
   "source": [
    "# Get indices of top sensors\n",
    "top_sensors_indices = np.argsort(u)[-sensors_num:][::-1]\n",
    "senors_ids = d.getNodeNameID(list(top_sensors_indices + 1))\n",
    "# print(\"Indices of top\", sensors_num, \"selected sensors:\", senors_ids)\n",
    "\n",
    "# Load optimal solution (for demonstration only!)\n",
    "sens_IDs_demonstration = ['13', '16', '22', '30']\n",
    "sens_ind = d.getNodeIndex(sens_IDs_demonstration)\n",
    "\n",
    "\n",
    "def custom_plot(coor):\n",
    "    x_nodes = list(coor['x'].values())\n",
    "    y_nodes = list(coor['y'].values())\n",
    "    # Get links connecting nodes\n",
    "    links = d.getNodesConnectingLinksIndex()\n",
    "    # Plot the network manually\n",
    "    fig, ax = plt.subplots(figsize=(10, 6), dpi=300)\n",
    "    for link in links:\n",
    "        x_coords = [coor['x'][link[0]], coor['x'][link[1]]]\n",
    "        y_coords = [coor['y'][link[0]], coor['y'][link[1]]]\n",
    "        ax.plot(x_coords, y_coords, color='steelblue', linewidth=0.7)\n",
    "    ax.axis('off')\n",
    "    # Plot nodes\n",
    "    ax.scatter(x_nodes, y_nodes, color='blue', s=10, zorder=5)\n",
    "    return ax\n",
    "\n",
    "\n",
    "# Get node coordinates\n",
    "coor = d.getNodeCoordinates()\n",
    "# Custom plot - network plot\n",
    "ax = custom_plot(coor)\n",
    "\n",
    "# Plot sensors on the network\n",
    "for sens in sens_ind:\n",
    "    # Add plot point for the leak node\n",
    "    x_sens = coor['x'][sens]\n",
    "    y_sens = coor['y'][sens]\n",
    "\n",
    "    sens_id = d.getNodeNameID(sens)\n",
    "    # Plot the sens node with a higher zorder\n",
    "    ax.plot(x_sens, y_sens, 'o', color='r', markersize=12, zorder=10)\n",
    "    ax.text(x_sens + 60, y_sens, sens_id, color='black', fontweight='bold', fontsize=11, zorder=10)\n",
    "\n",
    "# Set the title and show the plot\n",
    "ax.set_title(f'Number of sensors: {len(sens_ind)}', fontweight='bold')\n",
    "plt.show()"
   ]
  }
 ],
 "metadata": {
  "kernelspec": {
   "display_name": "Python 3 (Spyder)",
   "language": "python3",
   "name": "python3"
  },
  "language_info": {
   "codemirror_mode": {
    "name": "ipython",
    "version": 3
   },
   "file_extension": ".py",
   "mimetype": "text/x-python",
   "name": "python",
   "nbconvert_exporter": "python",
   "pygments_lexer": "ipython3",
   "version": "3.10.14"
  },
  "widgets": {
   "application/vnd.jupyter.widget-state+json": {
    "state": {},
    "version_major": 2,
    "version_minor": 0
   }
  }
 },
 "nbformat": 4,
 "nbformat_minor": 5
}
