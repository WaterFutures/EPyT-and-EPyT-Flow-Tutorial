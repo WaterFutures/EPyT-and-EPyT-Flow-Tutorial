{
 "cells": [
  {
   "cell_type": "markdown",
   "id": "b373fb39b2fc7233",
   "metadata": {},
   "source": [
    "## Pressure sensor placement for leakage detection\n"
   ]
  },
  {
   "cell_type": "markdown",
   "id": "bfbb9f05c2a97570",
   "metadata": {},
   "source": [
    "### Initialize EPANET Python Toolkit (EPyT)\n",
    "\n",
    "You should always begin with this command to import the toolkit.\n",
    "\n",
    "[EPyT](https://github.com/OpenWaterAnalytics/EPyT) is available on [PyPI](https://pypi.org/project/epyt/) and can be installed via `pip install epyt`. To upgrade to the latest version if it's already installed, use `pip install --upgrade epyt`."
   ]
  },
  {
   "cell_type": "code",
   "execution_count": null,
   "id": "3b4bf326-a708-4eca-a425-d5698c7e72c4",
   "metadata": {},
   "outputs": [],
   "source": [
    "%pip install epyt"
   ]
  },
  {
   "cell_type": "code",
   "execution_count": null,
   "id": "49305b4dca801a4e",
   "metadata": {
    "ExecuteTime": {
     "end_time": "2024-06-19T08:41:32.627387Z",
     "start_time": "2024-06-19T08:41:29.666478Z"
    }
   },
   "outputs": [],
   "source": [
    "from epyt import epanet"
   ]
  },
  {
   "cell_type": "markdown",
   "id": "f1fde74f392df263",
   "metadata": {},
   "source": [
    "### Water Network"
   ]
  },
  {
   "cell_type": "code",
   "execution_count": null,
   "id": "34900b84dbc1dad6",
   "metadata": {
    "ExecuteTime": {
     "end_time": "2024-06-19T08:41:32.674793Z",
     "start_time": "2024-06-19T08:41:32.627387Z"
    }
   },
   "outputs": [],
   "source": [
    "d=epanet('data/Hanoi.inp')"
   ]
  },
  {
   "cell_type": "code",
   "execution_count": null,
   "id": "9e5869448678ce60",
   "metadata": {
    "ExecuteTime": {
     "end_time": "2024-06-19T08:41:32.687314Z",
     "start_time": "2024-06-19T08:41:32.674793Z"
    }
   },
   "outputs": [],
   "source": [
    "nj = d.getNodeJunctionCount()\n",
    "nn = d.getNodeCount()\n",
    "reservInd = d.getNodeReservoirIndex()"
   ]
  },
  {
   "cell_type": "markdown",
   "id": "9a93d55c3a472f7c",
   "metadata": {},
   "source": [
    "### Calculate Sensitivity matrix\n",
    "[1] Cugueró , M., Puig, V., Quevedo, J. Optimal pressure sensor placement and assessment for leak location using a relaxed isolation index: Application to the Barcelona water network, Control Eng. Pract., vol. 63, pp. 1-12, Jun. 2017.\n",
    "\n",
    "##### Calculate healthy states in extended time simulation"
   ]
  },
  {
   "cell_type": "code",
   "execution_count": null,
   "id": "10424482f837716e",
   "metadata": {
    "ExecuteTime": {
     "end_time": "2024-06-19T08:43:19.577025Z",
     "start_time": "2024-06-19T08:43:19.391676Z"
    }
   },
   "outputs": [],
   "source": [
    "import numpy as np\n",
    "\n",
    "d.setTimeSimulationDuration(24*60*60)  # greater weight to low demand hours\n",
    "d.setTimePatternStart(0)  # in seconds\n",
    "allParameters = d.getComputedTimeSeries()\n",
    "P0 = allParameters.Pressure.transpose()     \n",
    "\n",
    "reservoir_indices = d.getNodeReservoirIndex()\n",
    "for index in reservoir_indices:\n",
    "    P0 = np.delete(P0, index-1, 0)\n",
    "\n",
    "Dem0 = allParameters.Demand.transpose()     \n",
    "simSteps = P0.shape[1]\n",
    "\n",
    "# Create Augmented-time Sensitivity Matrix\n",
    "# Simulate all leakages and get all scenarios pressures\n",
    "leak_mag_desir = np.mean(np.mean(Dem0[Dem0 > 0]))       \n",
    "mean_pressure = np.mean(np.mean(P0[P0 > 0]))            \n",
    "\n",
    "leak_emit = leak_mag_desir / np.sqrt(mean_pressure)     \n",
    "emit0 = d.getNodeEmitterCoeff()                         \n",
    "\n",
    "S = np.zeros((nj, nj))      \n",
    "\n",
    "for leak in range(nj):                  \n",
    "    print('Calculating Sensitivity Matrix...')\n",
    "    print('Simulating leakage', leak + 1, 'out of', nj)\n",
    "    emit = np.zeros_like(emit0)\n",
    "    emit[leak] = leak_emit  # set emitter coefficient (leakage) value   \n",
    "    \n",
    "    d.setNodeEmitterCoeff(emit)\n",
    "    allParameters = d.getComputedTimeSeries()\n",
    "    P = allParameters.Pressure.transpose()          \n",
    "    \n",
    "    reservoir_indices = d.getNodeReservoirIndex()\n",
    "    for index in reservoir_indices:\n",
    "        P = np.delete(P, index-1, 0)\n",
    "        \n",
    "    Dem = allParameters.Demand.transpose()         \n",
    "    leak_mag = Dem[leak-1, :] - Dem0[leak-1, :]       \n",
    "    \n",
    "    Stmp = (P - P0) / leak_mag                      \n",
    "    \n",
    "    rmax = np.max(np.abs(Stmp), axis=0)\n",
    "    Stmp = np.abs(Stmp) / rmax\n",
    "    \n",
    "    S[:, leak] = np.max(Stmp, axis=1) \n",
    "\n",
    "print('Calculations done!')\n",
    "\n"
   ]
  },
  {
   "cell_type": "markdown",
   "id": "4cbc6d88f5a0faef",
   "metadata": {},
   "source": [
    "## Place sensors using GA\n",
    "Select number of sensors to be installed:"
   ]
  },
  {
   "cell_type": "code",
   "execution_count": null,
   "id": "1498325565bd03eb",
   "metadata": {
    "ExecuteTime": {
     "end_time": "2024-06-19T08:41:34.571657Z",
     "start_time": "2024-06-19T08:41:34.564360Z"
    }
   },
   "outputs": [],
   "source": [
    "sensors_num=4"
   ]
  },
  {
   "cell_type": "markdown",
   "id": "77849ede949fe7b4",
   "metadata": {},
   "source": [
    "Define existing sensors in the network"
   ]
  },
  {
   "cell_type": "code",
   "execution_count": null,
   "id": "e3bffc725da87985",
   "metadata": {
    "ExecuteTime": {
     "end_time": "2024-06-19T08:41:34.583373Z",
     "start_time": "2024-06-19T08:41:34.571657Z"
    }
   },
   "outputs": [],
   "source": [
    "exist_sens_ind=[]; # define existing sensors in the network\n",
    "# exist_sens_ind=d.getNodeIndex({'14','63','114','399','572','302','662'});"
   ]
  },
  {
   "cell_type": "markdown",
   "id": "2dcba6c7d1849d84",
   "metadata": {},
   "source": [
    "Solve using GA: Maximize the minimum sensitivity of all sensors to any leakage"
   ]
  },
  {
   "cell_type": "markdown",
   "id": "f41ec6c1b58c3fa3",
   "metadata": {},
   "source": [
    "#### Plot sensors"
   ]
  },
  {
   "cell_type": "markdown",
   "id": "91732aaf188bb89",
   "metadata": {},
   "source": [
    "#### Cost function"
   ]
  },
  {
   "cell_type": "markdown",
   "id": "abd700b5ceb9f23e",
   "metadata": {},
   "source": [
    "#### Enumeration loops for threshold and sensors"
   ]
  },
  {
   "cell_type": "code",
   "execution_count": null,
   "id": "6aab78ee-3bdc-4115-b5f2-41c70b23a66c",
   "metadata": {},
   "outputs": [],
   "source": [
    "%pip install pymoo"
   ]
  },
  {
   "cell_type": "code",
   "execution_count": null,
   "id": "ac87fc2641db7713",
   "metadata": {
    "ExecuteTime": {
     "end_time": "2024-06-19T09:01:38.831243Z",
     "start_time": "2024-06-19T09:01:38.456927Z"
    }
   },
   "outputs": [],
   "source": [
    "import numpy as np\n",
    "from pymoo.core.problem import Problem\n",
    "from pymoo.algorithms.soo.nonconvex.ga import GA\n",
    "from pymoo.optimize import minimize\n",
    "\n",
    "# Placeholder for your sensitivity matrix S and other variables\n",
    "S = np.random.rand(100, 100)  # Placeholder for sensitivity matrix\n",
    "nj = S.shape[1]  # Number of junctions\n",
    "\n",
    "# Define the cost function\n",
    "def GACostFunction(u, S):\n",
    "    Sm = S[u > 0, :]\n",
    "    Smax = np.max(Sm, axis=0)\n",
    "    cost = -np.min(Smax)  # Maximize the minimum sensitivity\n",
    "    return cost\n",
    "\n",
    "# Define the GA optimization problem\n",
    "class SensorPlacementProblem(Problem):\n",
    "    def __init__(self, S, nj, sensors_num, exist_sens_ind):\n",
    "        self.S = S\n",
    "        self.nj = nj\n",
    "        self.sensors_num = sensors_num\n",
    "        self.exist_sens_ind = exist_sens_ind\n",
    "        super().__init__(n_var=nj, n_obj=1, n_constr=0, xl=0, xu=1, type_var=int)\n",
    "\n",
    "    def _evaluate(self, x, out, *args, **kwargs):\n",
    "        f = np.array([GACostFunction(xi, self.S) for xi in x])\n",
    "        out[\"F\"] = f\n",
    "\n",
    "# Define the problem\n",
    "problem = SensorPlacementProblem(S, nj, sensors_num, exist_sens_ind)\n",
    "\n",
    "# Configure the Genetic Algorithm (GA)\n",
    "algorithm = GA(\n",
    "    pop_size=200,            # Population size\n",
    "    sampling=None,           # Not specified, can be LHS or other sampling methods\n",
    "    crossover=\"real_one_point\",  # Crossover method\n",
    "    mutation=\"real_pm\",      # Mutation method\n",
    ")\n",
    "\n",
    "# Solve the optimization problem\n",
    "res = minimize(problem,\n",
    "               algorithm,\n",
    "               ('n_gen', 100),  # Number of generations\n",
    "               seed=1,\n",
    "               verbose=True)\n",
    "\n",
    "# Extract the result\n",
    "u = res.X\n",
    "\n",
    "# Get indices of top sensors\n",
    "top_sensors_indices = np.argsort(u)[-sensors_num:][::-1]\n",
    "print(\"Indices of top\", sensors_num, \"selected sensors:\", top_sensors_indices)\n"
   ]
  }
 ],
 "metadata": {
  "kernelspec": {
   "display_name": "Python 3 (Spyder)",
   "language": "python3",
   "name": "python3"
  },
  "language_info": {
   "codemirror_mode": {
    "name": "ipython",
    "version": 3
   },
   "file_extension": ".py",
   "mimetype": "text/x-python",
   "name": "python",
   "nbconvert_exporter": "python",
   "pygments_lexer": "ipython3",
   "version": "3.10.14"
  }
 },
 "nbformat": 4,
 "nbformat_minor": 5
}
