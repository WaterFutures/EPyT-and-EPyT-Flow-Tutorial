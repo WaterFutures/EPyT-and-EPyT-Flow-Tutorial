{
 "cells": [
  {
   "cell_type": "markdown",
   "id": "b373fb39b2fc7233",
   "metadata": {},
   "source": [
    "## Pressure sensor placement for leakage detection\n"
   ]
  },
  {
   "cell_type": "markdown",
   "id": "bfbb9f05c2a97570",
   "metadata": {},
   "source": [
    "### Initialize EPANET Python Toolkit (EPyT)\n",
    "\n",
    "You should always begin with this command to import the toolkit.\n",
    "\n",
    "[EPyT](https://github.com/OpenWaterAnalytics/EPyT) is available on [PyPI](https://pypi.org/project/epyt/) and can be installed via `pip install epyt`. To upgrade to the latest version if it's already installed, use `pip install --upgrade epyt`."
   ]
  },
  {
   "cell_type": "code",
   "execution_count": 296,
   "id": "3b4bf326-a708-4eca-a425-d5698c7e72c4",
   "metadata": {},
   "outputs": [
    {
     "name": "stdout",
     "output_type": "stream",
     "text": [
      "Requirement already satisfied: epyt in c:\\users\\mkiri\\anaconda3\\envs\\tutorial_epyt\\lib\\site-packages (1.1.9)\n",
      "Requirement already satisfied: pymoo in c:\\users\\mkiri\\anaconda3\\envs\\tutorial_epyt\\lib\\site-packages (0.6.1.1)\n",
      "Requirement already satisfied: numpy in c:\\users\\mkiri\\anaconda3\\envs\\tutorial_epyt\\lib\\site-packages (from epyt) (1.23.0)\n",
      "Requirement already satisfied: matplotlib in c:\\users\\mkiri\\anaconda3\\envs\\tutorial_epyt\\lib\\site-packages (from epyt) (3.9.0)\n",
      "Requirement already satisfied: pandas in c:\\users\\mkiri\\anaconda3\\envs\\tutorial_epyt\\lib\\site-packages (from epyt) (2.2.2)\n",
      "Requirement already satisfied: xlsxwriter in c:\\users\\mkiri\\anaconda3\\envs\\tutorial_epyt\\lib\\site-packages (from epyt) (3.2.0)\n",
      "Requirement already satisfied: setuptools in c:\\users\\mkiri\\anaconda3\\envs\\tutorial_epyt\\lib\\site-packages (from epyt) (69.5.1)\n",
      "Requirement already satisfied: scipy>=1.1 in c:\\users\\mkiri\\anaconda3\\envs\\tutorial_epyt\\lib\\site-packages (from pymoo) (1.13.1)\n",
      "Requirement already satisfied: autograd>=1.4 in c:\\users\\mkiri\\anaconda3\\envs\\tutorial_epyt\\lib\\site-packages (from pymoo) (1.6.2)\n",
      "Requirement already satisfied: cma==3.2.2 in c:\\users\\mkiri\\anaconda3\\envs\\tutorial_epyt\\lib\\site-packages (from pymoo) (3.2.2)\n",
      "Requirement already satisfied: alive-progress in c:\\users\\mkiri\\anaconda3\\envs\\tutorial_epyt\\lib\\site-packages (from pymoo) (3.1.5)\n",
      "Requirement already satisfied: dill in c:\\users\\mkiri\\anaconda3\\envs\\tutorial_epyt\\lib\\site-packages (from pymoo) (0.3.8)\n",
      "Requirement already satisfied: Deprecated in c:\\users\\mkiri\\anaconda3\\envs\\tutorial_epyt\\lib\\site-packages (from pymoo) (1.2.14)\n",
      "Requirement already satisfied: future>=0.15.2 in c:\\users\\mkiri\\anaconda3\\envs\\tutorial_epyt\\lib\\site-packages (from autograd>=1.4->pymoo) (1.0.0)\n",
      "Requirement already satisfied: contourpy>=1.0.1 in c:\\users\\mkiri\\anaconda3\\envs\\tutorial_epyt\\lib\\site-packages (from matplotlib->epyt) (1.2.1)\n",
      "Requirement already satisfied: cycler>=0.10 in c:\\users\\mkiri\\anaconda3\\envs\\tutorial_epyt\\lib\\site-packages (from matplotlib->epyt) (0.12.1)\n",
      "Requirement already satisfied: fonttools>=4.22.0 in c:\\users\\mkiri\\anaconda3\\envs\\tutorial_epyt\\lib\\site-packages (from matplotlib->epyt) (4.53.0)\n",
      "Requirement already satisfied: kiwisolver>=1.3.1 in c:\\users\\mkiri\\anaconda3\\envs\\tutorial_epyt\\lib\\site-packages (from matplotlib->epyt) (1.4.5)\n",
      "Requirement already satisfied: packaging>=20.0 in c:\\users\\mkiri\\anaconda3\\envs\\tutorial_epyt\\lib\\site-packages (from matplotlib->epyt) (23.2)\n",
      "Requirement already satisfied: pillow>=8 in c:\\users\\mkiri\\anaconda3\\envs\\tutorial_epyt\\lib\\site-packages (from matplotlib->epyt) (10.3.0)\n",
      "Requirement already satisfied: pyparsing>=2.3.1 in c:\\users\\mkiri\\anaconda3\\envs\\tutorial_epyt\\lib\\site-packages (from matplotlib->epyt) (3.1.2)\n",
      "Requirement already satisfied: python-dateutil>=2.7 in c:\\users\\mkiri\\anaconda3\\envs\\tutorial_epyt\\lib\\site-packages (from matplotlib->epyt) (2.9.0.post0)\n",
      "Requirement already satisfied: about-time==4.2.1 in c:\\users\\mkiri\\anaconda3\\envs\\tutorial_epyt\\lib\\site-packages (from alive-progress->pymoo) (4.2.1)\n",
      "Requirement already satisfied: grapheme==0.6.0 in c:\\users\\mkiri\\anaconda3\\envs\\tutorial_epyt\\lib\\site-packages (from alive-progress->pymoo) (0.6.0)\n",
      "Requirement already satisfied: wrapt<2,>=1.10 in c:\\users\\mkiri\\anaconda3\\envs\\tutorial_epyt\\lib\\site-packages (from Deprecated->pymoo) (1.14.1)\n",
      "Requirement already satisfied: pytz>=2020.1 in c:\\users\\mkiri\\anaconda3\\envs\\tutorial_epyt\\lib\\site-packages (from pandas->epyt) (2024.1)\n",
      "Requirement already satisfied: tzdata>=2022.7 in c:\\users\\mkiri\\anaconda3\\envs\\tutorial_epyt\\lib\\site-packages (from pandas->epyt) (2024.1)\n",
      "Requirement already satisfied: six>=1.5 in c:\\users\\mkiri\\anaconda3\\envs\\tutorial_epyt\\lib\\site-packages (from python-dateutil>=2.7->matplotlib->epyt) (1.16.0)\n",
      "Note: you may need to restart the kernel to use updated packages.\n"
     ]
    },
    {
     "name": "stderr",
     "output_type": "stream",
     "text": [
      "C:\\Users\\mkiri\\anaconda3\\envs\\tutorial_epyt\\lib\\site-packages\\IPython\\utils\\_process_win32.py:124: ResourceWarning: unclosed file <_io.BufferedWriter name=5>\n",
      "  return process_handler(cmd, _system_body)\n",
      "ResourceWarning: Enable tracemalloc to get the object allocation traceback\n",
      "C:\\Users\\mkiri\\anaconda3\\envs\\tutorial_epyt\\lib\\site-packages\\IPython\\utils\\_process_win32.py:124: ResourceWarning: unclosed file <_io.BufferedReader name=6>\n",
      "  return process_handler(cmd, _system_body)\n",
      "ResourceWarning: Enable tracemalloc to get the object allocation traceback\n",
      "C:\\Users\\mkiri\\anaconda3\\envs\\tutorial_epyt\\lib\\site-packages\\IPython\\utils\\_process_win32.py:124: ResourceWarning: unclosed file <_io.BufferedReader name=7>\n",
      "  return process_handler(cmd, _system_body)\n",
      "ResourceWarning: Enable tracemalloc to get the object allocation traceback\n"
     ]
    }
   ],
   "source": [
    "%pip install epyt pymoo"
   ]
  },
  {
   "cell_type": "code",
   "execution_count": 297,
   "id": "663277d9-1552-4e44-a761-7db13a01f2a6",
   "metadata": {},
   "outputs": [
    {
     "name": "stdout",
     "output_type": "stream",
     "text": [
      "Requirement already satisfied: numpy==1.23 in c:\\users\\mkiri\\anaconda3\\envs\\tutorial_epyt\\lib\\site-packages (1.23.0)\n",
      "Note: you may need to restart the kernel to use updated packages.\n"
     ]
    },
    {
     "name": "stderr",
     "output_type": "stream",
     "text": [
      "C:\\Users\\mkiri\\anaconda3\\envs\\tutorial_epyt\\lib\\site-packages\\IPython\\utils\\_process_win32.py:124: ResourceWarning: unclosed file <_io.BufferedWriter name=5>\n",
      "  return process_handler(cmd, _system_body)\n",
      "ResourceWarning: Enable tracemalloc to get the object allocation traceback\n",
      "C:\\Users\\mkiri\\anaconda3\\envs\\tutorial_epyt\\lib\\site-packages\\IPython\\utils\\_process_win32.py:124: ResourceWarning: unclosed file <_io.BufferedReader name=6>\n",
      "  return process_handler(cmd, _system_body)\n",
      "ResourceWarning: Enable tracemalloc to get the object allocation traceback\n",
      "C:\\Users\\mkiri\\anaconda3\\envs\\tutorial_epyt\\lib\\site-packages\\IPython\\utils\\_process_win32.py:124: ResourceWarning: unclosed file <_io.BufferedReader name=7>\n",
      "  return process_handler(cmd, _system_body)\n",
      "ResourceWarning: Enable tracemalloc to get the object allocation traceback\n"
     ]
    }
   ],
   "source": [
    "%pip install numpy==1.23"
   ]
  },
  {
   "cell_type": "markdown",
   "id": "06b93fbf-df5e-460d-8641-bdc6a5e2d746",
   "metadata": {},
   "source": [
    "### Download data"
   ]
  },
  {
   "cell_type": "code",
   "execution_count": 298,
   "id": "44d7a311-0286-438a-a17f-e797f0d66e97",
   "metadata": {},
   "outputs": [
    {
     "name": "stdout",
     "output_type": "stream",
     "text": [
      "HTTP error occurred: 404 Client Error: Not Found for url: https://raw.githubusercontent.com/WaterFutures/EPyT-and-EPyT-Flow-Tutorial/main/data/Hanoi.inp?token=GHSAT0AAAAAACTQ7OWEQMMHP5BC7ZRAI5JKZT5MS7A\n"
     ]
    }
   ],
   "source": [
    "import requests\n",
    "\n",
    "url = \"https://raw.githubusercontent.com/WaterFutures/EPyT-and-EPyT-Flow-Tutorial/main/data/Hanoi.inp?token=GHSAT0AAAAAACTQ7OWEQMMHP5BC7ZRAI5JKZT5MS7A\"\n",
    "file_path = \"Hanoi.inp\"\n",
    "\n",
    "try:\n",
    "    response = requests.get(url)\n",
    "    response.raise_for_status()  # Check if the request was successful\n",
    "    with open(file_path, 'wb') as file:\n",
    "        file.write(response.content)\n",
    "    print(f\"File downloaded and saved as {file_path}\")\n",
    "except requests.exceptions.HTTPError as err:\n",
    "    print(f\"HTTP error occurred: {err}\")\n",
    "except Exception as err:\n",
    "    print(f\"An error occurred: {err}\")\n"
   ]
  },
  {
   "cell_type": "code",
   "execution_count": 299,
   "id": "49305b4dca801a4e",
   "metadata": {
    "ExecuteTime": {
     "end_time": "2024-06-19T08:41:32.627387Z",
     "start_time": "2024-06-19T08:41:29.666478Z"
    }
   },
   "outputs": [],
   "source": [
    "from epyt import epanet\n",
    "\n",
    "import numpy as np\n",
    "\n",
    "from pymoo.core.problem import Problem\n",
    "from pymoo.algorithms.soo.nonconvex.ga import GA\n",
    "from pymoo.optimize import minimize\n",
    "from pymoo.operators.sampling.rnd import IntegerRandomSampling\n",
    "from pymoo.operators.crossover.sbx import SimulatedBinaryCrossover\n",
    "from pymoo.operators.mutation.pm import PolynomialMutation\n",
    "from pymoo.operators.repair.rounding import RoundingRepair\n",
    "import matplotlib.pyplot as plt"
   ]
  },
  {
   "cell_type": "markdown",
   "id": "f1fde74f392df263",
   "metadata": {},
   "source": [
    "### Water Network"
   ]
  },
  {
   "cell_type": "code",
   "execution_count": 300,
   "id": "34900b84dbc1dad6",
   "metadata": {
    "ExecuteTime": {
     "end_time": "2024-06-19T08:41:32.674793Z",
     "start_time": "2024-06-19T08:41:32.627387Z"
    }
   },
   "outputs": [
    {
     "name": "stdout",
     "output_type": "stream",
     "text": [
      "EPANET version 20200 loaded (EPyT version v1.1.9 - Last Update: 24/06/2024).\n",
      "Input File Hanoi.inp loaded successfully.\n",
      "\n"
     ]
    }
   ],
   "source": [
    "# Load the water network model\n",
    "d=epanet('Hanoi.inp')"
   ]
  },
  {
   "cell_type": "code",
   "execution_count": 301,
   "id": "9e5869448678ce60",
   "metadata": {
    "ExecuteTime": {
     "end_time": "2024-06-19T08:41:32.687314Z",
     "start_time": "2024-06-19T08:41:32.674793Z"
    }
   },
   "outputs": [
    {
     "name": "stdout",
     "output_type": "stream",
     "text": [
      "nj = 31\n",
      "nn = 32\n"
     ]
    }
   ],
   "source": [
    "# Get the number of junctions and nodes\n",
    "nj = d.getNodeJunctionCount()\n",
    "nn = d.getNodeCount()\n",
    "d.printv(nj)\n",
    "d.printv(nn)"
   ]
  },
  {
   "cell_type": "code",
   "execution_count": 302,
   "id": "e007cc35-1a30-45c0-b773-a72d2884b721",
   "metadata": {},
   "outputs": [
    {
     "name": "stdout",
     "output_type": "stream",
     "text": [
      "reservoir_indices = [32]\n",
      "junction_indices_py = [ 0  1  2  3  4  5  6  7  8  9 10 11 12 13 14 15 16 17 18 19 20 21 22 23\n",
      " 24 25 26 27 28 29 30]\n"
     ]
    }
   ],
   "source": [
    "reservoir_indices = d.getNodeReservoirIndex()\n",
    "junction_indices = d.getNodeJunctionIndex()\n",
    "junction_indices_py = np.array(junction_indices) - 1\n",
    "\n",
    "d.printv(reservoir_indices)\n",
    "d.printv(junction_indices_py) "
   ]
  },
  {
   "cell_type": "markdown",
   "id": "9a93d55c3a472f7c",
   "metadata": {},
   "source": [
    "### Calculate Sensitivity matrix\n",
    "[1] Cugueró , M., Puig, V., Quevedo, J. Optimal pressure sensor placement and assessment for leak location using a relaxed isolation index: Application to the Barcelona water network, Control Eng. Pract., vol. 63, pp. 1-12, Jun. 2017.\n",
    "\n",
    "##### Calculate healthy states in extended time simulation"
   ]
  },
  {
   "cell_type": "code",
   "execution_count": 303,
   "id": "10424482f837716e",
   "metadata": {
    "ExecuteTime": {
     "end_time": "2024-06-19T08:43:19.577025Z",
     "start_time": "2024-06-19T08:43:19.391676Z"
    }
   },
   "outputs": [
    {
     "name": "stdout",
     "output_type": "stream",
     "text": [
      "Calculating Sensitivity Matrix...\n",
      "Simulating leakage 1 out of 31\n",
      "Calculating Sensitivity Matrix...\n",
      "Simulating leakage 2 out of 31\n",
      "Calculating Sensitivity Matrix...\n",
      "Simulating leakage 3 out of 31\n",
      "Calculating Sensitivity Matrix...\n",
      "Simulating leakage 4 out of 31\n",
      "Calculating Sensitivity Matrix...\n",
      "Simulating leakage 5 out of 31\n"
     ]
    },
    {
     "name": "stderr",
     "output_type": "stream",
     "text": [
      "C:\\Users\\mkiri\\anaconda3\\envs\\tutorial_epyt\\lib\\site-packages\\epyt\\epanet.py:14320: UserWarning: WARNING: System has negative pressures.\n",
      "  warnings.warn(errmssg.value.decode())\n",
      "C:\\Users\\mkiri\\anaconda3\\envs\\tutorial_epyt\\lib\\site-packages\\epyt\\epanet.py:14320: UserWarning: WARNING: System has negative pressures.\n",
      "  warnings.warn(errmssg.value.decode())\n",
      "C:\\Users\\mkiri\\anaconda3\\envs\\tutorial_epyt\\lib\\site-packages\\epyt\\epanet.py:14320: UserWarning: WARNING: System has negative pressures.\n",
      "  warnings.warn(errmssg.value.decode())\n",
      "C:\\Users\\mkiri\\anaconda3\\envs\\tutorial_epyt\\lib\\site-packages\\epyt\\epanet.py:14320: UserWarning: WARNING: System has negative pressures.\n",
      "  warnings.warn(errmssg.value.decode())\n"
     ]
    },
    {
     "name": "stdout",
     "output_type": "stream",
     "text": [
      "Calculating Sensitivity Matrix...\n",
      "Simulating leakage 6 out of 31\n",
      "Calculating Sensitivity Matrix...\n",
      "Simulating leakage 7 out of 31\n",
      "Calculating Sensitivity Matrix...\n",
      "Simulating leakage 8 out of 31\n"
     ]
    },
    {
     "name": "stderr",
     "output_type": "stream",
     "text": [
      "C:\\Users\\mkiri\\anaconda3\\envs\\tutorial_epyt\\lib\\site-packages\\epyt\\epanet.py:14320: UserWarning: WARNING: System has negative pressures.\n",
      "  warnings.warn(errmssg.value.decode())\n",
      "C:\\Users\\mkiri\\anaconda3\\envs\\tutorial_epyt\\lib\\site-packages\\epyt\\epanet.py:14320: UserWarning: WARNING: System has negative pressures.\n",
      "  warnings.warn(errmssg.value.decode())\n",
      "C:\\Users\\mkiri\\anaconda3\\envs\\tutorial_epyt\\lib\\site-packages\\epyt\\epanet.py:14320: UserWarning: WARNING: System has negative pressures.\n",
      "  warnings.warn(errmssg.value.decode())\n",
      "C:\\Users\\mkiri\\anaconda3\\envs\\tutorial_epyt\\lib\\site-packages\\epyt\\epanet.py:14320: UserWarning: WARNING: System has negative pressures.\n",
      "  warnings.warn(errmssg.value.decode())\n"
     ]
    },
    {
     "name": "stdout",
     "output_type": "stream",
     "text": [
      "Calculating Sensitivity Matrix...\n",
      "Simulating leakage 9 out of 31\n",
      "Calculating Sensitivity Matrix...\n",
      "Simulating leakage 10 out of 31\n",
      "Calculating Sensitivity Matrix...\n",
      "Simulating leakage 11 out of 31\n",
      "Calculating Sensitivity Matrix...\n",
      "Simulating leakage 12 out of 31\n"
     ]
    },
    {
     "name": "stderr",
     "output_type": "stream",
     "text": [
      "C:\\Users\\mkiri\\anaconda3\\envs\\tutorial_epyt\\lib\\site-packages\\epyt\\epanet.py:14320: UserWarning: WARNING: System has negative pressures.\n",
      "  warnings.warn(errmssg.value.decode())\n",
      "C:\\Users\\mkiri\\anaconda3\\envs\\tutorial_epyt\\lib\\site-packages\\epyt\\epanet.py:14320: UserWarning: WARNING: System has negative pressures.\n",
      "  warnings.warn(errmssg.value.decode())\n",
      "C:\\Users\\mkiri\\anaconda3\\envs\\tutorial_epyt\\lib\\site-packages\\epyt\\epanet.py:14320: UserWarning: WARNING: System has negative pressures.\n",
      "  warnings.warn(errmssg.value.decode())\n"
     ]
    },
    {
     "name": "stdout",
     "output_type": "stream",
     "text": [
      "Calculating Sensitivity Matrix...\n",
      "Simulating leakage 13 out of 31\n",
      "Calculating Sensitivity Matrix...\n",
      "Simulating leakage 14 out of 31\n",
      "Calculating Sensitivity Matrix...\n",
      "Simulating leakage 15 out of 31\n",
      "Calculating Sensitivity Matrix...\n",
      "Simulating leakage 16 out of 31\n"
     ]
    },
    {
     "name": "stderr",
     "output_type": "stream",
     "text": [
      "C:\\Users\\mkiri\\anaconda3\\envs\\tutorial_epyt\\lib\\site-packages\\epyt\\epanet.py:14320: UserWarning: WARNING: System has negative pressures.\n",
      "  warnings.warn(errmssg.value.decode())\n",
      "C:\\Users\\mkiri\\anaconda3\\envs\\tutorial_epyt\\lib\\site-packages\\epyt\\epanet.py:14320: UserWarning: WARNING: System has negative pressures.\n",
      "  warnings.warn(errmssg.value.decode())\n",
      "C:\\Users\\mkiri\\anaconda3\\envs\\tutorial_epyt\\lib\\site-packages\\epyt\\epanet.py:14320: UserWarning: WARNING: System has negative pressures.\n",
      "  warnings.warn(errmssg.value.decode())\n"
     ]
    },
    {
     "name": "stdout",
     "output_type": "stream",
     "text": [
      "Calculating Sensitivity Matrix...\n",
      "Simulating leakage 17 out of 31\n",
      "Calculating Sensitivity Matrix...\n",
      "Simulating leakage 18 out of 31\n",
      "Calculating Sensitivity Matrix...\n",
      "Simulating leakage 19 out of 31\n",
      "Calculating Sensitivity Matrix...\n",
      "Simulating leakage 20 out of 31\n"
     ]
    },
    {
     "name": "stderr",
     "output_type": "stream",
     "text": [
      "C:\\Users\\mkiri\\anaconda3\\envs\\tutorial_epyt\\lib\\site-packages\\epyt\\epanet.py:14320: UserWarning: WARNING: System has negative pressures.\n",
      "  warnings.warn(errmssg.value.decode())\n",
      "C:\\Users\\mkiri\\anaconda3\\envs\\tutorial_epyt\\lib\\site-packages\\epyt\\epanet.py:14320: UserWarning: WARNING: System has negative pressures.\n",
      "  warnings.warn(errmssg.value.decode())\n",
      "C:\\Users\\mkiri\\anaconda3\\envs\\tutorial_epyt\\lib\\site-packages\\epyt\\epanet.py:14320: UserWarning: WARNING: System has negative pressures.\n",
      "  warnings.warn(errmssg.value.decode())\n",
      "C:\\Users\\mkiri\\anaconda3\\envs\\tutorial_epyt\\lib\\site-packages\\epyt\\epanet.py:14320: UserWarning: WARNING: System has negative pressures.\n",
      "  warnings.warn(errmssg.value.decode())\n"
     ]
    },
    {
     "name": "stdout",
     "output_type": "stream",
     "text": [
      "Calculating Sensitivity Matrix...\n",
      "Simulating leakage 21 out of 31\n",
      "Calculating Sensitivity Matrix...\n",
      "Simulating leakage 22 out of 31\n",
      "Calculating Sensitivity Matrix...\n",
      "Simulating leakage 23 out of 31\n",
      "Calculating Sensitivity Matrix...\n",
      "Simulating leakage 24 out of 31\n"
     ]
    },
    {
     "name": "stderr",
     "output_type": "stream",
     "text": [
      "C:\\Users\\mkiri\\anaconda3\\envs\\tutorial_epyt\\lib\\site-packages\\epyt\\epanet.py:14320: UserWarning: WARNING: System has negative pressures.\n",
      "  warnings.warn(errmssg.value.decode())\n",
      "C:\\Users\\mkiri\\anaconda3\\envs\\tutorial_epyt\\lib\\site-packages\\epyt\\epanet.py:14320: UserWarning: WARNING: System has negative pressures.\n",
      "  warnings.warn(errmssg.value.decode())\n",
      "C:\\Users\\mkiri\\anaconda3\\envs\\tutorial_epyt\\lib\\site-packages\\epyt\\epanet.py:14320: UserWarning: WARNING: System has negative pressures.\n",
      "  warnings.warn(errmssg.value.decode())\n",
      "C:\\Users\\mkiri\\anaconda3\\envs\\tutorial_epyt\\lib\\site-packages\\epyt\\epanet.py:14320: UserWarning: WARNING: System has negative pressures.\n",
      "  warnings.warn(errmssg.value.decode())\n"
     ]
    },
    {
     "name": "stdout",
     "output_type": "stream",
     "text": [
      "Calculating Sensitivity Matrix...\n",
      "Simulating leakage 25 out of 31\n",
      "Calculating Sensitivity Matrix...\n",
      "Simulating leakage 26 out of 31\n",
      "Calculating Sensitivity Matrix...\n",
      "Simulating leakage 27 out of 31\n",
      "Calculating Sensitivity Matrix...\n",
      "Simulating leakage 28 out of 31\n"
     ]
    },
    {
     "name": "stderr",
     "output_type": "stream",
     "text": [
      "C:\\Users\\mkiri\\anaconda3\\envs\\tutorial_epyt\\lib\\site-packages\\epyt\\epanet.py:14320: UserWarning: WARNING: System has negative pressures.\n",
      "  warnings.warn(errmssg.value.decode())\n",
      "C:\\Users\\mkiri\\anaconda3\\envs\\tutorial_epyt\\lib\\site-packages\\epyt\\epanet.py:14320: UserWarning: WARNING: System has negative pressures.\n",
      "  warnings.warn(errmssg.value.decode())\n",
      "C:\\Users\\mkiri\\anaconda3\\envs\\tutorial_epyt\\lib\\site-packages\\epyt\\epanet.py:14320: UserWarning: WARNING: System has negative pressures.\n",
      "  warnings.warn(errmssg.value.decode())\n"
     ]
    },
    {
     "name": "stdout",
     "output_type": "stream",
     "text": [
      "Calculating Sensitivity Matrix...\n",
      "Simulating leakage 29 out of 31\n",
      "Calculating Sensitivity Matrix...\n",
      "Simulating leakage 30 out of 31\n",
      "Calculating Sensitivity Matrix...\n",
      "Simulating leakage 31 out of 31\n",
      "Calculations done!\n"
     ]
    },
    {
     "name": "stderr",
     "output_type": "stream",
     "text": [
      "C:\\Users\\mkiri\\anaconda3\\envs\\tutorial_epyt\\lib\\site-packages\\epyt\\epanet.py:14320: UserWarning: WARNING: System has negative pressures.\n",
      "  warnings.warn(errmssg.value.decode())\n",
      "C:\\Users\\mkiri\\anaconda3\\envs\\tutorial_epyt\\lib\\site-packages\\epyt\\epanet.py:14320: UserWarning: WARNING: System has negative pressures.\n",
      "  warnings.warn(errmssg.value.decode())\n"
     ]
    }
   ],
   "source": [
    "d.setTimeSimulationDuration(24 * 60 * 60)  # greater weight to low demand hours\n",
    "d.setTimePatternStart(0)  # in seconds\n",
    "\n",
    "allParameters = d.getComputedTimeSeries()\n",
    "P0 = allParameters.Pressure[:, junction_indices_py].T\n",
    "Dem0 = allParameters.Demand[:, junction_indices_py].T\n",
    "simSteps = P0.shape[1]\n",
    "\n",
    "# Create Augmented-time Sensitivity Matrix\n",
    "# Simulate all leakages and get all scenarios pressures\n",
    "leak_mag_desir = np.mean(np.mean(Dem0[Dem0 > 0]))\n",
    "mean_pressure = np.mean(np.mean(P0[P0 > 0]))\n",
    "\n",
    "leak_emit = leak_mag_desir / np.sqrt(mean_pressure)\n",
    "emit0 = d.getNodeEmitterCoeff()\n",
    "S = np.zeros((nj, nj))\n",
    "\n",
    "for leak in range(1, nj + 1):\n",
    "    print('Calculating Sensitivity Matrix...')\n",
    "    print('Simulating leakage', leak, 'out of', nj)\n",
    "    emit = np.zeros_like(emit0)\n",
    "    emit[leak - 1] = leak_emit  # set emitter coefficient (leakage) value\n",
    "    d.setNodeEmitterCoeff(emit)\n",
    "\n",
    "    allParameters = d.getComputedTimeSeries()\n",
    "\n",
    "    P = allParameters.Pressure[:, junction_indices_py].T\n",
    "    Dem = allParameters.Demand[:, junction_indices_py].T\n",
    "    leak_mag = Dem[leak - 1, :] - Dem0[leak - 1, :]\n",
    "    Stmp = (P - P0) / leak_mag\n",
    "    rmax = np.max(np.abs(Stmp), axis=0)\n",
    "    Stmp = np.abs(Stmp) / rmax\n",
    "    S[:, leak - 1] = np.max(Stmp, axis=1)\n",
    "\n",
    "print('Calculations done!')\n"
   ]
  },
  {
   "cell_type": "markdown",
   "id": "4cbc6d88f5a0faef",
   "metadata": {},
   "source": [
    "### Place sensors using GA\n",
    "Select number of sensors to be installed:"
   ]
  },
  {
   "cell_type": "code",
   "execution_count": 304,
   "id": "1498325565bd03eb",
   "metadata": {
    "ExecuteTime": {
     "end_time": "2024-06-19T08:41:34.571657Z",
     "start_time": "2024-06-19T08:41:34.564360Z"
    }
   },
   "outputs": [],
   "source": [
    "sensors_num = 4"
   ]
  },
  {
   "cell_type": "markdown",
   "id": "77849ede949fe7b4",
   "metadata": {},
   "source": [
    "Define existing sensors in the network"
   ]
  },
  {
   "cell_type": "code",
   "execution_count": 305,
   "id": "e3bffc725da87985",
   "metadata": {
    "ExecuteTime": {
     "end_time": "2024-06-19T08:41:34.583373Z",
     "start_time": "2024-06-19T08:41:34.571657Z"
    }
   },
   "outputs": [],
   "source": [
    "exist_sens_ind = []; # Define existing sensors in the network\n",
    "# exist_sens_ind=d.getNodeIndex({'14','63','114','399','572','302','662'});"
   ]
  },
  {
   "cell_type": "markdown",
   "id": "2dcba6c7d1849d84",
   "metadata": {},
   "source": [
    "##### Solve using GA: Maximize the minimum sensitivity of all sensors to any leakage"
   ]
  },
  {
   "cell_type": "code",
   "execution_count": 306,
   "id": "e128b4b5-052b-474c-bbf1-a148905251fa",
   "metadata": {},
   "outputs": [],
   "source": [
    "#### Sensor Placement optimization problem - Cost function"
   ]
  },
  {
   "cell_type": "code",
   "execution_count": 340,
   "id": "24857fd4-72a0-4354-bd16-4dae91c1cb59",
   "metadata": {},
   "outputs": [],
   "source": [
    "# Cost function: min sensitivity of all leaks\n",
    "def GACostFunction(u, S):\n",
    "    Sm = S[u > 0, :]\n",
    "    Smax = np.max(Sm, axis=0)\n",
    "    # cost = 1 - np.min(Smax)-0.1*np.mean(Smax)\n",
    "    cost = 1-np.min(Smax)\n",
    "    # cost = 1-np.max(Smax)\n",
    "    return cost\n",
    "    \n",
    "# Sensor placement optimization problem for a genetic algorithm. It sets up the problem\n",
    "# dimensions, variable bounds, and defines how to evaluate each solution's fitness using\n",
    "# the provided cost function (GACostFunction). The genetic algorithm can then use this\n",
    "# problem definition to evolve sensor placement configurations towards an optimal solution.\n",
    "class SensorPlacementProblem(Problem):\n",
    "    def __init__(self, S, nj, sensors_num, exist_sens_ind):\n",
    "        self.S = S\n",
    "        self.nj = nj\n",
    "        self.sensors_num = sensors_num\n",
    "        self.exist_sens_ind = exist_sens_ind\n",
    "        super().__init__(n_var=nj, n_obj=1, n_constr=0, xl=0, xu=nj-1, vtype=int)\n",
    "\n",
    "    def _evaluate(self, x, out, *args, **kwargs):\n",
    "        f = np.array([GACostFunction(xi, self.S) for xi in x])\n",
    "        out[\"F\"] = f"
   ]
  },
  {
   "cell_type": "code",
   "execution_count": 341,
   "id": "85be48f6-7fc6-4c2e-a3fc-5006d6e27eff",
   "metadata": {},
   "outputs": [],
   "source": [
    "problem = SensorPlacementProblem(S, nj, sensors_num, exist_sens_ind)"
   ]
  },
  {
   "cell_type": "code",
   "execution_count": 347,
   "id": "e29c1768-1dff-434c-a716-f99658576555",
   "metadata": {},
   "outputs": [],
   "source": [
    "# Configure the Genetic Algorithm (GA)\n",
    "algorithm2 = GA(\n",
    "    n_offsprings=5,\n",
    "    pop_size=200,  # Population size\n",
    "    sampling=IntegerRandomSampling(),  # Correctly specified sampling method\n",
    "    crossover=SimulatedBinaryCrossover(eta=3, prob=1.0),  # Correctly specified crossover method\n",
    "    # eta determines how closely the offspring are clustered around the parent solutions\n",
    "    mutation=PolynomialMutation(eta=3, prob=1.0)  # Correctly specified mutation method\n",
    ")\n",
    "\n",
    "algorithm = NSGA2(\n",
    "    pop_size=100,\n",
    "    n_offsprings=50,  # Generate 50 offsprings in each generation\n",
    "    sampling=IntegerRandomSampling(),\n",
    "    crossover=SBX(prob=1.0, eta=3.0, vtype=float, repair=RoundingRepair()),\n",
    "    mutation=PM(prob=1.0, eta=3.0, vtype=float, repair=RoundingRepair()),\n",
    "    eliminate_duplicates=True\n",
    ")\n"
   ]
  },
  {
   "cell_type": "code",
   "execution_count": 348,
   "id": "4cfbe5d2-a1e8-4dd4-ae6e-094d1baa5941",
   "metadata": {},
   "outputs": [
    {
     "name": "stdout",
     "output_type": "stream",
     "text": [
      "==========================================================\n",
      "n_gen  |  n_eval  | n_nds  |      eps      |   indicator  \n",
      "==========================================================\n",
      "     1 |      100 |     31 |             - |             -\n",
      "     2 |      150 |     62 |  0.000000E+00 |             f\n",
      "     3 |      200 |    100 |  0.000000E+00 |             f\n",
      "     4 |      250 |    100 |  0.000000E+00 |             f\n",
      "     5 |      300 |    100 |  0.000000E+00 |             f\n",
      "     6 |      350 |    100 |  0.000000E+00 |             f\n",
      "     7 |      400 |    100 |  0.000000E+00 |             f\n",
      "     8 |      450 |    100 |  0.000000E+00 |             f\n",
      "     9 |      500 |    100 |  0.000000E+00 |             f\n",
      "    10 |      550 |    100 |  0.000000E+00 |             f\n",
      "    11 |      600 |    100 |  0.000000E+00 |             f\n",
      "    12 |      650 |    100 |  0.000000E+00 |             f\n",
      "    13 |      700 |    100 |  0.000000E+00 |             f\n",
      "    14 |      750 |    100 |  0.000000E+00 |             f\n",
      "    15 |      800 |    100 |  0.000000E+00 |             f\n",
      "    16 |      850 |    100 |  0.000000E+00 |             f\n",
      "    17 |      900 |    100 |  0.000000E+00 |             f\n",
      "    18 |      950 |    100 |  0.000000E+00 |             f\n",
      "    19 |     1000 |    100 |  0.000000E+00 |             f\n",
      "    20 |     1050 |    100 |  0.000000E+00 |             f\n",
      "[[14 23  9 ... 27 19  8]\n",
      " [30 30 26 ... 17 29 16]\n",
      " [ 0 23 24 ... 30 24  4]\n",
      " ...\n",
      " [11 27 27 ... 21 29 15]\n",
      " [ 5  4  2 ... 20 13 15]\n",
      " [11 24 16 ...  9  2 20]]\n"
     ]
    }
   ],
   "source": [
    "# Solve the optimization problem\n",
    "res = minimize(problem,\n",
    "               algorithm,\n",
    "               ('n_gen', 20),\n",
    "               #  multiple criteria (x_tol for tolerance, n_gen for maximum generations,\n",
    "               #  and n_last for stall generations - terminates if there is no improvement\n",
    "               #  in the last 5 generations)\n",
    "               seed=1,  # The seed=1 is used to ensure reproducibility of results.\n",
    "               verbose=True)  # flag is included to provide detailed output during the optimization process.\n",
    "# Extract the result\n",
    "u = res.X\n",
    "print(u)"
   ]
  },
  {
   "cell_type": "markdown",
   "id": "f41ec6c1b58c3fa3",
   "metadata": {},
   "source": [
    "#### Plot sensors"
   ]
  },
  {
   "cell_type": "code",
   "execution_count": 346,
   "id": "2e63b635-9d82-4984-96df-e7960fc622b4",
   "metadata": {},
   "outputs": [
    {
     "name": "stdout",
     "output_type": "stream",
     "text": [
      "[19 17 18  6]\n",
      "['21', '19', '20', '8']\n"
     ]
    },
    {
     "data": {
      "image/png": "[encoded data removed]",
      "text/plain": [
       "<Figure size 3000x1800 with 1 Axes>"
      ]
     },
     "metadata": {},
     "output_type": "display_data"
    }
   ],
   "source": [
    "# Get indices of top sensors\n",
    "top_sensors_indices = np.argsort(u)[-sensors_num:][::-1]\n",
    "\n",
    "print(top_sensors_indices)\n",
    "senors_ids = d.getNodeNameID(list(top_sensors_indices + 1))\n",
    "# print(\"Indices of top\", sensors_num, \"selected sensors:\", senors_ids)\n",
    "\n",
    "# Load optimal solution (for demonstration only!)\n",
    "sens_IDs_demonstration = ['13', '16', '22', '30']\n",
    "# wntr: ['10', '17', '27', '32'], ['12', '15', '17', '27'], ['12', '17', '27', '30'], ['13', '17', '21', '30'], ['16', '22', '29', '30']\n",
    "sens_ind = d.getNodeIndex(senors_ids)\n",
    "print(senors_ids)\n",
    "\n",
    "def custom_plot(coor):\n",
    "    x_nodes = list(coor['x'].values())\n",
    "    y_nodes = list(coor['y'].values())\n",
    "    # Get links connecting nodes\n",
    "    links = d.getNodesConnectingLinksIndex()\n",
    "    # Plot the network manually\n",
    "    fig, ax = plt.subplots(figsize=(10, 6), dpi=300)\n",
    "    for link in links:\n",
    "        x_coords = [coor['x'][link[0]], coor['x'][link[1]]]\n",
    "        y_coords = [coor['y'][link[0]], coor['y'][link[1]]]\n",
    "        ax.plot(x_coords, y_coords, color='steelblue', linewidth=0.7)\n",
    "    ax.axis('off')\n",
    "    # Plot nodes\n",
    "    ax.scatter(x_nodes, y_nodes, color='blue', s=10, zorder=5)\n",
    "    return ax\n",
    "\n",
    "\n",
    "# Get node coordinates\n",
    "coor = d.getNodeCoordinates()\n",
    "# Custom plot - network plot\n",
    "ax = custom_plot(coor)\n",
    "\n",
    "# Plot sensors on the network\n",
    "for sens in sens_ind:\n",
    "    # Add plot point for the leak node\n",
    "    x_sens = coor['x'][sens]\n",
    "    y_sens = coor['y'][sens]\n",
    "\n",
    "    sens_id = d.getNodeNameID(sens)\n",
    "    # Plot the sens node with a higher zorder\n",
    "    ax.plot(x_sens, y_sens, 'o', color='r', markersize=12, zorder=10)\n",
    "    ax.text(x_sens + 60, y_sens, sens_id, color='black', fontweight='bold', fontsize=11, zorder=10)\n",
    "\n",
    "# Set the title and show the plot\n",
    "ax.set_title(f'Number of sensors: {len(sens_ind)}', fontweight='bold')\n",
    "plt.show()"
   ]
  },
  {
   "cell_type": "code",
   "execution_count": null,
   "id": "970e6e3d-712f-4442-b68f-a4cd834368ac",
   "metadata": {},
   "outputs": [],
   "source": []
  },
  {
   "cell_type": "code",
   "execution_count": null,
   "id": "8163c067-cf1c-4194-b841-9c449c354274",
   "metadata": {},
   "outputs": [],
   "source": []
  }
 ],
 "metadata": {
  "kernelspec": {
   "display_name": "Python 3 (Spyder)",
   "language": "python3",
   "name": "python3"
  },
  "language_info": {
   "codemirror_mode": {
    "name": "ipython",
    "version": 3
   },
   "file_extension": ".py",
   "mimetype": "text/x-python",
   "name": "python",
   "nbconvert_exporter": "python",
   "pygments_lexer": "ipython3",
   "version": "3.10.14"
  },
  "widgets": {
   "application/vnd.jupyter.widget-state+json": {
    "state": {},
    "version_major": 2,
    "version_minor": 0
   }
  }
 },
 "nbformat": 4,
 "nbformat_minor": 5
}
