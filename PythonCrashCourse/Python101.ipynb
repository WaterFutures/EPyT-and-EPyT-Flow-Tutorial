{
 "cells": [
  {
   "cell_type": "markdown",
   "metadata": {},
   "source": [
    "## Python crash course\n",
    "This is a short introduction to the Python programming language. It focuses on usage and not on theory or underlying concepts. The content is chosen in order to *prepare you for the programming exercises*.\n",
    "\n",
    "**The course does NOT claim completness and does NOT replace a \"proper\" (complete) introduction to the Python programming language.**\n",
    "\n",
    "Additional material:\n",
    "- https://www.tutorialspoint.com/python/index.htm\n",
    "- https://docs.python.org/3/tutorial/index.html\n",
    "- https://cs231n.github.io/python-numpy-tutorial/\n",
    "- https://matplotlib.org/users/pyplot_tutorial.html\n",
    "\n",
    "scikit-learn **for students with Python & machin learning experience** (advanced but *might be useful during the term*)\n",
    "- http://scikit-learn.org/stable/tutorial/basic/tutorial.html\n",
    "- http://scikit-learn.org/stable/tutorial/index.html\n",
    "- http://scikit-learn.org/stable/user_guide.html"
   ]
  },
  {
   "cell_type": "markdown",
   "metadata": {},
   "source": [
    "## Usage as a simple calculator"
   ]
  },
  {
   "cell_type": "code",
   "execution_count": null,
   "metadata": {},
   "outputs": [],
   "source": [
    "2+5"
   ]
  },
  {
   "cell_type": "code",
   "execution_count": null,
   "metadata": {},
   "outputs": [],
   "source": [
    "8*8"
   ]
  },
  {
   "cell_type": "code",
   "execution_count": null,
   "metadata": {},
   "outputs": [],
   "source": [
    "print(5+5)"
   ]
  },
  {
   "cell_type": "code",
   "execution_count": null,
   "metadata": {},
   "outputs": [],
   "source": [
    "2**8    # 2 to the power of 8"
   ]
  },
  {
   "cell_type": "markdown",
   "metadata": {},
   "source": [
    "## Basic variables & types"
   ]
  },
  {
   "cell_type": "code",
   "execution_count": null,
   "metadata": {},
   "outputs": [],
   "source": [
    "a = 12\n",
    "type(a)"
   ]
  },
  {
   "cell_type": "code",
   "execution_count": null,
   "metadata": {},
   "outputs": [],
   "source": [
    "a = \"I am a string\"\n",
    "a"
   ]
  },
  {
   "cell_type": "code",
   "execution_count": null,
   "metadata": {},
   "outputs": [],
   "source": [
    "type(a)"
   ]
  },
  {
   "cell_type": "code",
   "execution_count": null,
   "metadata": {},
   "outputs": [],
   "source": [
    "type(2.5)"
   ]
  },
  {
   "cell_type": "code",
   "execution_count": null,
   "metadata": {},
   "outputs": [],
   "source": [
    "l = [1,2,3,4,5]\n",
    "l"
   ]
  },
  {
   "cell_type": "code",
   "execution_count": null,
   "metadata": {},
   "outputs": [],
   "source": [
    "type(l)"
   ]
  },
  {
   "cell_type": "code",
   "execution_count": null,
   "metadata": {},
   "outputs": [],
   "source": [
    "y = True\n",
    "n = False"
   ]
  },
  {
   "cell_type": "code",
   "execution_count": null,
   "metadata": {},
   "outputs": [],
   "source": [
    "type(y)"
   ]
  },
  {
   "cell_type": "code",
   "execution_count": null,
   "metadata": {},
   "outputs": [],
   "source": [
    "t = (1,2,3)"
   ]
  },
  {
   "cell_type": "code",
   "execution_count": null,
   "metadata": {},
   "outputs": [],
   "source": [
    "type(t)  # NOTE: type(t) != list!"
   ]
  },
  {
   "cell_type": "markdown",
   "metadata": {},
   "source": [
    "## Comments"
   ]
  },
  {
   "cell_type": "code",
   "execution_count": null,
   "metadata": {},
   "outputs": [],
   "source": [
    "# One line comment\n",
    "42"
   ]
  },
  {
   "cell_type": "code",
   "execution_count": null,
   "metadata": {},
   "outputs": [],
   "source": [
    "'''\n",
    "I am a multi line comment\n",
    "bla bla\n",
    "bla\n",
    "'''\n",
    "1+2"
   ]
  },
  {
   "cell_type": "markdown",
   "metadata": {},
   "source": [
    "## Working with lists"
   ]
  },
  {
   "cell_type": "code",
   "execution_count": null,
   "metadata": {},
   "outputs": [],
   "source": [
    "a = [1,2,3,1,4,5,6]"
   ]
  },
  {
   "cell_type": "code",
   "execution_count": null,
   "metadata": {},
   "outputs": [],
   "source": [
    "# Indexing operator with positve values\n",
    "print(a[0])  # First item\n",
    "print(a[1])  # Second item\n",
    "\n",
    "# with negative values\n",
    "print(a[-1])  # Last item\n",
    "print(a[-2])  # Item before last item\n",
    "print(a[-3])  # ..."
   ]
  },
  {
   "cell_type": "code",
   "execution_count": null,
   "metadata": {},
   "outputs": [],
   "source": [
    "# Select a range/slice\n",
    "print(a[1:4]) # Select second to fourth items\n",
    "print(a[1:])  # All items after the first one (which is not included)"
   ]
  },
  {
   "cell_type": "code",
   "execution_count": null,
   "metadata": {},
   "outputs": [],
   "source": [
    "# TODO: ATTENTION: Functions are explained in the next section (at least a little bit)!\n",
    "# Functions on lists (ATTENTION: Different syntax)\n",
    "print(len(a))   # Length of a list\n",
    "print(a.count(1))  # How many times does the item '1' occure\n",
    "\n",
    "a.reverse()\n",
    "print(a)\n",
    "\n",
    "a.append(100)\n",
    "print(a)\n",
    "\n",
    "print(a.pop())\n",
    "print(a)\n",
    "\n",
    "# Many more functions ..."
   ]
  },
  {
   "cell_type": "code",
   "execution_count": null,
   "metadata": {},
   "outputs": [],
   "source": [
    "# Create a list by using range  (ATTENTION: range is lazy!)\n",
    "z = list(range(0, 10))\n",
    "print(z)\n",
    "print(range(0, 10))\n",
    "\n",
    "z = list(range(1, 20, 2))  # Stepsize has to be an integer!\n",
    "z"
   ]
  },
  {
   "cell_type": "code",
   "execution_count": null,
   "metadata": {},
   "outputs": [],
   "source": [
    "# Create a list by using list comprehension\n",
    "print([x**2 for x in [1,2,3,4,5,6]])"
   ]
  },
  {
   "cell_type": "code",
   "execution_count": null,
   "metadata": {},
   "outputs": [],
   "source": [
    "# ATTENTION: How to copy a list\n",
    "a2 = a   # Not a copy but a reference\n",
    "\n",
    "a3 = a[:]  # This is a copy!"
   ]
  },
  {
   "cell_type": "markdown",
   "metadata": {},
   "source": [
    "### Working with tuples"
   ]
  },
  {
   "cell_type": "code",
   "execution_count": null,
   "metadata": {},
   "outputs": [],
   "source": [
    "t = (1,2,3)  # NOTE: A tuple is immutable (=> can not be changed after it's created)"
   ]
  },
  {
   "cell_type": "code",
   "execution_count": null,
   "metadata": {},
   "outputs": [],
   "source": [
    "print(t[0])\n",
    "print(t[1])"
   ]
  },
  {
   "cell_type": "code",
   "execution_count": null,
   "metadata": {},
   "outputs": [],
   "source": [
    "# Unpack a tuple\n",
    "a, b, c = t\n",
    "\n",
    "print(a)\n",
    "print(b)\n",
    "print(c)"
   ]
  },
  {
   "cell_type": "code",
   "execution_count": null,
   "metadata": {},
   "outputs": [],
   "source": [
    "# Convert: List to tuple\n",
    "y = tuple([1,2,3])\n",
    "print(y)\n",
    "print(type(y))\n",
    "\n",
    "# Convert: Tuple to list\n",
    "y2 = list(y)\n",
    "print(y2)\n",
    "print(type(y2))"
   ]
  },
  {
   "cell_type": "markdown",
   "metadata": {},
   "source": [
    "## Functions"
   ]
  },
  {
   "cell_type": "code",
   "execution_count": null,
   "metadata": {},
   "outputs": [],
   "source": [
    "# Using a function is very easy!\n",
    "# ret = Name(arguments)\n",
    "print(len(range(1,10)))\n",
    "z = len(str(25))\n",
    "print(z)"
   ]
  },
  {
   "cell_type": "markdown",
   "metadata": {},
   "source": [
    "### Define your own functions"
   ]
  },
  {
   "cell_type": "code",
   "execution_count": null,
   "metadata": {},
   "outputs": [],
   "source": [
    "# A very simple function\n",
    "def myFunction():\n",
    "    print(\"Hello from inside myFunction!\")"
   ]
  },
  {
   "cell_type": "code",
   "execution_count": null,
   "metadata": {},
   "outputs": [],
   "source": [
    "myFunction()"
   ]
  },
  {
   "cell_type": "code",
   "execution_count": null,
   "metadata": {},
   "outputs": [],
   "source": [
    "# Function with argument(s)\n",
    "def anotherFunction(a):   # Multiple arguments are possible: def anotherFunction(a, b, c, ...)\n",
    "    print(a)"
   ]
  },
  {
   "cell_type": "code",
   "execution_count": null,
   "metadata": {},
   "outputs": [],
   "source": [
    "anotherFunction(89)"
   ]
  },
  {
   "cell_type": "code",
   "execution_count": null,
   "metadata": {},
   "outputs": [],
   "source": [
    "# Function with a return value\n",
    "def functionWithRetVal(x):\n",
    "    return x + 1"
   ]
  },
  {
   "cell_type": "code",
   "execution_count": null,
   "metadata": {},
   "outputs": [],
   "source": [
    "r = functionWithRetVal(5)\n",
    "print(r)"
   ]
  },
  {
   "cell_type": "markdown",
   "metadata": {},
   "source": [
    "## Control structures"
   ]
  },
  {
   "cell_type": "markdown",
   "metadata": {},
   "source": [
    "### Working with boolean expressions"
   ]
  },
  {
   "cell_type": "code",
   "execution_count": null,
   "metadata": {},
   "outputs": [],
   "source": [
    "c = True\n",
    "\n",
    "not_c = not c\n",
    "print(not_c)\n",
    "\n",
    "c_test = c is False\n",
    "print(c_test)\n",
    "\n",
    "c_test2 = not_c is not True\n",
    "print(c_test2)\n",
    "\n",
    "l = True and False\n",
    "print(l)\n",
    "\n",
    "print(True or False)"
   ]
  },
  {
   "cell_type": "markdown",
   "metadata": {},
   "source": [
    "### Conditions"
   ]
  },
  {
   "cell_type": "code",
   "execution_count": null,
   "metadata": {},
   "outputs": [],
   "source": [
    "a = 2\n",
    "if a == 3:\n",
    "    print(\"a = 3\")\n",
    "elif a == 2:\n",
    "    print(\"a = 2\")\n",
    "else:\n",
    "    print(\"a != 2\")"
   ]
  },
  {
   "cell_type": "code",
   "execution_count": null,
   "metadata": {},
   "outputs": [],
   "source": [
    "# All expressions with a boolean result are valid conditions\n",
    "if a > 3:\n",
    "    print(\"a > 3\")\n",
    "    \n",
    "if len(\"ABC\") == 3:\n",
    "    print(\"String with length 3\")"
   ]
  },
  {
   "cell_type": "code",
   "execution_count": null,
   "metadata": {},
   "outputs": [],
   "source": [
    "\"\"\"\n",
    "General syntax\n",
    "\n",
    "if <cond1>:\n",
    "    ....\n",
    "elif <cond2>:\n",
    "    ....\n",
    "...\n",
    "else:\n",
    "    ...\n",
    "\"\"\""
   ]
  },
  {
   "cell_type": "markdown",
   "metadata": {},
   "source": [
    "### Loops"
   ]
  },
  {
   "cell_type": "code",
   "execution_count": null,
   "metadata": {},
   "outputs": [],
   "source": [
    "# while loop\n",
    "i = 0\n",
    "while i < 5:\n",
    "    print(i)\n",
    "    i += 1\n",
    "    \n",
    "\n",
    "cond = True\n",
    "while cond is True:\n",
    "    print(\"Bla\")\n",
    "    cond = False"
   ]
  },
  {
   "cell_type": "code",
   "execution_count": null,
   "metadata": {},
   "outputs": [],
   "source": [
    "\"\"\"\n",
    "General syntax\n",
    "\n",
    "while <cond> == True:\n",
    "    ...\n",
    "\"\"\""
   ]
  },
  {
   "cell_type": "code",
   "execution_count": null,
   "metadata": {},
   "outputs": [],
   "source": [
    "# for loop\n",
    "for i in range(1,5):\n",
    "    print(i)\n",
    "    \n",
    "for _ in range(5):\n",
    "    print(\"Hi\")"
   ]
  },
  {
   "cell_type": "code",
   "execution_count": null,
   "metadata": {},
   "outputs": [],
   "source": [
    "\"\"\"\n",
    "General syntax\n",
    "\n",
    "for i in somelist:\n",
    "    ...\n",
    "\"\"\""
   ]
  },
  {
   "cell_type": "markdown",
   "metadata": {},
   "source": [
    "## Import & Modules"
   ]
  },
  {
   "cell_type": "code",
   "execution_count": null,
   "metadata": {},
   "outputs": [],
   "source": [
    "import math   # Import the module 'math'\n",
    "math.sqrt(25)  # Call a function from the module (in this case function 'sqrt' from the module 'math')"
   ]
  },
  {
   "cell_type": "code",
   "execution_count": null,
   "metadata": {},
   "outputs": [],
   "source": [
    "from math import sqrt  # Import the function 'sqrt' from the module 'math'\n",
    "sqrt(4)   # NOTE: We do not need to specify the module any more! (Be aware of naming conflicts)"
   ]
  },
  {
   "cell_type": "markdown",
   "metadata": {},
   "source": [
    "## OOP: Classes and objects"
   ]
  },
  {
   "cell_type": "code",
   "execution_count": null,
   "metadata": {},
   "outputs": [],
   "source": [
    "# NOTE: 'self' is smth. like 'this' in other programming languages (e.g. c++, java, ...)\n",
    "\n",
    "# Define a new class\n",
    "class MyFirstClass:\n",
    "    # Constructor\n",
    "    def __init__(self):\n",
    "        # Init member variables and other stuff\n",
    "        self.member_var = 42\n",
    "        print(\"Constructor finished!\")\n",
    "        \n",
    "    # Member function/method\n",
    "    def someFunction(self):\n",
    "        print(\"Hello!\")\n",
    "        \n",
    "        # Access of member variables/functions by using 'self'\n",
    "        print(self.member_var)\n",
    "        self.member_var += 1\n",
    "        \n",
    "# Create an instance of the class (=> create an object)\n",
    "objMyClass = MyFirstClass()  # Note: Constructor is called!\n",
    "\n",
    "# Call a method\n",
    "objMyClass.someFunction()\n",
    "\n",
    "# Access a variable\n",
    "print(objMyClass.member_var)"
   ]
  },
  {
   "cell_type": "markdown",
   "metadata": {},
   "source": [
    "## numpy: Working with arrays (matrices, vectors, ...)"
   ]
  },
  {
   "cell_type": "code",
   "execution_count": null,
   "metadata": {},
   "outputs": [],
   "source": [
    "import numpy as np   # Note: 'numpy' is now available as 'np'"
   ]
  },
  {
   "cell_type": "code",
   "execution_count": null,
   "metadata": {},
   "outputs": [],
   "source": [
    "my_vector = np.array([1, 2, 3])  # Create a new vector with 3 elements (3d)\n",
    "\n",
    "print(my_vector)\n",
    "print(my_vector.shape)"
   ]
  },
  {
   "cell_type": "code",
   "execution_count": null,
   "metadata": {},
   "outputs": [],
   "source": [
    "my_matrix = np.array([[1, 2], [3, 4]])  # Create a new 2x2 matrix\n",
    "\n",
    "print(my_matrix)\n",
    "print(my_matrix.shape)"
   ]
  },
  {
   "cell_type": "code",
   "execution_count": null,
   "metadata": {},
   "outputs": [],
   "source": [
    "# Access entries\n",
    "print(my_matrix[0,0])\n",
    "print(my_matrix[0,1])\n",
    "\n",
    "print(my_vector[2])\n",
    "my_vector[2] = 42  # Change an entry\n",
    "print(my_vector)\n",
    "\n",
    "# Slicing\n",
    "print(my_matrix[0,:])  # First row\n",
    "print(my_matrix[:, 0]) # First column\n",
    "print(my_matrix[:, 1])  # Second column"
   ]
  },
  {
   "cell_type": "code",
   "execution_count": null,
   "metadata": {},
   "outputs": [],
   "source": [
    "# Create arrays: Use build in functions\n",
    "\n",
    "print(np.eye(3))\n",
    "\n",
    "np.zeros((5,3))  # Note: Shape must be specified as a tuple!"
   ]
  },
  {
   "cell_type": "code",
   "execution_count": null,
   "metadata": {},
   "outputs": [],
   "source": [
    "mat = np.eye(4)\n",
    "print(mat)\n",
    "\n",
    "# Evaluate a boolean expression for each element\n",
    "print(mat > 0)\n",
    "\n",
    "# Use a mask\n",
    "mask = mat > 0  # Evaluate boolean expression\n",
    "print(mat[mask]) # Select all items/entries for which the expression yields True"
   ]
  },
  {
   "cell_type": "code",
   "execution_count": null,
   "metadata": {},
   "outputs": [],
   "source": [
    "# Sum over rows or columns\n",
    "print(my_matrix)\n",
    "\n",
    "print(np.sum(my_matrix, axis=0))  # Sum of each column\n",
    "print(np.sum(my_matrix, axis=1))  # Sum of each row"
   ]
  },
  {
   "cell_type": "code",
   "execution_count": null,
   "metadata": {},
   "outputs": [],
   "source": [
    "# Change the shape of an array\n",
    "print(my_matrix)\n",
    "print(my_matrix.shape)\n",
    "\n",
    "new_matrix = my_matrix.reshape((4,))  # Reshape matrix to a flat array (=> vector)\n",
    "print(new_matrix)\n",
    "print(new_matrix.shape)"
   ]
  },
  {
   "cell_type": "markdown",
   "metadata": {},
   "source": [
    "## Plotting"
   ]
  },
  {
   "cell_type": "code",
   "execution_count": null,
   "metadata": {},
   "outputs": [],
   "source": [
    "%matplotlib inline\n",
    "# All plots will appear in the notebook (not in a new window)\n",
    "import matplotlib.pyplot as plt   # Import module"
   ]
  },
  {
   "cell_type": "code",
   "execution_count": null,
   "metadata": {},
   "outputs": [],
   "source": [
    "# Simple plot\n",
    "x = [1,2,3]\n",
    "y = [2,3,4]\n",
    "plt.plot(x, y, 'ro')  # r: red, o: circle\n",
    "#plt.plot(x, y, 'b^')\n",
    "plt.show()"
   ]
  },
  {
   "cell_type": "code",
   "execution_count": null,
   "metadata": {},
   "outputs": [],
   "source": [
    "# Plot multiple data sets\n",
    "x1 = [1,2,3]\n",
    "y1 = [2,3,4]\n",
    "\n",
    "x2 = [5,6,7]\n",
    "y2 = [-2,-3,-4]\n",
    "\n",
    "plt.plot(x1, y1, 'bo', x2, y2, 'r*')\n",
    "plt.show()"
   ]
  },
  {
   "cell_type": "code",
   "execution_count": null,
   "metadata": {},
   "outputs": [],
   "source": [
    "# Line plot\n",
    "x = [1,2,4]\n",
    "y = [2,3,5]\n",
    "plt.plot(x, y, 'r-')  # r: red, -: line\n",
    "plt.show()"
   ]
  },
  {
   "cell_type": "code",
   "execution_count": null,
   "metadata": {},
   "outputs": [],
   "source": [
    "# Customize your plot (specify a title, labels, ...)\n",
    "x1 = [1,2,3]\n",
    "y1 = [2,3,4]\n",
    "\n",
    "x2 = [5,6,7]\n",
    "y2 = [-2,-3,-4]\n",
    "\n",
    "plt.plot(x1, y1, 'bo', x2, y2, 'r*')\n",
    "plt.ylabel('Y axis')\n",
    "plt.xlabel('Description of x axis')\n",
    "plt.title('My plot')\n",
    "# ....\n",
    "plt.show()"
   ]
  },
  {
   "cell_type": "code",
   "execution_count": null,
   "metadata": {},
   "outputs": [],
   "source": [
    "# Multiple plots - Easy (NOTE: A complicated but more powerful way is to use 'subplot')\n",
    "fig, (plot1, plot2) = plt.subplots(2, 1)  # 2 rows + 1 column\n",
    "#fig, plots = plt.subplots(2, 1)  # 2 rows + 1 column\n",
    "\n",
    "x = range(0, 100)\n",
    "\n",
    "plot1.plot(x, np.sin(x), 'g')\n",
    "plot2.plot(x, np.cos(x), 'r--')\n",
    "#plots[0].plot(x, np.sin(x), 'g')\n",
    "#plots[1].plot(x, np.cos(x), 'r--')\n",
    "\n",
    "plt.show()"
   ]
  },
  {
   "cell_type": "code",
   "execution_count": null,
   "metadata": {},
   "outputs": [],
   "source": []
  }
 ],
 "metadata": {
  "kernelspec": {
   "display_name": "Python 3",
   "language": "python",
   "name": "python3"
  },
  "language_info": {
   "codemirror_mode": {
    "name": "ipython",
    "version": 3
   },
   "file_extension": ".py",
   "mimetype": "text/x-python",
   "name": "python",
   "nbconvert_exporter": "python",
   "pygments_lexer": "ipython3",
   "version": "3.6.7"
  }
 },
 "nbformat": 4,
 "nbformat_minor": 1
}
