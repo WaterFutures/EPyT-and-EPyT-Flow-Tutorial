{
 "cells": [
  {
   "cell_type": "markdown",
   "id": "75c97d39673fa28b",
   "metadata": {},
   "source": [
    "## Using EPANET-MSX in EPyT\n",
    "\n",
    "### Outline\n",
    "  - Initialize EPANET-Python Toolkit\n",
    "  - Multi-species chemical reactions "
   ]
  },
  {
   "cell_type": "markdown",
   "id": "c38a70549d0a55f5",
   "metadata": {},
   "source": [
    "### Initialize EPANET Python Toolkit (EPyT)\n",
    "\n",
    "You should always begin with this command to import the toolkit.\n",
    "\n",
    "[EPyT](https://github.com/OpenWaterAnalytics/EPyT) is available on [PyPI](https://pypi.org/project/epyt/) and can be installed via `pip install epyt`. To upgrade to the latest version if it's already installed, use `pip install --upgrade epyt`."
   ]
  },
  {
   "cell_type": "code",
   "execution_count": null,
   "id": "4ccaef7d-2f6b-46fa-94a4-fdb3bf18e93a",
   "metadata": {},
   "outputs": [],
   "source": [
    "%pip install epyt"
   ]
  },
  {
   "cell_type": "code",
   "execution_count": null,
   "id": "aaf74a098353d918",
   "metadata": {
    "ExecuteTime": {
     "end_time": "2024-06-17T06:42:46.015376Z",
     "start_time": "2024-06-17T06:42:45.999798Z"
    }
   },
   "outputs": [],
   "source": [
    "from epyt import epanet"
   ]
  },
  {
   "cell_type": "markdown",
   "id": "942984bb1560d9b0",
   "metadata": {},
   "source": [
    "### Load a benchmark network\n",
    "Decide which benchmark network to use and load the network"
   ]
  },
  {
   "cell_type": "code",
   "execution_count": null,
   "id": "b0ec3d9e81dd76e9",
   "metadata": {
    "ExecuteTime": {
     "end_time": "2024-06-17T06:42:46.150457Z",
     "start_time": "2024-06-17T06:42:46.096611Z"
    }
   },
   "outputs": [],
   "source": [
    "# Decide which network to load from the \"/networks/\" folder  \n",
    "filename = 'data/net2-cl2.inp' # You can also try 'net2-cl2.inp', 'Net3.inp', etc.\n",
    " \n",
    "# Call epanet class and load all data and functions in G structure\n",
    "G = epanet(filename)"
   ]
  },
  {
   "cell_type": "code",
   "execution_count": null,
   "id": "60092031d81e8a5a",
   "metadata": {
    "ExecuteTime": {
     "end_time": "2024-06-17T06:42:46.710415Z",
     "start_time": "2024-06-17T06:42:46.150457Z"
    }
   },
   "outputs": [],
   "source": [
    "G.plot()\n",
    "G.plot_close()"
   ]
  },
  {
   "cell_type": "markdown",
   "id": "9d65c1022a2c14e6",
   "metadata": {},
   "source": [
    "### Multi-species chemical reactions\n",
    "<img src=\"icons/img21.png\" alt=\"chemical reactions\" style=\"display: inline-block; width: 70%; height: 20%;\">"
   ]
  },
  {
   "cell_type": "markdown",
   "id": "bea6043499d239e9",
   "metadata": {},
   "source": [
    "##### Reactions in water can be described using a set of Differential Algebraic Equations (DAE):  \n",
    "<br>\n",
    "$ \\frac{dx_b}{dt} = f(x_b,x_s,z_b,z_s) $   <br> <br>\n",
    "$ \\frac{dx_s}{dt} = g(x_b,x_s,z_b,z_s) $   <br>   <br>\n",
    "$ 0 = h(x_b,x_s,z_b,z_s) $   \n",
    "\n",
    "These equations describe most of the reactions in water distribution systems. The solution methodology follows the following steps:\n",
    "  - Split the pipes into segments\n",
    "  - Solve the reaction equations for each segment\n",
    "  - Compute the advection (movement based on flows)\n",
    "  - Mix the bulk concentrations with the pipe wall concentrations \n",
    "  - Recompute segmens"
   ]
  },
  {
   "cell_type": "markdown",
   "id": "158a07603a98ed2c",
   "metadata": {},
   "source": [
    "<img src=\"icons/img22.png\" style=\"display: inline-block; width: 60%; height: 40%;\">"
   ]
  },
  {
   "cell_type": "markdown",
   "id": "4eca10a7dc8a4fb5",
   "metadata": {},
   "source": [
    "The set of diferential equations can be solved using an explicit method, e.g. Runge-Kutta or Forward Euler method.\n",
    "\n",
    "### Chlorine reactions\n",
    "<img src=\"icons/img23.png\" style=\"display: inline-block; width: 80%; height: 40%;\">"
   ]
  },
  {
   "cell_type": "markdown",
   "id": "c6f00dcae9178de3",
   "metadata": {},
   "source": [
    "The most standard assumption is that Free Chlorine concentration is linear, i.e,  \n",
    "\n",
    "$ \\frac{dC(t)}{dt} = -k_bC(t) $ <br>\n",
    "Where $ C(t) $ is the free chlorine concentration measured in $ mg/L $"
   ]
  },
  {
   "cell_type": "code",
   "execution_count": null,
   "id": "a6aab03ff1f5f9d4",
   "metadata": {
    "ExecuteTime": {
     "end_time": "2024-06-17T06:42:46.720354Z",
     "start_time": "2024-06-17T06:42:46.711443Z"
    }
   },
   "outputs": [],
   "source": [
    "# Example MSX file\n",
    "msxfilename = 'data/net2-cl2.msx'\n",
    "with open(msxfilename, 'r') as fid:\n",
    "    content = fid.read()\n",
    "    print(content)"
   ]
  },
  {
   "cell_type": "markdown",
   "id": "9746f3594536f930",
   "metadata": {},
   "source": [
    "#### How to load an MSX file"
   ]
  },
  {
   "cell_type": "code",
   "execution_count": null,
   "id": "42edb0448423eb7f",
   "metadata": {
    "ExecuteTime": {
     "end_time": "2024-06-17T06:42:47.058021Z",
     "start_time": "2024-06-17T06:42:46.724153Z"
    }
   },
   "outputs": [],
   "source": [
    "# Load EPANET-MSX file\n",
    "G.loadMSXFile(msxfilename)   # Load MSX file with reactions\n",
    "qual_res_MSX = G.getMSXComputedQualitySpecie(['CL2'])"
   ]
  },
  {
   "cell_type": "code",
   "execution_count": null,
   "id": "c1339e4cc314c614",
   "metadata": {
    "ExecuteTime": {
     "end_time": "2024-06-17T06:42:47.335289Z",
     "start_time": "2024-06-17T06:42:47.058021Z"
    }
   },
   "outputs": [],
   "source": [
    "Q_msx = G.getMSXComputedQualityNode() # Compute water quality using MSX\n",
    "print('Q_msx =', G.getAllAttributes(Q_msx))"
   ]
  },
  {
   "cell_type": "markdown",
   "id": "1d86fd1ebb654a40",
   "metadata": {},
   "source": [
    "Plot MSX species in MATLAB Figure"
   ]
  },
  {
   "cell_type": "code",
   "execution_count": null,
   "id": "638d41dd5d705e4d",
   "metadata": {
    "ExecuteTime": {
     "end_time": "2024-06-17T06:42:47.377783Z",
     "start_time": "2024-06-17T06:42:47.335289Z"
    }
   },
   "outputs": [],
   "source": [
    "G.plotMSXSpeciesNodeConcentration(5,1)"
   ]
  },
  {
   "cell_type": "markdown",
   "id": "1fb8b17fe2c03639",
   "metadata": {},
   "source": [
    "#### Another example"
   ]
  },
  {
   "cell_type": "code",
   "execution_count": null,
   "id": "11f0f7b9ef4f5c58",
   "metadata": {},
   "outputs": [],
   "source": [
    "# Get quality of specific nodes\n",
    "sensor_index = [2, 3, 5]\n",
    "sensors_names = G.getNodeNameID(sensor_index)\n",
    "print('sensors_names =', sensors_names)"
   ]
  },
  {
   "cell_type": "code",
   "execution_count": null,
   "id": "52d22c653e80e915",
   "metadata": {},
   "outputs": [],
   "source": [
    "QN = G.getMSXComputedQualityNode(sensor_index)\n",
    "print('QN =', G.getAllAttributes(QN))"
   ]
  },
  {
   "cell_type": "code",
   "execution_count": null,
   "id": "a423ea77e49f073",
   "metadata": {},
   "outputs": [],
   "source": [
    "# Get quality of specific links\n",
    "QL = G.getMSXComputedQualityLink(sensor_index)\n",
    "print('QL =', G.getAllAttributes(QL))"
   ]
  },
  {
   "cell_type": "code",
   "execution_count": null,
   "id": "60688b6527207e53",
   "metadata": {},
   "outputs": [],
   "source": [
    "# Get species names\n",
    "type = G.getMSXSpeciesNameID()\n",
    "print(type)\n",
    "\n",
    "# Get quality for specific species type (nodes and links)\n",
    "MSX_comp = G.getMSXComputedQualitySpecie(type)"
   ]
  },
  {
   "cell_type": "code",
   "execution_count": null,
   "id": "504d52ca-df27-4af4-970f-48a75eea93bb",
   "metadata": {},
   "outputs": [],
   "source": [
    "G.getAllAttributes(MSX_comp)"
   ]
  },
  {
   "cell_type": "code",
   "execution_count": null,
   "id": "167df4b740f8971",
   "metadata": {},
   "outputs": [],
   "source": [
    "G.plotMSXSpeciesNodeConcentration(3,1) "
   ]
  },
  {
   "cell_type": "markdown",
   "id": "c1b27369b5e547c4",
   "metadata": {},
   "source": [
    "#### Unload libraries"
   ]
  },
  {
   "cell_type": "code",
   "execution_count": null,
   "id": "a2f85f359bcb28b",
   "metadata": {},
   "outputs": [],
   "source": [
    "G.unloadMSX()\n",
    "G.unload()"
   ]
  }
 ],
 "metadata": {
  "kernelspec": {
   "display_name": "Python 3 (Spyder)",
   "language": "python3",
   "name": "python3"
  },
  "language_info": {
   "codemirror_mode": {
    "name": "ipython",
    "version": 3
   },
   "file_extension": ".py",
   "mimetype": "text/x-python",
   "name": "python",
   "nbconvert_exporter": "python",
   "pygments_lexer": "ipython3",
   "version": "3.10.14"
  }
 },
 "nbformat": 4,
 "nbformat_minor": 5
}
