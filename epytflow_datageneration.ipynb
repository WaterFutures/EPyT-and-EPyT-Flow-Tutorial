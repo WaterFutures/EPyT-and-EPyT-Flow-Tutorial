{
 "cells": [
  {
   "cell_type": "markdown",
   "metadata": {},
   "source": [
    "# Scenario Generation in EPyT-Flow"
   ]
  },
  {
   "cell_type": "markdown",
   "metadata": {},
   "source": [
    "An essential aspect of scenarios are events such as leakages, sensor faults, cyber-attacks, contaminations, actuator events, etc.\n",
    "Those events create (complex) dynamics in the system directly affecting the operation of the entire WDN.\n",
    "\n",
    "EPyT-Flow comes with a wide variety of different pre-implemented [events](https://epyt-flow.readthedocs.io/en/stable/tut.events.html) that can be used to build custom scenarios:\n",
    "\n",
    "- [Leakages](https://epyt-flow.readthedocs.io/en/stable/tut.events.html#leakages) such as abrupt and incipient leakages.\n",
    "- [Sensor Faults](https://epyt-flow.readthedocs.io/en/stable/tut.events.html#sensor-faults) such as shifts and complete failures.\n",
    "- [Sensor Reading Attacks](https://epyt-flow.readthedocs.io/en/stable/tut.events.html#sensor-reading-attacks) such as replay and override attacks.\n",
    "- [Actuator Events](https://epyt-flow.readthedocs.io/en/stable/tut.events.html#actuator-events) such as pump state/speed and valve state events.\n",
    "\n",
    "Furthermore, EPyT-Flow also allows the user to easily customize those events or implement their own events -- more information can be found in the [documentation](https://epyt-flow.readthedocs.io/en/stable/tut.events.html#custom-events).\n",
    "\n",
    "#### Outline\n",
    "\n",
    "This notebook demonstrates how to use EPyT-Flow for creating a scenario that contains multiple different events:\n",
    "\n",
    "1. Adding leakages\n",
    "2. Adding sensor faults\n",
    "    - Before the simulation is run\n",
    "    - After the simulation as some form of post-processing\n",
    "3. Exporting simulation results to other data forms (e.g. Excel)\n",
    "4. Parallel scenario simulation to speed the data generation up"
   ]
  },
  {
   "cell_type": "code",
   "execution_count": null,
   "metadata": {},
   "outputs": [],
   "source": [
    "%pip install epyt-flow"
   ]
  },
  {
   "cell_type": "code",
   "execution_count": null,
   "metadata": {},
   "outputs": [],
   "source": [
    "from epyt.epanet import ToolkitConstants\n",
    "from epyt_flow.simulation import ScenarioSimulator, ParallelScenarioSimulation, ScenarioConfig\n",
    "from epyt_flow.simulation.events import AbruptLeakage, SensorFaultStuckZero, SensorFaultGaussian, \\\n",
    "    SENSOR_TYPE_NODE_PRESSURE\n",
    "from epyt_flow.simulation.scada import ScadaData, ScadaDataXlsxExport\n",
    "from epyt_flow.data.benchmarks import load_leakdb_scenarios\n",
    "from epyt_flow.data.networks import load_hanoi\n",
    "from epyt_flow.utils import to_seconds, plot_timeseries_data"
   ]
  },
  {
   "cell_type": "markdown",
   "metadata": {},
   "source": [
    "We create a new scenario based on the [Hanoi network](https://epyt-flow.readthedocs.io/en/stable/epyt_flow.data.html#epyt_flow.data.networks.load_hanoi) including a default sensor placement -- note that we also set the flow units to *cubic meter per hour*:"
   ]
  },
  {
   "cell_type": "code",
   "execution_count": null,
   "metadata": {},
   "outputs": [],
   "source": [
    "# Load Hanoi network configuration and make sure that we use \"cubic meter per hour\" as the flow unit\n",
    "hanoi_network_config = load_hanoi(include_default_sensor_placement=True, verbose=True,\n",
    "                                  flow_units_id=ToolkitConstants.EN_CMH)\n",
    "\n",
    "print(hanoi_network_config.sensor_config.to_json()) # Show sensor config\n",
    "\n",
    "# Create new scenario simulator\n",
    "sim = ScenarioSimulator(scenario_config=hanoi_network_config)\n",
    "\n",
    "# Set simulation duration to 2 days and the hydraulic & reporting time steps to 30min\n",
    "sim.set_general_parameters(simulation_duration=to_seconds(days=2),\n",
    "                           hydraulic_time_step=to_seconds(minutes=30),\n",
    "                           reporting_time_step=to_seconds(minutes=30))"
   ]
  },
  {
   "cell_type": "markdown",
   "metadata": {},
   "source": [
    "### 1. Adding Leakages\n",
    "\n",
    "Add an [abrupt leakage](https://epyt-flow.readthedocs.io/en/stable/epyt_flow.simulation.events.html#epyt_flow.simulation.events.leakages.AbruptLeakage) at link/pipe \"14\" -- the leakage is active for 10 hours and starts at 10 hours after simulation begin -- recall that the time arguments are seconds!"
   ]
  },
  {
   "cell_type": "code",
   "execution_count": null,
   "metadata": {},
   "outputs": [],
   "source": [
    "leak = AbruptLeakage(link_id=\"14\", diameter=0.2,\n",
    "                     start_time=to_seconds(hours=10),\n",
    "                     end_time=to_seconds(hours=20))\n",
    "\n",
    "sim.add_leakage(leak)"
   ]
  },
  {
   "cell_type": "markdown",
   "metadata": {},
   "source": [
    "### 2. Adding Sensor Faults\n",
    "\n",
    "Add a pressure [sensor fault](https://epyt-flow.readthedocs.io/en/stable/tut.events.html#sensor-faults) (i.e. power failure, sensor readings are set to zero) at node \"16\" that is active for 6 hours (i.e. starts at 1 day after simulation begin and ends at 30 hours after simulation start)."
   ]
  },
  {
   "cell_type": "code",
   "execution_count": null,
   "metadata": {},
   "outputs": [],
   "source": [
    "sensor_fault = SensorFaultStuckZero(sensor_id=\"16\",\n",
    "                                    sensor_type=SENSOR_TYPE_NODE_PRESSURE,\n",
    "                                    start_time=to_seconds(hours=24),\n",
    "                                    end_time=to_seconds(hours=30))\n",
    "\n",
    "sim.add_sensor_fault(sensor_fault)"
   ]
  },
  {
   "cell_type": "markdown",
   "metadata": {},
   "source": [
    "### 3. Exporting Simulation Results\n",
    "\n",
    "Run the complete simulation to retrieve the SCADA data:"
   ]
  },
  {
   "cell_type": "code",
   "execution_count": null,
   "metadata": {},
   "outputs": [],
   "source": [
    "scada_data = sim.run_simulation()"
   ]
  },
  {
   "cell_type": "markdown",
   "metadata": {},
   "source": [
    "Retrieve final pressure readings at node \"16\" as a NumPy array:"
   ]
  },
  {
   "cell_type": "code",
   "execution_count": null,
   "metadata": {},
   "outputs": [],
   "source": [
    "pressure_at_node16 = scada_data.get_data_pressures(sensor_locations=[\"16\"])"
   ]
  },
  {
   "cell_type": "code",
   "execution_count": null,
   "metadata": {},
   "outputs": [],
   "source": [
    "# Plot the pressure readings over time\n",
    "plot_timeseries_data(pressure_at_node16.T,\n",
    "                     x_axis_label=\"Time (30min steps)\", y_axis_label=\"Pressure in $m$\")"
   ]
  },
  {
   "cell_type": "markdown",
   "metadata": {},
   "source": [
    "Note the pressure drop in the beginning (caused by the leakage) and the sensor readings dropping to zero while the sensor fault is active!"
   ]
  },
  {
   "cell_type": "markdown",
   "metadata": {},
   "source": [
    "Besides retrieving the final sensor readings as NumPy arrays, EPyT-Flow also supports to export the SCADA data to different file formats:\n",
    "- [EPyT-Flow file format](https://epyt-flow.readthedocs.io/en/stable/epyt_flow.html#epyt_flow.serialization.Serializable.save_to_file)\n",
    "- [Matlab](https://epyt-flow.readthedocs.io/en/stable/epyt_flow.simulation.scada.html#epyt_flow.simulation.scada.scada_data_export.ScadaDataMatlabExport)\n",
    "- [Microsoft Excel](https://epyt-flow.readthedocs.io/en/stable/epyt_flow.simulation.scada.html#epyt_flow.simulation.scada.scada_data_export.ScadaDataXlsxExport)\n",
    "- [NumPy](https://epyt-flow.readthedocs.io/en/stable/epyt_flow.simulation.scada.html#epyt_flow.simulation.scada.scada_data_export.ScadaDataNumpyExport)\n",
    "\n",
    "Note that only in the first case, the exported data can again be loaded in EPyT-Flow.\n",
    "\n",
    "Furthermore, note that most EPyT-Flow classes can be exported to a custom file format, and many even to JSON as well -- more details can be found in the [documentation](https://epyt-flow.readthedocs.io/en/stable/tut.serialization.html)."
   ]
  },
  {
   "cell_type": "markdown",
   "metadata": {},
   "source": [
    "Exporting the complete sensor readings to `my_data_export.xlsx` ([Microsoft Excel export](https://epyt-flow.readthedocs.io/en/stable/epyt_flow.simulation.scada.html#epyt_flow.simulation.scada.scada_data_export.ScadaDataXlsxExport)):"
   ]
  },
  {
   "cell_type": "code",
   "execution_count": null,
   "metadata": {},
   "outputs": [],
   "source": [
    "ScadaDataXlsxExport(f_out=\"my_data_export.xlsx\").export(scada_data)"
   ]
  },
  {
   "cell_type": "markdown",
   "metadata": {},
   "source": [
    "In addition to the SCADA data, EPyT-Flow also allows to export the scenario configuration such that it can be restored later or shared with other users.\n",
    "\n",
    "The complete configuration of the current scenario can be obtained by calling the   [```get_scenario_config()```](https://epyt-flow.readthedocs.io/en/stable/epyt_flow.simulation.html#epyt_flow.simulation.scenario_simulator.ScenarioSimulator.get_scenario_config) function which returns a [```ScenarioConfig```](https://epyt-flow.readthedocs.io/en/stable/epyt_flow.simulation.html#epyt_flow.simulation.scenario_config.ScenarioConfig) instance:"
   ]
  },
  {
   "cell_type": "code",
   "execution_count": null,
   "metadata": {},
   "outputs": [],
   "source": [
    "my_scenario_config = sim.get_scenario_config()\n",
    "my_scenario_config"
   ]
  },
  {
   "cell_type": "markdown",
   "metadata": {},
   "source": [
    "The obtained [```ScenarioConfig```](https://epyt-flow.readthedocs.io/en/stable/epyt_flow.simulation.html#epyt_flow.simulation.scenario_config.ScenarioConfig) instance can be stored and loaded by calling [```save_to_file()```](https://epyt-flow.readthedocs.io/en/stable/epyt_flow.html#epyt_flow.serialization.Serializable.save_to_file) and [```load_from_file()```](https://epyt-flow.readthedocs.io/en/stable/epyt_flow.html#epyt_flow.serialization.Serializable.load_from_file):"
   ]
  },
  {
   "cell_type": "code",
   "execution_count": null,
   "metadata": {},
   "outputs": [],
   "source": [
    "# Save scenario configuration such that it can be shared with other users\n",
    "my_scenario_config.save_to_file(\"my_scenario.epytflow_scenario_config\")\n",
    "\n",
    "# Load scenario configuration from file\n",
    "restored_scenario_config = ScenarioConfig.load_from_file(\"my_scenario.epytflow_scenario_config\")\n",
    "print(my_scenario_config == restored_scenario_config)  # Check if scenario configs are the same!"
   ]
  },
  {
   "cell_type": "markdown",
   "metadata": {},
   "source": [
    "#### Post-processing of SCADA data"
   ]
  },
  {
   "cell_type": "code",
   "execution_count": null,
   "metadata": {},
   "outputs": [],
   "source": [
    "# Save SCADA data in a custom file format that allows us to load it back into EPyT-Flow\n",
    "scada_data.save_to_file(\"my_data.epytflow_scada_data\")\n",
    "\n",
    "# Load SCADA data back into EPyT-Flow\n",
    "scada_data = ScadaData.load_from_file(\"my_data.epytflow_scada_data\")"
   ]
  },
  {
   "cell_type": "markdown",
   "metadata": {},
   "source": [
    "Among some properties, we can change the sensor faults of [`ScadaData`](https://epyt-flow.readthedocs.io/en/stable/epyt_flow.simulation.scada.html#epyt_flow.simulation.scada.scada_data.ScadaData) instance by calling the [`change_sensor_faults()`](https://epyt-flow.readthedocs.io/en/stable/epyt_flow.simulation.scada.html#epyt_flow.simulation.scada.scada_data.ScadaData.change_sensor_faults) function.\n",
    "Note that [`change_sensor_faults()`](https://epyt-flow.readthedocs.io/en/stable/epyt_flow.simulation.scada.html#epyt_flow.simulation.scada.scada_data.ScadaData.change_sensor_faults) removes all existing sensor faults before adding the given sensor faults.\n",
    "\n",
    "Here we change the previously created pressure sensor fault to a different type of sensor fault and also change the time at which the sensor fault is active:"
   ]
  },
  {
   "cell_type": "code",
   "execution_count": null,
   "metadata": {},
   "outputs": [],
   "source": [
    "# Sets a single sensor fault: Adds Gaussian noise to the pressure reading at node \"16\"\n",
    "# Note that this overrides all existing sensor faults!\n",
    "sensor_fault = SensorFaultGaussian(std=.2, sensor_id=\"16\",\n",
    "                                   sensor_type=SENSOR_TYPE_NODE_PRESSURE,\n",
    "                                   start_time=to_seconds(hours=31),\n",
    "                                   end_time=to_seconds(hours=40))\n",
    "scada_data.change_sensor_faults([sensor_fault])"
   ]
  },
  {
   "cell_type": "code",
   "execution_count": null,
   "metadata": {},
   "outputs": [],
   "source": [
    "# Plot the pressure readings over time\n",
    "pressure_at_node16 = scada_data.get_data_pressures(sensor_locations=[\"16\"])\n",
    "plot_timeseries_data(pressure_at_node16.T,\n",
    "                     x_axis_label=\"Time (30min steps)\", y_axis_label=\"Pressure in $m$\")"
   ]
  },
  {
   "cell_type": "markdown",
   "metadata": {},
   "source": [
    "Note how the pressure readings changed compared to the previous sensor faults!"
   ]
  },
  {
   "cell_type": "markdown",
   "metadata": {},
   "source": [
    "#### Close the Simulation\n",
    "\n",
    "Do not forget to close the simulation by calling the [`close()`](https://epyt-flow.readthedocs.io/en/stable/epyt_flow.simulation.html#epyt_flow.simulation.scenario_simulator.ScenarioSimulator.close) function."
   ]
  },
  {
   "cell_type": "code",
   "execution_count": null,
   "metadata": {},
   "outputs": [],
   "source": [
    "sim.close()"
   ]
  },
  {
   "cell_type": "markdown",
   "metadata": {},
   "source": [
    "#### 4. Parallel Scenario Simulation\n",
    "\n",
    "In practice, one might have more than one scenario configuration that have to be simulated. In this context, it would beneficial to use multiple CPU cores to speed the simulation up.\n",
    "\n",
    "EPyT-Flow supports the simulation of multiple scenarios in parallel -- see [`ParallelScenarioSimulation`](https://epyt-flow.readthedocs.io/en/stable/epyt_flow.simulation.html#epyt_flow.simulation.parallel_simulation.ParallelScenarioSimulation) for details."
   ]
  },
  {
   "cell_type": "markdown",
   "metadata": {},
   "source": [
    "For an illustrative example, we load the first 10 [LeakDB](https://epyt-flow.readthedocs.io/en/stable/epyt_flow.data.benchmarks.html#module-epyt_flow.data.benchmarks.leakdb) Net1 scenarios:"
   ]
  },
  {
   "cell_type": "code",
   "execution_count": null,
   "metadata": {},
   "outputs": [],
   "source": [
    "# Load first 10 LeakDB Net1 scenarios\n",
    "scenarios = load_leakdb_scenarios(range(10), use_net1=True)"
   ]
  },
  {
   "cell_type": "markdown",
   "metadata": {},
   "source": [
    "Wen simulate those 10 scenarios in parallel using up to 4 CPU scores by utilizing the [`ParallelScenarioSimulation`](https://epyt-flow.readthedocs.io/en/stable/epyt_flow.simulation.html#epyt_flow.simulation.parallel_simulation.ParallelScenarioSimulation) class.\n",
    "The simulations results ([`ScadaData`](https://epyt-flow.readthedocs.io/en/stable/epyt_flow.simulation.scada.html#epyt_flow.simulation.scada.scada_data.ScadaData) instances) are stored in separate files that can be reloaded into EPyT-Flow:"
   ]
  },
  {
   "cell_type": "code",
   "execution_count": null,
   "metadata": {},
   "outputs": [],
   "source": [
    "def __my_callback(scada_data: ScadaData, _, scenario_idx: int) -> None:\n",
    "    scada_data.save_to_file(f\"Net1_Scenario-ID={scenario_idx}.epytflow_scada_data\")\n",
    "\n",
    "    # Alternatively, it is also possible to return the results:\n",
    "    #return scada_data\n",
    "\n",
    "# Run simulations in parallel using up to 4 CPU cores -- export simulation results to \".epytflow_scada_data\" files\n",
    "ParallelScenarioSimulation.run(scenarios, n_jobs=4, callback=__my_callback)  # Returns the results returned in the callback"
   ]
  },
  {
   "cell_type": "code",
   "execution_count": null,
   "metadata": {},
   "outputs": [],
   "source": []
  }
 ],
 "metadata": {
  "kernelspec": {
   "display_name": "epytflow2",
   "language": "python",
   "name": "python3"
  },
  "language_info": {
   "codemirror_mode": {
    "name": "ipython",
    "version": 3
   },
   "file_extension": ".py",
   "mimetype": "text/x-python",
   "name": "python",
   "nbconvert_exporter": "python",
   "pygments_lexer": "ipython3",
   "version": "3.9.18"
  }
 },
 "nbformat": 4,
 "nbformat_minor": 2
}
