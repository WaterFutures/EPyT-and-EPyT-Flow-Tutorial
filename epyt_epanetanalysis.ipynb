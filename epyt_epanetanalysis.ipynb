{
 "cells": [
  {
   "cell_type": "markdown",
   "id": "f5e4a1a0ab4123ff",
   "metadata": {
    "collapsed": false,
    "jupyter": {
     "outputs_hidden": false
    }
   },
   "source": [
    "# Basic Usage of EPyT (Hydraulic and Quality Analysis)\n",
    "\n",
    "### Outline\n",
    "\n",
    "* Initialize EPANET-Python Toolkit\n",
    "* Running your first analysis\n",
    "* Other method to run EPANET\n",
    "* Plot results\n",
    "* Iteratively (step-by-step) hydraulic analysis\n",
    "* Iteratively (step-by-step) quality analysis"
   ]
  },
  {
   "cell_type": "markdown",
   "id": "e66af3efe802e0d3",
   "metadata": {
    "collapsed": false,
    "jupyter": {
     "outputs_hidden": false
    }
   },
   "source": [
    "### Initialize EPANET Python Toolkit (EPyT)\n",
    "\n",
    "You should always begin with this command to import the toolkit."
   ]
  },
  {
   "cell_type": "code",
   "execution_count": null,
   "id": "af472bf6-58b9-4102-af4c-7de5dd1fe940",
   "metadata": {},
   "outputs": [],
   "source": [
    "%pip install epyt"
   ]
  },
  {
   "cell_type": "code",
   "execution_count": null,
   "id": "32dc981b7df58ac2",
   "metadata": {
    "ExecuteTime": {
     "end_time": "2024-06-20T09:30:42.530048800Z",
     "start_time": "2024-06-20T09:30:42.467316100Z"
    },
    "collapsed": false,
    "jupyter": {
     "outputs_hidden": false
    }
   },
   "outputs": [],
   "source": [
    "from epyt import epanet"
   ]
  },
  {
   "cell_type": "markdown",
   "id": "9ab75467312bfab3",
   "metadata": {
    "collapsed": false,
    "jupyter": {
     "outputs_hidden": false
    }
   },
   "source": [
    "### Load a benchmark network\n",
    "Decide which benchmark network to use and load the network"
   ]
  },
  {
   "cell_type": "code",
   "execution_count": null,
   "id": "a19a6512998d48e8",
   "metadata": {
    "ExecuteTime": {
     "end_time": "2024-06-20T09:30:43.034397800Z",
     "start_time": "2024-06-20T09:30:42.554090700Z"
    },
    "collapsed": false,
    "jupyter": {
     "outputs_hidden": false
    },
    "scrolled": true
   },
   "outputs": [],
   "source": [
    "# Decide which network to load from the \"/networks/\" folder  \n",
    "filename = 'net2-cl2.inp' # You can also try 'net2-cl2.inp', 'Net3.inp', etc.\n",
    "\n",
    "# Call epanet class and load all data and functions in G structure\n",
    "G = epanet(filename)\n",
    "G.plot()\n",
    "G.plot_close() # Close - Duplicate plots in jupyter"
   ]
  },
  {
   "cell_type": "markdown",
   "id": "4bf16e38e375972f",
   "metadata": {
    "collapsed": false,
    "jupyter": {
     "outputs_hidden": false
    }
   },
   "source": [
    "### Running your first analysis\n",
    "There are 4 ways to run a simulation using the Toolkit:\n",
    "\n",
    "1. &nbsp;&nbsp;&nbsp;&nbsp;Using the batch hydraulic/quality analysis function\n",
    "2. &nbsp;&nbsp;&nbsp;&nbsp;Using the iterative (step-by-step) hydraulic/quality analysis function\n",
    "3. &nbsp;&nbsp;&nbsp;&nbsp;Using the ENepanet function binary file\n",
    "4. &nbsp;&nbsp;&nbsp;&nbsp;Using the command line and the binary file\n",
    "\n"
   ]
  },
  {
   "cell_type": "code",
   "execution_count": null,
   "id": "fc39b8c3f2ce3639",
   "metadata": {
    "ExecuteTime": {
     "end_time": "2024-06-20T09:30:43.034397800Z",
     "start_time": "2024-06-20T09:30:42.943540200Z"
    },
    "collapsed": false,
    "jupyter": {
     "outputs_hidden": false
    }
   },
   "outputs": [],
   "source": [
    "# Set simulation duration at hours \n",
    "hrs = 48 \n",
    "G.setTimeSimulationDuration(3600*hrs)"
   ]
  },
  {
   "cell_type": "markdown",
   "id": "f2fa44cf59171470",
   "metadata": {
    "collapsed": false,
    "jupyter": {
     "outputs_hidden": false
    }
   },
   "source": [
    "### Execute the simulation using the batch hydraulic analysis method\n"
   ]
  },
  {
   "cell_type": "code",
   "execution_count": null,
   "id": "b9d405f2d6ba9df7",
   "metadata": {
    "ExecuteTime": {
     "end_time": "2024-06-20T09:30:43.170461300Z",
     "start_time": "2024-06-20T09:30:42.958055700Z"
    },
    "collapsed": false,
    "jupyter": {
     "outputs_hidden": false
    }
   },
   "outputs": [],
   "source": [
    "H = G.getComputedHydraulicTimeSeries()\n",
    "G.getAllAttributes(H)"
   ]
  },
  {
   "cell_type": "markdown",
   "id": "b605d50d766968db",
   "metadata": {
    "collapsed": false,
    "jupyter": {
     "outputs_hidden": false
    }
   },
   "source": [
    "### Execute the simulation using the batch quality analysis method"
   ]
  },
  {
   "cell_type": "code",
   "execution_count": null,
   "id": "696f64a1dab4d583",
   "metadata": {
    "ExecuteTime": {
     "end_time": "2024-06-20T09:30:43.230144100Z",
     "start_time": "2024-06-20T09:30:43.058687200Z"
    },
    "collapsed": false,
    "jupyter": {
     "outputs_hidden": false
    }
   },
   "outputs": [],
   "source": [
    "Q = G.getComputedQualityTimeSeries()\n",
    "G.getAllAttributes(Q)"
   ]
  },
  {
   "cell_type": "markdown",
   "id": "b41c10e23d6de09c",
   "metadata": {
    "collapsed": false,
    "jupyter": {
     "outputs_hidden": false
    }
   },
   "source": [
    "### Other methods  to run EPANET"
   ]
  },
  {
   "cell_type": "markdown",
   "id": "58230995827c03ff",
   "metadata": {
    "collapsed": false,
    "jupyter": {
     "outputs_hidden": false
    }
   },
   "source": [
    "#### Method using the EPANET executable"
   ]
  },
  {
   "cell_type": "code",
   "execution_count": null,
   "id": "aa79e0a6158ebb8b",
   "metadata": {
    "ExecuteTime": {
     "end_time": "2024-06-20T09:30:43.632487300Z",
     "start_time": "2024-06-20T09:30:43.118354400Z"
    },
    "collapsed": false,
    "jupyter": {
     "outputs_hidden": false
    }
   },
   "outputs": [],
   "source": [
    "Hexe = G.getComputedTimeSeries()\n",
    "G.getAllAttributes(Hexe)"
   ]
  },
  {
   "cell_type": "markdown",
   "id": "6b72020f3f42ebac",
   "metadata": {
    "collapsed": false,
    "jupyter": {
     "outputs_hidden": false
    }
   },
   "source": [
    "### Method using the ENepanet library function"
   ]
  },
  {
   "cell_type": "code",
   "execution_count": null,
   "id": "c9a3380ec9ad43b",
   "metadata": {
    "ExecuteTime": {
     "end_time": "2024-06-20T09:30:43.718249300Z",
     "start_time": "2024-06-20T09:30:43.626860900Z"
    },
    "collapsed": false,
    "jupyter": {
     "outputs_hidden": false
    }
   },
   "outputs": [],
   "source": [
    "Hbatch = G.getComputedTimeSeries_ENepanet()\n",
    "G.getAllAttributes(Hbatch)"
   ]
  },
  {
   "cell_type": "markdown",
   "id": "e2aed1aed9876191",
   "metadata": {
    "collapsed": false,
    "jupyter": {
     "outputs_hidden": false
    }
   },
   "source": [
    "### Plot results"
   ]
  },
  {
   "cell_type": "code",
   "execution_count": null,
   "id": "1bc3158238fd647b",
   "metadata": {
    "ExecuteTime": {
     "end_time": "2024-06-20T09:30:43.764685500Z",
     "start_time": "2024-06-20T09:30:43.723949500Z"
    },
    "collapsed": false,
    "jupyter": {
     "outputs_hidden": false
    }
   },
   "outputs": [],
   "source": [
    "import datetime\n",
    "import matplotlib.pyplot as plt\n",
    "import numpy as np\n",
    "\n",
    "# Get pressure in meters\n",
    "P = H.Pressure\n",
    "G.printv(P)\n",
    "F = H.Flow\n",
    "G.printv(F)\n",
    "C = Q.NodeQuality\n",
    "G.printv(C)"
   ]
  },
  {
   "cell_type": "code",
   "execution_count": null,
   "id": "6ff44fc37f178697",
   "metadata": {
    "ExecuteTime": {
     "end_time": "2024-06-20T09:31:30.592780900Z",
     "start_time": "2024-06-20T09:31:27.653674500Z"
    },
    "collapsed": false,
    "jupyter": {
     "outputs_hidden": false
    }
   },
   "outputs": [],
   "source": [
    "T = H.Time.astype(float)  \n",
    "Tcl = Q.Time.astype(float)  \n",
    "TD = [datetime.datetime(2024, 7, 1, 0, 0) + datetime.timedelta(seconds=int(t)) for t in T]  \n",
    "TQ = [datetime.datetime(2024, 7, 1, 0, 0) + datetime.timedelta(seconds=int(t)) for t in Tcl] \n",
    "\n",
    "plt.rc('xtick', labelsize=5)\n",
    "plt.rc('ytick', labelsize=7)\n",
    "fig, ax = plt.subplots(figsize=(4, 3))\n",
    "\n",
    "fig.set_figwidth(8)\n",
    "ax.plot(TD, P[:, 5])\n",
    "ax.grid(True)\n",
    "ax.set_title(f\"Pressure in Node {G.getNodeNameID(6)}\", fontsize=8)\n",
    "ax.set_ylabel(\"Pressure (meters)\", fontsize=7)\n",
    "ax.set_xlabel(\"Time\", fontsize=7)\n",
    "\n",
    "pipeindex = G.getLinkIndex('1')\n",
    "fig, ax = plt.subplots(figsize=(4, 3))\n",
    "fig.set_figwidth(8)\n",
    "ax.plot(TD, F[:, pipeindex])\n",
    "ax.grid(True)\n",
    "ax.set_title(f\"Flow in Pipe {G.getLinkNameID(pipeindex)}\", fontsize=8)\n",
    "ax.set_ylabel(\"Flow (CMH)\", fontsize=7)\n",
    "ax.set_xlabel(\"Time\", fontsize=7)\n",
    "\n",
    "fig, ax = plt.subplots(figsize=(4, 3))\n",
    "fig.set_figwidth(8)\n",
    "ax.plot(TQ, C[:, 5])\n",
    "ax.grid(True)\n",
    "ax.set_title(f\"Chlorine concentration in Node {G.getNodeNameID(1)}\", fontsize=8)\n",
    "ax.set_ylabel(\"Free Chlorine (mg/L)\", fontsize=7)\n",
    "ax.set_xlabel(\"Time\", fontsize=7)\n",
    "\n",
    "plt.show()\n",
    "\n",
    "# Your turn: Plot Chlorine in node with index 10 "
   ]
  },
  {
   "cell_type": "markdown",
   "id": "bf0a386bfff73b43",
   "metadata": {
    "collapsed": false,
    "jupyter": {
     "outputs_hidden": false
    }
   },
   "source": [
    "![Alt text](icons/pic1.jpeg)"
   ]
  },
  {
   "cell_type": "markdown",
   "id": "326a65e8704563af",
   "metadata": {
    "collapsed": false,
    "jupyter": {
     "outputs_hidden": false
    }
   },
   "source": [
    "### Plot node pressures for specific nodes "
   ]
  },
  {
   "cell_type": "code",
   "execution_count": null,
   "id": "303d7ef88d9cc6ee",
   "metadata": {
    "ExecuteTime": {
     "start_time": "2024-06-20T09:30:44.461322400Z"
    },
    "collapsed": false,
    "jupyter": {
     "outputs_hidden": false
    }
   },
   "outputs": [],
   "source": [
    "node_indices = [1,2,3] \n",
    "print(\"Node_indeces = \",node_indices)\n",
    "node_names = [G.getNodeNameID(idx) for idx in node_indices]\n",
    "Units = G.getUnits()\n",
    "FlowUnits = G.getFlowUnits()\n",
    "print(\"Flow_Units = \", FlowUnits)\n",
    "\n",
    "fig, axs = plt.subplots(3, 1, figsize=(8, 6)) \n",
    "\n",
    "for k, node_index in enumerate(node_indices):\n",
    "    ax = axs[k] \n",
    "    node_index_py = node_index - 1 # Python indexing starts from 0\n",
    "    fig.set_figwidth(7)\n",
    "    ax.plot(TD, P[:, node_index_py])\n",
    "    ax.grid(True)\n",
    "    ax.set_title(f'Pressure for the node id \"{node_names[k]}\"', fontsize=8)\n",
    "    ax.set_ylabel(f'Pressure ({G.NodePressureUnits})', fontsize=7) \n",
    "    ax.set_xlabel('Time (hrs)', fontsize=7)\n",
    "\n",
    "plt.tight_layout() # Automatically adjusts spacing to fit the subplots\n",
    "plt.show()"
   ]
  },
  {
   "cell_type": "markdown",
   "id": "6f871aec8fb701b4",
   "metadata": {
    "collapsed": false,
    "jupyter": {
     "outputs_hidden": false
    }
   },
   "source": [
    "![Alt text](icons/pic2.jpeg)\n"
   ]
  },
  {
   "cell_type": "markdown",
   "id": "c68e1622a247b31b",
   "metadata": {
    "collapsed": false,
    "jupyter": {
     "outputs_hidden": false
    }
   },
   "source": [
    "### Iteratively (step-by-step) hydraulic analysis"
   ]
  },
  {
   "cell_type": "code",
   "execution_count": null,
   "id": "9fc26765279b1afb",
   "metadata": {
    "ExecuteTime": {
     "start_time": "2024-06-20T09:30:44.464117400Z"
    },
    "collapsed": false,
    "jupyter": {
     "outputs_hidden": false
    }
   },
   "outputs": [],
   "source": [
    "# 4 steps to run hydraulics\n",
    "\n",
    "# Step 1\n",
    "G.openHydraulicAnalysis()  \n",
    "\n",
    "# Step 2\n",
    "G.initializeHydraulicAnalysis() \n",
    "\n",
    "tstep = 1\n",
    "P2 = []\n",
    "T2 = []\n",
    "D2 = []\n",
    "H2 = []\n",
    "F2 = []\n",
    "\n",
    "while tstep > 0:\n",
    "    \n",
    "    # Step 3\n",
    "    ttmp = G.runHydraulicAnalysis()  \n",
    "    P2.append(G.getNodePressure())\n",
    "    D2.append(G.getNodeActualDemand())\n",
    "    #H2.append(G.getNodeHydaulicHead())\n",
    "    F2.append(G.getLinkFlows())\n",
    "    T2.append(ttmp)\n",
    "    \n",
    "    # Step 4\n",
    "    tstep = G.nextHydraulicAnalysisStep()  \n",
    "\n",
    "G.closeHydraulicAnalysis()"
   ]
  },
  {
   "cell_type": "code",
   "execution_count": null,
   "id": "0961169f-91ae-4976-a9c4-31f187ab7bfb",
   "metadata": {},
   "outputs": [],
   "source": [
    "# Print pressures P2\n",
    "print(P2)"
   ]
  },
  {
   "cell_type": "markdown",
   "id": "8728521d95df08fe",
   "metadata": {
    "collapsed": false,
    "jupyter": {
     "outputs_hidden": false
    }
   },
   "source": [
    "#### Plot figures"
   ]
  },
  {
   "cell_type": "code",
   "execution_count": null,
   "id": "5218adb452387e86",
   "metadata": {
    "ExecuteTime": {
     "start_time": "2024-06-20T09:30:44.465860Z"
    },
    "collapsed": false,
    "jupyter": {
     "outputs_hidden": false
    }
   },
   "outputs": [],
   "source": [
    "TD = [datetime.datetime(2024, 7, 1, 0, 0) + datetime.timedelta(seconds=int(t)) for t in T2]  \n",
    "\n",
    "fig, ax = plt.subplots()\n",
    "for i, node_index in enumerate(node_indices):\n",
    "    node_index_py = node_index - 1\n",
    "    ax.plot(TD, [row[node_index_py] for row in P2], label=f'Node {node_index}')\n",
    "ax.set_title(f'Pressure for first 3 nodes ', fontsize=10)\n",
    "ax.set_xlabel('Time (seconds)', fontsize=9)\n",
    "ax.set_ylabel(f'Pressure({G.NodePressureUnits})', fontsize=8)\n",
    "fig.set_figwidth(7)\n",
    "ax.legend(loc='upper right', fontsize=7)\n",
    "plt.show()"
   ]
  },
  {
   "cell_type": "markdown",
   "id": "2f0900f6cfded80f",
   "metadata": {
    "collapsed": false,
    "jupyter": {
     "outputs_hidden": false
    }
   },
   "source": [
    "### Iteratively (step-by-step) quality analysis"
   ]
  },
  {
   "cell_type": "code",
   "execution_count": null,
   "id": "659f766bd479d64",
   "metadata": {
    "ExecuteTime": {
     "start_time": "2024-06-20T09:30:44.468038400Z"
    },
    "collapsed": false,
    "jupyter": {
     "outputs_hidden": false
    }
   },
   "outputs": [],
   "source": [
    "# Requires solveCompleteHydraulics - ignored because we run hydraulic analysis beforehand.\n",
    "\n",
    "G.openQualityAnalysis()\n",
    "G.initializeQualityAnalysis()\n",
    "tleft = 1\n",
    "QT = []\n",
    "QsN = []\n",
    "QsL = []\n",
    "\n",
    "while tleft > 0:\n",
    "    ttmp = G.runQualityAnalysis()\n",
    "    QsN.append(G.getNodeActualQuality())\n",
    "    QsL.append(G.getLinkActualQuality())\n",
    "    QT.append(ttmp)\n",
    "    tleft = G.stepQualityAnalysisTimeLeft()\n",
    "\n",
    "G.closeQualityAnalysis()"
   ]
  },
  {
   "cell_type": "markdown",
   "id": "6ed7b9f7a9f860e5",
   "metadata": {
    "collapsed": false,
    "jupyter": {
     "outputs_hidden": false
    }
   },
   "source": [
    "#### Plot figures"
   ]
  },
  {
   "cell_type": "code",
   "execution_count": null,
   "id": "ac2a65193b177584",
   "metadata": {
    "ExecuteTime": {
     "start_time": "2024-06-20T09:30:44.470424Z"
    },
    "collapsed": false,
    "jupyter": {
     "outputs_hidden": false
    }
   },
   "outputs": [],
   "source": [
    "fig, ax = plt.subplots()\n",
    "ax.plot(QT, [row[4] for row in QsN])  # Assuming the node index is 5 (Python indexing starts from 0)\n",
    "\n",
    "ax.set_xlabel('Time', fontsize=7)\n",
    "ax.set_ylabel('Node Actual Quality', fontsize=7)\n",
    "ax.set_title('Node Actual Quality over Time', fontsize=8)\n",
    "\n",
    "fig.set_figwidth(7)\n",
    "plt.show()"
   ]
  },
  {
   "cell_type": "code",
   "execution_count": null,
   "id": "2e7ed7ca-ef23-4953-aae1-c6aa72079b57",
   "metadata": {},
   "outputs": [],
   "source": []
  }
 ],
 "metadata": {
  "kernelspec": {
   "display_name": "Python 3 (Spyder)",
   "language": "python3",
   "name": "python3"
  },
  "language_info": {
   "codemirror_mode": {
    "name": "ipython",
    "version": 3
   },
   "file_extension": ".py",
   "mimetype": "text/x-python",
   "name": "python",
   "nbconvert_exporter": "python",
   "pygments_lexer": "ipython3",
   "version": "3.10.14"
  }
 },
 "nbformat": 4,
 "nbformat_minor": 5
}
