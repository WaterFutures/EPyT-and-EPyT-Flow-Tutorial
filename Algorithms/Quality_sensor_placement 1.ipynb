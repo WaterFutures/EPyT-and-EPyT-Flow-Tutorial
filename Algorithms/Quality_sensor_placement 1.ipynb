{
 "cells": [
  {
   "cell_type": "markdown",
   "id": "71a5e074e3fa769b",
   "metadata": {},
   "source": [
    "# Sensor placement for quality monitoring"
   ]
  },
  {
   "cell_type": "markdown",
   "id": "2184ea4c6c39bde9",
   "metadata": {},
   "source": [
    "## Initialize EPANET Python Toolkit (EPyT)\n",
    "You should always begin with this command to import the toolkit"
   ]
  },
  {
   "cell_type": "code",
   "id": "8bf8122b16425534",
   "metadata": {},
   "source": [
    "from epyt import epanet"
   ],
   "outputs": [],
   "execution_count": 33
  },
  {
   "cell_type": "markdown",
   "id": "2c099e86bb8375ee",
   "metadata": {},
   "source": [
    "## Introduction\n",
    "Introduction\n",
    "Large-scale networks are difficult to monitor, and it is not possible to have sensors everywhere in the system, mainly due to costs. For this reason, we need to select the best locations to install sensors, in order to guarantee certain criteria, such as:  \n",
    "   - Network coverage  \n",
    "   - Detection delay  \n",
    "   - Impact (e.g., number of people affected)   \n",
    "     \n",
    "                                                      \n",
    "Sensor placement requires the following steps:\n",
    "   1. Create simulation scenarios of contamination events\n",
    "   2. Execute the simulation scenarios\n",
    "   3. Measure the impact\n",
    "   4. Formulate and solve an optimization problem\n",
    "   5. If multiple objectives, costruct the Pareto front and select one solution"
   ]
  },
  {
   "cell_type": "markdown",
   "id": "cf81d052c9ddc7b",
   "metadata": {},
   "source": [
    "### Setup simulations for computing covereage matrix"
   ]
  },
  {
   "cell_type": "code",
   "id": "c3978ab1319446b4",
   "metadata": {
    "ExecuteTime": {
     "end_time": "2024-06-13T09:29:05.356764Z",
     "start_time": "2024-06-13T09:29:05.321651Z"
    }
   },
   "source": [
    "import numpy as np\n",
    "\n",
    "np.random.seed(1)"
   ],
   "outputs": [],
   "execution_count": 34
  },
  {
   "cell_type": "markdown",
   "id": "8468433b5305628f",
   "metadata": {},
   "source": [
    "## Load EPANET Network and MSX"
   ]
  },
  {
   "cell_type": "code",
   "id": "46af525120715f45",
   "metadata": {
    "ExecuteTime": {
     "end_time": "2024-06-13T09:29:05.622741Z",
     "start_time": "2024-06-13T09:29:05.372396Z"
    }
   },
   "source": [
    "G = epanet('BWSN_Network_1.inp')    # Load EPANET Input file"
   ],
   "outputs": [
    {
     "name": "stdout",
     "output_type": "stream",
     "text": [
      "EPANET version 20200 loaded (EPyT version 1.1.6).\n",
      "Input File BWSN_Network_1.inp loaded successfully.\n",
      "\n"
     ]
    }
   ],
   "execution_count": 35
  },
  {
   "cell_type": "markdown",
   "id": "500aa64a9a3dad2c",
   "metadata": {},
   "source": [
    "### Simulation Setup"
   ]
  },
  {
   "cell_type": "code",
   "id": "1538f0f4167c2b24",
   "metadata": {
    "ExecuteTime": {
     "end_time": "2024-06-13T09:29:05.638302Z",
     "start_time": "2024-06-13T09:29:05.622741Z"
    }
   },
   "source": [
    "t_d = 5 # days\n",
    "print('t_d =', t_d)"
   ],
   "outputs": [
    {
     "name": "stdout",
     "output_type": "stream",
     "text": [
      "t_d = 5\n"
     ]
    }
   ],
   "execution_count": 36
  },
  {
   "cell_type": "code",
   "id": "aed65b186f524b89",
   "metadata": {
    "ExecuteTime": {
     "end_time": "2024-06-13T09:29:05.649819Z",
     "start_time": "2024-06-13T09:29:05.638302Z"
    }
   },
   "source": [
    "G.setTimeSimulationDuration(t_d*24*60*60)"
   ],
   "outputs": [],
   "execution_count": 37
  },
  {
   "cell_type": "markdown",
   "id": "c91eb2ed3e5e967a",
   "metadata": {},
   "source": [
    "## Get Network data"
   ]
  },
  {
   "cell_type": "code",
   "id": "f4ecf44dc8ca59dd",
   "metadata": {
    "ExecuteTime": {
     "end_time": "2024-06-13T09:29:05.665049Z",
     "start_time": "2024-06-13T09:29:05.649819Z"
    }
   },
   "source": [
    "demand_pattern = G.getPattern()\n",
    "roughness_coeff = G.getLinkRoughnessCoeff()\n",
    "node_id = G.getNodeNameID()\n",
    "Nnodes = G.getNodeCount()\n",
    "# *Setup uncertainties*"
   ],
   "outputs": [],
   "execution_count": 38
  },
  {
   "cell_type": "markdown",
   "id": "80af516b70f651f1",
   "metadata": {},
   "source": [
    "## Scenarios"
   ]
  },
  {
   "cell_type": "code",
   "id": "5564857c9f935e9e",
   "metadata": {
    "ExecuteTime": {
     "end_time": "2024-06-13T09:29:05.677518Z",
     "start_time": "2024-06-13T09:29:05.665049Z"
    }
   },
   "source": [
    "Ns = 50 # Number of scenarios to simulate\n",
    "u_p = 0.2   # pattern uncertainty\n",
    "print('u_p =', u_p)"
   ],
   "outputs": [
    {
     "name": "stdout",
     "output_type": "stream",
     "text": [
      "u_p = 0.2\n"
     ]
    }
   ],
   "execution_count": 39
  },
  {
   "cell_type": "code",
   "id": "df812be3e174f85c",
   "metadata": {
    "ExecuteTime": {
     "end_time": "2024-06-13T09:29:05.713992Z",
     "start_time": "2024-06-13T09:29:05.701777Z"
    }
   },
   "source": [
    "u_r = 0.2   # roughness coefficient uncertainty\n",
    "print('u_r =', u_r)"
   ],
   "outputs": [
    {
     "name": "stdout",
     "output_type": "stream",
     "text": [
      "u_r = 0.2\n"
     ]
    }
   ],
   "execution_count": 40
  },
  {
   "cell_type": "markdown",
   "id": "58b454b5c50cf7d2",
   "metadata": {},
   "source": [
    "Create the scenarios - first without contamination, to compute the bounds"
   ]
  },
  {
   "cell_type": "code",
   "id": "6d56742e0d79dd9f",
   "metadata": {
    "ExecuteTime": {
     "end_time": "2024-06-13T09:29:05.910963Z",
     "start_time": "2024-06-13T09:29:05.900213Z"
    }
   },
   "source": [
    "max_inj_conc = 10.0\n",
    "print('max_inj_conc =', max_inj_conc)"
   ],
   "outputs": [
    {
     "name": "stdout",
     "output_type": "stream",
     "text": [
      "max_inj_conc = 10.0\n"
     ]
    }
   ],
   "execution_count": 41
  },
  {
   "cell_type": "code",
   "id": "dd718730d8b10ce2",
   "metadata": {
    "ExecuteTime": {
     "end_time": "2024-06-13T09:29:06.106223Z",
     "start_time": "2024-06-13T09:29:06.092883Z"
    }
   },
   "source": [
    "inj_start_time = 1 \n",
    "print('inj_start_time =', inj_start_time)"
   ],
   "outputs": [
    {
     "name": "stdout",
     "output_type": "stream",
     "text": [
      "inj_start_time = 1\n"
     ]
    }
   ],
   "execution_count": 42
  },
  {
   "cell_type": "code",
   "id": "2385d1dc0263be58",
   "metadata": {
    "ExecuteTime": {
     "end_time": "2024-06-13T09:29:06.181340Z",
     "start_time": "2024-06-13T09:29:06.163054Z"
    }
   },
   "source": [
    "inj_duration = 24   # maximum duration of 12 hours\n",
    "print('inj_duration =', inj_duration)"
   ],
   "outputs": [
    {
     "name": "stdout",
     "output_type": "stream",
     "text": [
      "inj_duration = 24\n"
     ]
    }
   ],
   "execution_count": 43
  },
  {
   "cell_type": "code",
   "id": "f879ba332f748067",
   "metadata": {
    "ExecuteTime": {
     "end_time": "2024-06-13T09:29:06.392574Z",
     "start_time": "2024-06-13T09:29:06.345165Z"
    }
   },
   "source": [
    "# Generate injection scenarios\n",
    "inj_sc = np.column_stack((\n",
    "    np.random.randint(1, Nnodes + 1, size=Ns),  # Random integers between 1 and Nnodes inclusive\n",
    "    max_inj_conc * np.ones(Ns),\n",
    "    inj_start_time * np.ones(Ns),\n",
    "    inj_duration * np.ones(Ns)\n",
    "))\n",
    "print('inj_sc = \\n', inj_sc)"
   ],
   "outputs": [
    {
     "name": "stdout",
     "output_type": "stream",
     "text": [
      "inj_sc = \n",
      " [[ 38.  10.   1.  24.]\n",
      " [ 73.  10.   1.  24.]\n",
      " [ 80.  10.   1.  24.]\n",
      " [ 72.  10.   1.  24.]\n",
      " [ 26.  10.   1.  24.]\n",
      " [ 21.  10.   1.  24.]\n",
      " [102.  10.   1.  24.]\n",
      " [ 51.  10.   1.  24.]\n",
      " [ 69.  10.   1.  24.]\n",
      " [ 97.  10.   1.  24.]\n",
      " [ 87.  10.   1.  24.]\n",
      " [  8.  10.   1.  24.]\n",
      " [ 64.  10.   1.  24.]\n",
      " [ 62.  10.   1.  24.]\n",
      " [ 23.  10.   1.  24.]\n",
      " [ 58.  10.   1.  24.]\n",
      " [  2.  10.   1.  24.]\n",
      " [129.  10.   1.  24.]\n",
      " [ 61.  10.   1.  24.]\n",
      " [  9.  10.   1.  24.]\n",
      " [116.  10.   1.  24.]\n",
      " [122.  10.   1.  24.]\n",
      " [ 31.  10.   1.  24.]\n",
      " [ 72.  10.   1.  24.]\n",
      " [ 50.  10.   1.  24.]\n",
      " [ 58.  10.   1.  24.]\n",
      " [  4.  10.   1.  24.]\n",
      " [ 25.  10.   1.  24.]\n",
      " [ 44.  10.   1.  24.]\n",
      " [ 77.  10.   1.  24.]\n",
      " [ 27.  10.   1.  24.]\n",
      " [ 53.  10.   1.  24.]\n",
      " [ 81.  10.   1.  24.]\n",
      " [110.  10.   1.  24.]\n",
      " [116.  10.   1.  24.]\n",
      " [ 42.  10.   1.  24.]\n",
      " [ 16.  10.   1.  24.]\n",
      " [ 65.  10.   1.  24.]\n",
      " [ 26.  10.   1.  24.]\n",
      " [112.  10.   1.  24.]\n",
      " [ 27.  10.   1.  24.]\n",
      " [105.  10.   1.  24.]\n",
      " [ 23.  10.   1.  24.]\n",
      " [ 10.  10.   1.  24.]\n",
      " [127.  10.   1.  24.]\n",
      " [ 24.  10.   1.  24.]\n",
      " [126.  10.   1.  24.]\n",
      " [101.  10.   1.  24.]\n",
      " [ 58.  10.   1.  24.]\n",
      " [ 84.  10.   1.  24.]]\n"
     ]
    }
   ],
   "execution_count": 44
  },
  {
   "cell_type": "code",
   "id": "a3510bf33e516a8e",
   "metadata": {
    "ExecuteTime": {
     "end_time": "2024-06-13T09:29:23.476186Z",
     "start_time": "2024-06-13T09:29:06.445524Z"
    }
   },
   "source": [
    "# *Create the coverage matrix*\n",
    "# The coverage matrix is a binary matrix, where earh row is a scenario, and \n",
    "# each column is a node. If a certain contamination scenario affects (can reach) \n",
    "# a certain node, the flag is true, else false.\n",
    "\n",
    "K = np.zeros((Ns, Nnodes))\n",
    "for i in range(Ns):\n",
    "    print(f'Iteration {i+1}')\n",
    "    \n",
    "    # Randomize demands\n",
    "    r_p = -u_p + 2*u_p*np.random.rand(demand_pattern.shape[0], demand_pattern.shape[1])\n",
    "    new_demand_pattern = demand_pattern + demand_pattern*r_p\n",
    "    G.setPatternMatrix(new_demand_pattern) # Set new patterns\n",
    "    \n",
    "    # Randomize pipe roughness\n",
    "    r_r = -u_r + 2*u_r*np.random.rand(len(roughness_coeff))\n",
    "    new_roughness_coeff = roughness_coeff + roughness_coeff*r_r\n",
    "    G.setLinkRoughnessCoeff(new_roughness_coeff) # Set new roughness coefficients\n",
    "    \n",
    "    c = np.zeros(Nnodes)\n",
    "    c[int(inj_sc[i, 0])-1] = inj_sc[i, 1]  \n",
    "    G.setNodeInitialQuality(c.tolist())\n",
    "    \n",
    "    qsp = G.getComputedTimeSeries().NodeQuality\n",
    "    \n",
    "    K[i, :] = np.max(qsp, axis=0) > 0"
   ],
   "outputs": [
    {
     "name": "stdout",
     "output_type": "stream",
     "text": [
      "Iteration 1\n",
      "Iteration 2\n",
      "Iteration 3\n",
      "Iteration 4\n",
      "Iteration 5\n",
      "Iteration 6\n",
      "Iteration 7\n",
      "Iteration 8\n",
      "Iteration 9\n",
      "Iteration 10\n",
      "Iteration 11\n",
      "Iteration 12\n",
      "Iteration 13\n",
      "Iteration 14\n",
      "Iteration 15\n",
      "Iteration 16\n",
      "Iteration 17\n",
      "Iteration 18\n",
      "Iteration 19\n",
      "Iteration 20\n",
      "Iteration 21\n",
      "Iteration 22\n",
      "Iteration 23\n",
      "Iteration 24\n",
      "Iteration 25\n",
      "Iteration 26\n",
      "Iteration 27\n",
      "Iteration 28\n",
      "Iteration 29\n",
      "Iteration 30\n",
      "Iteration 31\n",
      "Iteration 32\n",
      "Iteration 33\n",
      "Iteration 34\n",
      "Iteration 35\n",
      "Iteration 36\n",
      "Iteration 37\n",
      "Iteration 38\n",
      "Iteration 39\n",
      "Iteration 40\n",
      "Iteration 41\n",
      "Iteration 42\n",
      "Iteration 43\n",
      "Iteration 44\n",
      "Iteration 45\n",
      "Iteration 46\n",
      "Iteration 47\n",
      "Iteration 48\n",
      "Iteration 49\n",
      "Iteration 50\n"
     ]
    }
   ],
   "execution_count": 45
  },
  {
   "cell_type": "markdown",
   "id": "266c171a60f00fe4",
   "metadata": {},
   "source": [
    "## Optimization problem\n",
    "  - Avoid having sensors to monitor the same area\n",
    "  - Some scenarios affect all nodes, and some others, may not affect any node.    \n",
    "\n",
    "This means: select those columns that have ones, so that there is at least one positive flag '1' in as many rows as possible  \n",
    "\n",
    "  - $Y   $  is the vector of \"scenario observability\" (number of scenarios × 1)\n",
    "  - $u $  is the solution, a binary vector (number of nodes × 1)\n",
    "  - $K $  is the coverage matrix (number of scenarios × number of nodes)\n",
    "\n",
    "                                        $$ Y = Ku $$\n",
    "\n",
    "The optimization problem is formed (in its simplest form) as  \n",
    "\n",
    "                                      $$ arg max f(u) $$  \n",
    "                                          \n",
    "                                      $$ u \\epsilon \\{0, 1\\}^N $$\n",
    "                                          \n",
    "                                      $$ Σ u_i = m $$    \n",
    "                                                  \n",
    "\n",
    "Where $f(u)$  is the objective function. The simplest function is \"the percentage of scenarios which can be 'detected' by the sensors\".\n",
    "We can have multiple functions, and in that case, we need multi-objective optimization. Solving for a single solution"
   ]
  },
  {
   "cell_type": "code",
   "id": "94bcc46b0258b83e",
   "metadata": {
    "ExecuteTime": {
     "end_time": "2024-06-13T09:29:23.490480Z",
     "start_time": "2024-06-13T09:29:23.481200Z"
    }
   },
   "source": [
    "# random selection of nodes\n",
    "np.random.seed(1)\n",
    "Nsensors = 5    # number of sensors\n",
    "print('Nsensors =', Nsensors)"
   ],
   "outputs": [
    {
     "name": "stdout",
     "output_type": "stream",
     "text": [
      "Nsensors = 5\n"
     ]
    }
   ],
   "execution_count": 46
  },
  {
   "cell_type": "code",
   "id": "c2c2468ada13012d",
   "metadata": {
    "ExecuteTime": {
     "end_time": "2024-06-13T09:29:23.506191Z",
     "start_time": "2024-06-13T09:29:23.493493Z"
    }
   },
   "source": [
    "from math import comb\n",
    "\n",
    "total_combinations = comb(Nnodes, Nsensors) # 275 Millions for 5 sensors in 129 nodes\n",
    "print('total_combinations =', total_combinations)"
   ],
   "outputs": [
    {
     "name": "stdout",
     "output_type": "stream",
     "text": [
      "total_combinations = 275234400\n"
     ]
    }
   ],
   "execution_count": 47
  },
  {
   "cell_type": "code",
   "id": "a309a54901a4926b",
   "metadata": {
    "ExecuteTime": {
     "end_time": "2024-06-13T09:29:23.539127Z",
     "start_time": "2024-06-13T09:29:23.519180Z"
    }
   },
   "source": [
    "# Create a random solution\n",
    "s = np.random.permutation(Nnodes)[:Nsensors] # return random\n",
    "print('s =', s)"
   ],
   "outputs": [
    {
     "name": "stdout",
     "output_type": "stream",
     "text": [
      "s = [122 104  55  56  33]\n"
     ]
    }
   ],
   "execution_count": 48
  },
  {
   "cell_type": "code",
   "id": "31ea322f26223532",
   "metadata": {
    "ExecuteTime": {
     "end_time": "2024-06-13T09:29:23.566117Z",
     "start_time": "2024-06-13T09:29:23.545114Z"
    }
   },
   "source": [
    "# solution\n",
    "u = np.zeros((Nnodes, 1))\n",
    "u[s-1] = 1\n",
    "# compute output\n",
    "Y = np.dot(K, u)\n",
    "print('Y =\\n', Y)"
   ],
   "outputs": [
    {
     "name": "stdout",
     "output_type": "stream",
     "text": [
      "Y =\n",
      " [[0.]\n",
      " [0.]\n",
      " [0.]\n",
      " [0.]\n",
      " [5.]\n",
      " [5.]\n",
      " [0.]\n",
      " [5.]\n",
      " [0.]\n",
      " [0.]\n",
      " [0.]\n",
      " [0.]\n",
      " [0.]\n",
      " [0.]\n",
      " [5.]\n",
      " [0.]\n",
      " [5.]\n",
      " [2.]\n",
      " [0.]\n",
      " [0.]\n",
      " [0.]\n",
      " [1.]\n",
      " [5.]\n",
      " [0.]\n",
      " [5.]\n",
      " [0.]\n",
      " [0.]\n",
      " [5.]\n",
      " [5.]\n",
      " [0.]\n",
      " [5.]\n",
      " [5.]\n",
      " [0.]\n",
      " [0.]\n",
      " [0.]\n",
      " [5.]\n",
      " [0.]\n",
      " [0.]\n",
      " [5.]\n",
      " [0.]\n",
      " [5.]\n",
      " [2.]\n",
      " [5.]\n",
      " [0.]\n",
      " [5.]\n",
      " [5.]\n",
      " [5.]\n",
      " [0.]\n",
      " [0.]\n",
      " [0.]]\n"
     ]
    }
   ],
   "execution_count": 49
  },
  {
   "cell_type": "code",
   "id": "6405175cb0701eba",
   "metadata": {
    "ExecuteTime": {
     "end_time": "2024-06-13T09:29:23.583119Z",
     "start_time": "2024-06-13T09:29:23.570117Z"
    }
   },
   "source": [
    "# How many non-zero elements in Y?\n",
    "perc_coverage = np.sum(Y > 0) / Nsensors * 100\n",
    "print('perc_coverage =', perc_coverage)"
   ],
   "outputs": [
    {
     "name": "stdout",
     "output_type": "stream",
     "text": [
      "perc_coverage = 420.0\n"
     ]
    }
   ],
   "execution_count": 50
  },
  {
   "cell_type": "code",
   "id": "6d317ff06aa9b664",
   "metadata": {
    "ExecuteTime": {
     "end_time": "2024-06-13T09:29:23.598017Z",
     "start_time": "2024-06-13T09:29:23.587118Z"
    }
   },
   "source": [
    "# *Larger scenario dataset*"
   ],
   "outputs": [],
   "execution_count": 51
  },
  {
   "cell_type": "markdown",
   "id": "2219407eb1edfb47",
   "metadata": {},
   "source": [
    "  - How many scenarios should we create?\n",
    "  - In general, the more scenarios, the more robust your solution\n",
    "  - Simulate contamination events at different time steps\n",
    "  - Simulate different hydraulic conditions   \n",
    "  \n",
    "#### Load results from BWSN 2006 competition (37K scenarios)"
   ]
  },
  {
   "cell_type": "code",
   "id": "56eecc96cf0b7daf",
   "metadata": {
    "ExecuteTime": {
     "end_time": "2024-06-13T09:29:23.679081Z",
     "start_time": "2024-06-13T09:29:23.601005Z"
    }
   },
   "source": [
    "import scipy.io\n",
    "\n",
    "# Load Kall.mat\n",
    "data = scipy.io.loadmat('Kall.mat')\n",
    "Kall = data['Kall']\n",
    "\n",
    "# Get the size of Kall\n",
    "Nsall, _ = Kall.shape\n",
    "print('Nsall =', Nsall)"
   ],
   "outputs": [
    {
     "name": "stdout",
     "output_type": "stream",
     "text": [
      "Nsall = 37152\n"
     ]
    }
   ],
   "execution_count": 52
  },
  {
   "cell_type": "markdown",
   "id": "c7a2f61849ee4c40",
   "metadata": {},
   "source": [
    "#### Repeat solution computation for the larger dataset"
   ]
  },
  {
   "cell_type": "code",
   "id": "8dce6234cde2f09c",
   "metadata": {
    "ExecuteTime": {
     "end_time": "2024-06-13T09:29:23.698580Z",
     "start_time": "2024-06-13T09:29:23.684063Z"
    }
   },
   "source": [
    "Nsensors = 5    # number of sensors\n",
    "print('Nsensors =', Nsensors)"
   ],
   "outputs": [
    {
     "name": "stdout",
     "output_type": "stream",
     "text": [
      "Nsensors = 5\n"
     ]
    }
   ],
   "execution_count": 53
  },
  {
   "cell_type": "code",
   "id": "a67d66f425ae9df8",
   "metadata": {
    "ExecuteTime": {
     "end_time": "2024-06-13T09:29:23.715115Z",
     "start_time": "2024-06-13T09:29:23.705582Z"
    }
   },
   "source": [
    "# Create a random solution\n",
    "s = np.random.permutation(Nnodes)[:Nsensors]\n",
    "print('s =', s)"
   ],
   "outputs": [
    {
     "name": "stdout",
     "output_type": "stream",
     "text": [
      "s = [ 67  37   1 122  89]\n"
     ]
    }
   ],
   "execution_count": 54
  },
  {
   "cell_type": "code",
   "id": "e8f3ba3714d5f3a",
   "metadata": {
    "ExecuteTime": {
     "end_time": "2024-06-13T09:29:23.767367Z",
     "start_time": "2024-06-13T09:29:23.718637Z"
    }
   },
   "source": [
    "# Solution\n",
    "u = np.zeros((Nnodes, 1))\n",
    "u[s - 1] = 1 \n",
    "# Compute output\n",
    "Y = np.dot(Kall, u)\n",
    "# How many non-zero elements in Y?\n",
    "perc_coverage = np.sum(Y > 0) / Nsall * 100\n",
    "print('perc_coverage =', perc_coverage)"
   ],
   "outputs": [
    {
     "name": "stdout",
     "output_type": "stream",
     "text": [
      "perc_coverage = 50.837101636520245\n"
     ]
    }
   ],
   "execution_count": 55
  },
  {
   "cell_type": "code",
   "id": "13f8d2539dd4af49",
   "metadata": {
    "ExecuteTime": {
     "end_time": "2024-06-13T09:29:23.781840Z",
     "start_time": "2024-06-13T09:29:23.772356Z"
    }
   },
   "source": [
    "# *Randomized solutions for multiple sensors*\n",
    "# How many sensors to install? Let's create a lot of random solutions\n",
    " \n",
    "epochs = 1000\n",
    "print('epochs =', epochs)"
   ],
   "outputs": [
    {
     "name": "stdout",
     "output_type": "stream",
     "text": [
      "epochs = 1000\n"
     ]
    }
   ],
   "execution_count": 56
  },
  {
   "cell_type": "code",
   "id": "475aeb961b008e78",
   "metadata": {
    "ExecuteTime": {
     "end_time": "2024-06-13T09:29:23.796358Z",
     "start_time": "2024-06-13T09:29:23.785824Z"
    }
   },
   "source": [
    "maxsensors = 20\n",
    "print('maxsensors =', maxsensors)"
   ],
   "outputs": [
    {
     "name": "stdout",
     "output_type": "stream",
     "text": [
      "maxsensors = 20\n"
     ]
    }
   ],
   "execution_count": 57
  },
  {
   "cell_type": "code",
   "id": "933fbe812515bf1a",
   "metadata": {
    "ExecuteTime": {
     "end_time": "2024-06-13T09:29:52.181301Z",
     "start_time": "2024-06-13T09:29:23.799880Z"
    }
   },
   "source": [
    "fx = np.zeros((epochs, 2))\n",
    "\n",
    "for i in range(epochs):\n",
    "    ns = np.random.randint(1, maxsensors + 1)  \n",
    "    s = np.random.permutation(Nnodes)[:ns]  \n",
    "    u = np.zeros((Nnodes, 1))\n",
    "    u[s - 1] = 1  \n",
    "    Y = np.dot(Kall, u)\n",
    "    fx[i, :] = [ns, np.sum(Y > 0) / Nsall * 100]\n",
    "    \n",
    "print('fx =\\n', fx.shape)"
   ],
   "outputs": [
    {
     "name": "stdout",
     "output_type": "stream",
     "text": [
      "fx =\n",
      " (1000, 2)\n"
     ]
    }
   ],
   "execution_count": 58
  },
  {
   "cell_type": "markdown",
   "id": "a0f5ca100cba4cac",
   "metadata": {},
   "source": [
    "Plotting the results"
   ]
  },
  {
   "cell_type": "code",
   "id": "d4e7423fc1863775",
   "metadata": {
    "ExecuteTime": {
     "end_time": "2024-06-13T09:29:52.797890Z",
     "start_time": "2024-06-13T09:29:52.181301Z"
    }
   },
   "source": [
    "import matplotlib.pyplot as plt\n",
    "\n",
    "# Plot individual points\n",
    "plt.plot(fx[:, 0], fx[:, 1], 'x', markersize=3)\n",
    "\n",
    "# Plot settings\n",
    "plt.grid(True)\n",
    "plt.xlabel('Number of Sensors', fontsize=8)\n",
    "plt.ylabel('Percentage Coverage', fontsize=8)\n",
    "plt.title('Percentage Coverage vs Number of Sensors', fontsize=10)\n",
    "\n",
    "plt.ylim(0, 90)\n",
    "plt.yticks(range(0, 90, 20))\n",
    "\n",
    "plt.xlim(0, 20)\n",
    "plt.xticks(range(0, 21, 4))\n",
    "\n",
    "# Find maximum coverage for each number of sensors\n",
    "maxfx = np.zeros((maxsensors, 2))\n",
    "for i in range(1, maxsensors + 1):\n",
    "    maxfx[i - 1] = [i, np.max(fx[fx[:, 0] == i, 1])]\n",
    "\n",
    "# Plot maximum coverage\n",
    "plt.plot(maxfx[:, 0], maxfx[:, 1], 'r-')\n",
    "\n",
    "plt.show()\n"
   ],
   "outputs": [
    {
     "data": {
      "text/plain": [
       "<Figure size 900x600 with 1 Axes>"
      ],
      "image/png": "[encoded data removed]"
     },
     "metadata": {},
     "output_type": "display_data"
    }
   ],
   "execution_count": 59
  },
  {
   "cell_type": "markdown",
   "id": "daa37de507ae07e9",
   "metadata": {},
   "source": [
    "<b>Question:</b> Is this a valid way of solving problems\n",
    "## Solving the optimization problem\n",
    "  - Integer/Mixed Integer Quadradic Programming\n",
    "  - Evolutionary Optimization (Single-objective)\n",
    "  - Evolutionary Optimization (Multi-objective) Genetic algorithms"
   ]
  },
  {
   "cell_type": "code",
   "id": "6bbdb439715fe1c",
   "metadata": {
    "ExecuteTime": {
     "end_time": "2024-06-13T09:29:52.812326Z",
     "start_time": "2024-06-13T09:29:52.801521Z"
    }
   },
   "source": [
    "np.random.seed(2)\n",
    "Nsensors = 5\n",
    "print('Nsensors =', Nsensors)"
   ],
   "outputs": [
    {
     "name": "stdout",
     "output_type": "stream",
     "text": [
      "Nsensors = 5\n"
     ]
    }
   ],
   "execution_count": 60
  },
  {
   "cell_type": "code",
   "id": "db61f497274dbd8a",
   "metadata": {
    "ExecuteTime": {
     "end_time": "2024-06-13T09:29:52.824954Z",
     "start_time": "2024-06-13T09:29:52.814211Z"
    }
   },
   "source": [
    "Nsall, Nnodes = Kall.shape\n",
    "print('Nsall =', Nsall)\n",
    "print('Nnodes =', Nnodes)"
   ],
   "outputs": [
    {
     "name": "stdout",
     "output_type": "stream",
     "text": [
      "Nsall = 37152\n",
      "Nnodes = 129\n"
     ]
    }
   ],
   "execution_count": 61
  },
  {
   "cell_type": "code",
   "id": "12695da21c7f7866",
   "metadata": {
    "ExecuteTime": {
     "end_time": "2024-06-13T09:29:52.837761Z",
     "start_time": "2024-06-13T09:29:52.825461Z"
    }
   },
   "source": [
    "def gafunc(x):\n",
    "    return calc_score(x, Kall, Nsall)"
   ],
   "outputs": [],
   "execution_count": 62
  },
  {
   "cell_type": "code",
   "id": "953d90e5f83dfa9e",
   "metadata": {
    "ExecuteTime": {
     "end_time": "2024-06-13T09:29:52.845767Z",
     "start_time": "2024-06-13T09:29:52.838575Z"
    }
   },
   "source": [],
   "outputs": [],
   "execution_count": 62
  },
  {
   "cell_type": "code",
   "id": "d44d25f788d1b678",
   "metadata": {
    "ExecuteTime": {
     "end_time": "2024-06-13T09:29:52.856980Z",
     "start_time": "2024-06-13T09:29:52.846091Z"
    }
   },
   "source": [
    "def calc_score(x, Kall, Nsall):\n",
    "    # Calculate the score\n",
    "    scores = np.max(Kall[:, np.round(x).astype(int)], axis=1)\n",
    "    score = -np.sum(scores) / Nsall * 100\n",
    "    return score\n"
   ],
   "outputs": [],
   "execution_count": 63
  },
  {
   "cell_type": "code",
   "id": "16ce8f69b7dfcacb",
   "metadata": {
    "ExecuteTime": {
     "end_time": "2024-06-13T09:29:52.870881Z",
     "start_time": "2024-06-13T09:29:52.856980Z"
    }
   },
   "source": [
    "def calc_score_multi(x, Kall, Nsall, Tall):\n",
    "    score1 = -np.sum(np.max(Kall[:, np.round(x).astype(int)], axis=1)) / Nsall * 100\n",
    "    score2 = np.median(np.min(Tall[:, np.round(x).astype(int)], axis=1))\n",
    "    return [score1, score2]"
   ],
   "outputs": [],
   "execution_count": 64
  }
 ],
 "metadata": {
  "kernelspec": {
   "display_name": "Python 3",
   "language": "python",
   "name": "python3"
  },
  "language_info": {
   "codemirror_mode": {
    "name": "ipython",
    "version": 2
   },
   "file_extension": ".py",
   "mimetype": "text/x-python",
   "name": "python",
   "nbconvert_exporter": "python",
   "pygments_lexer": "ipython2",
   "version": "2.7.6"
  }
 },
 "nbformat": 4,
 "nbformat_minor": 5
}
