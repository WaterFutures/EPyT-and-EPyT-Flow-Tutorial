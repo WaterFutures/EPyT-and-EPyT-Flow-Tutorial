{
 "cells": [
  {
   "cell_type": "markdown",
   "metadata": {},
   "source": [
    "### Simple example\n",
    "\n",
    "The `EPyT` python class, epanet, includes properties of the input network model, static properties, public functions, and local functions that directly call the `EPANET` shared object library or the executable. The full API with detailed examples is provided in the link. In the following paragraphs, we introduce a selection of the capabilities of the tool and an illustrative smart water research example.\n",
    "\n",
    "Through `EPyT`, users can easily load EPANET network models, as demonstrated by importing the module and loading the `Net1.inp` network in a provided example."
   ]
  },
  {
   "cell_type": "markdown",
   "metadata": {},
   "source": [
    "### Initialize EPANET Python Toolkit (EPyT)\n",
    "\n",
    "You should always begin with this command to import the toolkit.\n",
    "\n",
    "[EPyT](https://github.com/OpenWaterAnalytics/EPyT) is available on [PyPI](https://pypi.org/project/epyt/) and can be installed via `pip install epyt`. To upgrade to the latest version if it's already installed, use `pip install --upgrade epyt`."
   ]
  },
  {
   "cell_type": "code",
   "execution_count": null,
   "metadata": {},
   "outputs": [],
   "source": [
    "%pip install epyt"
   ]
  },
  {
   "cell_type": "code",
   "execution_count": null,
   "metadata": {
    "collapsed": false,
    "jupyter": {
     "outputs_hidden": false
    }
   },
   "outputs": [],
   "source": [
    "from epyt import epanet"
   ]
  },
  {
   "cell_type": "code",
   "execution_count": null,
   "metadata": {
    "collapsed": false,
    "jupyter": {
     "outputs_hidden": false
    }
   },
   "outputs": [],
   "source": [
    "# Load EPANET Input File\n",
    "G = epanet('Net1.inp')"
   ]
  },
  {
   "cell_type": "markdown",
   "metadata": {},
   "source": [
    "In this example, `G` is an epanet object which can be defined mathematically as the set comprised of the network graph topology (such as nodes and links), structural parameters (such as pipe lengths, diameters, etc.), and functions (such as hydraulic solvers, etc.). `G` can also be shared between different functions as an argument.\n",
    "\n",
    "When the object is constructed, the module reads the `EPANET` input network file and populates more than 500 object parameters. To view some of the parameters and receive assistance with respect to the methods, the user can use the following commands:"
   ]
  },
  {
   "cell_type": "code",
   "execution_count": null,
   "metadata": {
    "collapsed": false,
    "jupyter": {
     "outputs_hidden": false
    }
   },
   "outputs": [],
   "source": [
    "# Lists all available functions and properties\n",
    "dir(G)"
   ]
  },
  {
   "cell_type": "code",
   "execution_count": null,
   "metadata": {
    "collapsed": false,
    "jupyter": {
     "outputs_hidden": false
    }
   },
   "outputs": [],
   "source": [
    "# Retrieve some examples for the function\n",
    "help(G.getNodeElevations)"
   ]
  },
  {
   "cell_type": "code",
   "execution_count": null,
   "metadata": {
    "collapsed": false,
    "jupyter": {
     "outputs_hidden": false
    }
   },
   "outputs": [],
   "source": [
    "# Retrieve Link diameters\n",
    "diameters = G.getLinkDiameter()\n",
    "print(diameters)"
   ]
  },
  {
   "cell_type": "code",
   "execution_count": null,
   "metadata": {
    "collapsed": false,
    "jupyter": {
     "outputs_hidden": false
    }
   },
   "outputs": [],
   "source": [
    "# Retrieve Node elevations\n",
    "elevations = G.getNodeElevations()\n",
    "print(elevations)"
   ]
  },
  {
   "cell_type": "code",
   "execution_count": null,
   "metadata": {
    "collapsed": false,
    "jupyter": {
     "outputs_hidden": false
    }
   },
   "outputs": [],
   "source": [
    "# Link diameter for links 2 & 10\n",
    "diameters = G.getLinkDiameter([2, 10])\n",
    "print(diameters)"
   ]
  },
  {
   "cell_type": "code",
   "execution_count": null,
   "metadata": {
    "collapsed": false,
    "jupyter": {
     "outputs_hidden": false
    }
   },
   "outputs": [],
   "source": [
    "# Update the link 10 diameter from 100 to 90\n",
    "G.setLinkDiameter(10, 90)\n",
    "# Retrieve the diameter of link 10\n",
    "n_diameter = G.getLinkDiameter(10)\n",
    "print(n_diameter)"
   ]
  },
  {
   "cell_type": "code",
   "execution_count": null,
   "metadata": {
    "collapsed": false,
    "jupyter": {
     "outputs_hidden": false
    }
   },
   "outputs": [],
   "source": [
    "# Solve hydraulics in library\n",
    "# H = G.getComputedHydraulicTimeSeries()\n",
    "\n",
    "# Solve quality dynamics in library\n",
    "# Q = G.getComputedQualityTimeSeries()\n",
    "\n",
    "# Solve all dynamics in library, create a binary file to store the computed values\n",
    "R = G.getComputedTimeSeries()"
   ]
  },
  {
   "cell_type": "code",
   "execution_count": null,
   "metadata": {
    "collapsed": false,
    "jupyter": {
     "outputs_hidden": false
    }
   },
   "outputs": [],
   "source": [
    "# Plot link flows and quality\n",
    "hrs_time = R.Time / 3600\n",
    "link_indices = [1, 3, 5, 10]\n",
    "link_names = G.getLinkNameID(link_indices)\n",
    "G.plot_ts(X=hrs_time, Y=R.Flow[:, link_indices],\n",
    "          title=f'Flow, Link IDs: {link_names}', figure_size=[4, 3], legend_location='best',\n",
    "          xlabel='Time (hrs)', ylabel=f'Flow ({G.units.LinkFlowUnits})',\n",
    "          marker=None, labels=link_names, save_fig=True) #, filename='figures/paper_flows')\n",
    "G.plot_ts(X=hrs_time, Y=R.LinkQuality[:, link_indices],\n",
    "          title=f'Quality, Link IDs: {link_names}', legend_location='best',\n",
    "          xlabel='Time (hrs)', ylabel=f'Quality', figure_size=[4, 3],\n",
    "          marker=None, labels=link_names, save_fig=True) #, filename='figures/paper_link_quality')\n",
    "\n",
    "# Plot node pressures and quality\n",
    "node_indices = [2, 4, 6, 10]\n",
    "node_names = G.getNodeNameID(node_indices)\n",
    "G.plot_ts(X=hrs_time, Y=R.Pressure[:, node_indices], legend_location='best',\n",
    "          title=f'Pressure, Node IDs: {node_names}', figure_size=[4, 3],\n",
    "          xlabel='Time (hrs)', ylabel=f'Pressure ({G.units.NodePressureUnits})',\n",
    "          marker=None, labels=node_names, save_fig=True) #, filename='figures/paper_pressures')\n",
    "\n",
    "G.plot_ts(X=hrs_time, Y=R.NodeQuality[:, node_indices],\n",
    "          title=f'Quality, Node IDs: {node_names}', legend_location='best',\n",
    "          xlabel='Time (hrs)', ylabel=f'Quality', figure_size=[4, 3],\n",
    "          marker=None, labels=node_names, save_fig=True) #, filename='figures/paper_node_quality')\n"
   ]
  },
  {
   "cell_type": "markdown",
   "metadata": {},
   "source": [
    "#### Unload library"
   ]
  },
  {
   "cell_type": "code",
   "execution_count": null,
   "metadata": {},
   "outputs": [],
   "source": [
    "G.unload()"
   ]
  }
 ],
 "metadata": {
  "kernelspec": {
   "display_name": "Python 3 (Spyder)",
   "language": "python3",
   "name": "python3"
  },
  "language_info": {
   "codemirror_mode": {
    "name": "ipython",
    "version": 3
   },
   "file_extension": ".py",
   "mimetype": "text/x-python",
   "name": "python",
   "nbconvert_exporter": "python",
   "pygments_lexer": "ipython3",
   "version": "3.10.14"
  }
 },
 "nbformat": 4,
 "nbformat_minor": 4
}
